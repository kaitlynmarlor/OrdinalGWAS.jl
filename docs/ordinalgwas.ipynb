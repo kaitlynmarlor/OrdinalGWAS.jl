{
 "cells": [
  {
   "cell_type": "markdown",
   "metadata": {},
   "source": [
    "# OrdinalGWAS.jl"
   ]
  },
  {
   "cell_type": "markdown",
   "metadata": {},
   "source": [
    "OrdinalGWAS.jl is a Julia package for performing genome-wide association studies (GWAS) for ordered categorical phenotypes using [proportional odds model](https://en.wikipedia.org/wiki/Ordered_logit) or [ordred Probit model](https://en.wikipedia.org/wiki/Ordered_probit). It is useful when the phenotype takes ordered discrete values, e.g., disease status (undiagnosed, pre-disease, mild, moderate, severe). \n",
    "\n",
    "The methods and applications of this software package are detailed in the following publication:\n",
    "\n",
    "*German CA, Sinsheimer JS, Klimentidis YC, Zhou H, Zhou JJ. (2020) Ordered multinomial regression for genetic association analysis of ordinal phenotypes at Biobank scale. Genetic Epidemiology. 44:248-260. [https://doi.org/10.1002/gepi.22276](https://doi.org/10.1002/gepi.22276)*\n",
    "\n",
    "OrdinalGWAS.jl currently supports [PLINK](https://zzz.bwh.harvard.edu/plink/), [VCF](https://en.wikipedia.org/wiki/Variant_Call_Format) (both dosage and genotype data) file formats, and [BGEN](https://www.well.ox.ac.uk/~gav/bgen_format/) file formats. We plan to add [PGEN](https://www.cog-genomics.org/plink/2.0/formats#pgen) support in the future. \n",
    "\n",
    "## Installation\n",
    "\n",
    "This package requires Julia v1.6 or later and four other unregistered packages SnpArrays.jl, VCFTools.jl, BGEN.jl, and OrdinalMultinomialModels.jl. The package has not yet been registered and must be installed using the repository location. Start julia and use the ] key to switch to the package manager REPL and run:\n",
    "```julia\n",
    "(@v1.6) pkg> add https://github.com/OpenMendel/SnpArrays.jl\n",
    "(@v1.6) pkg> add https://github.com/OpenMendel/VCFTools.jl\n",
    "(@v1.6) pkg> add https://github.com/OpenMendel/BGEN.jl\n",
    "(@v1.6) pkg> add https://github.com/OpenMendel/OrdinalMultinomialModels.jl\n",
    "(@v1.6) pkg> add https://github.com/OpenMendel/OrdinalGWAS.jl\n",
    "```"
   ]
  },
  {
   "cell_type": "code",
   "execution_count": 2,
   "metadata": {},
   "outputs": [
    {
     "name": "stdout",
     "output_type": "stream",
     "text": [
      "Julia Version 1.6.0\n",
      "Commit f9720dc2eb (2021-03-24 12:55 UTC)\n",
      "Platform Info:\n",
      "  OS: macOS (x86_64-apple-darwin19.6.0)\n",
      "  CPU: Intel(R) Core(TM) i7-4850HQ CPU @ 2.30GHz\n",
      "  WORD_SIZE: 64\n",
      "  LIBM: libopenlibm\n",
      "  LLVM: libLLVM-11.0.1 (ORCJIT, haswell)\n",
      "Environment:\n",
      "  JULIA_NUM_THREADS = 4\n"
     ]
    }
   ],
   "source": [
    "# machine information for this tutorial\n",
    "versioninfo()"
   ]
  },
  {
   "cell_type": "code",
   "execution_count": 3,
   "metadata": {},
   "outputs": [],
   "source": [
    "# for use in this tutorial\n",
    "using BenchmarkTools, CSV, Glob, SnpArrays, OrdinalGWAS, DataFrames"
   ]
  },
  {
   "cell_type": "markdown",
   "metadata": {},
   "source": [
    "## Example data sets\n",
    "\n",
    "The `data` folder of the package contains the example data sets for use with PLINK and VCF Files. In general, the user can locate this folder by command:"
   ]
  },
  {
   "cell_type": "code",
   "execution_count": 4,
   "metadata": {},
   "outputs": [
    {
     "data": {
      "text/plain": [
       "\"/Users/christophergerman/.julia/dev/OrdinalGWAS/data/\""
      ]
     },
     "execution_count": 4,
     "metadata": {},
     "output_type": "execute_result"
    }
   ],
   "source": [
    "using OrdinalGWAS\n",
    "const datadir = normpath(joinpath(dirname(pathof(OrdinalGWAS)), \"../data/\"))"
   ]
  },
  {
   "cell_type": "code",
   "execution_count": 5,
   "metadata": {},
   "outputs": [
    {
     "data": {
      "text/plain": [
       "16-element Vector{String}:\n",
       " \"/Users/christophergerman/.julia/dev/OrdinalGWAS/data/bgen_ex.csv\"\n",
       " \"/Users/christophergerman/.julia/dev/OrdinalGWAS/data/bgen_snpsetfile.txt\"\n",
       " \"/Users/christophergerman/.julia/dev/OrdinalGWAS/data/bgen_test.bgen\"\n",
       " \"/Users/christophergerman/.julia/dev/OrdinalGWAS/data/bgen_test.bgen.bgi\"\n",
       " \"/Users/christophergerman/.julia/dev/OrdinalGWAS/data/covariate.txt\"\n",
       " \"/Users/christophergerman/.julia/dev/OrdinalGWAS/data/hapmap3.bed\"\n",
       " \"/Users/christophergerman/.julia/dev/OrdinalGWAS/data/hapmap3.bim\"\n",
       " \"/Users/christophergerman/.julia/dev/OrdinalGWAS/data/hapmap3.fam\"\n",
       " \"/Users/christophergerman/.julia/dev/OrdinalGWAS/data/hapmap3.map\"\n",
       " \"/Users/christophergerman/.julia/dev/OrdinalGWAS/data/hapmap_snpsetfile.txt\"\n",
       " \"/Users/christophergerman/.julia/dev/OrdinalGWAS/data/simtrait.jl\"\n",
       " \"/Users/christophergerman/.julia/dev/OrdinalGWAS/data/simtrait_bgen.jl\"\n",
       " \"/Users/christophergerman/.julia/dev/OrdinalGWAS/data/simtrait_vcf.jl\"\n",
       " \"/Users/christophergerman/.julia/dev/OrdinalGWAS/data/snpsetfile_vcf.txt\"\n",
       " \"/Users/christophergerman/.julia/dev/OrdinalGWAS/data/vcf_example.csv\"\n",
       " \"/Users/christophergerman/.julia/dev/OrdinalGWAS/data/vcf_test.vcf.gz\""
      ]
     },
     "execution_count": 5,
     "metadata": {},
     "output_type": "execute_result"
    }
   ],
   "source": [
    "# content of the data folder\n",
    "readdir(glob\"*.*\", datadir)"
   ]
  },
  {
   "cell_type": "markdown",
   "metadata": {},
   "source": [
    "The `hapmap3` files `covariate.txt` file correspond to data examples using PLINK formatted files (.bed, .bim, .fam). \n",
    "\n",
    "The `vcf_test.vcf.gz` and `vcf_example.csv` files are for an example analysis using VCF formatted files. \n"
   ]
  },
  {
   "cell_type": "markdown",
   "metadata": {},
   "source": [
    "## Basic usage\n",
    "\n",
    "The following command performs GWAS using the [proportional odds model](https://en.wikipedia.org/wiki/Ordered_logit) for the hapmap3 PLINK files. The output is the fitted null model.\n",
    "\n",
    "The default type of GWAS performed is a single-snp significance genome-wide scan, this can be changed by the keyword `analysistype` (default is \"singlesnp\"). Other types of analyses are gone over later. "
   ]
  },
  {
   "cell_type": "code",
   "execution_count": 6,
   "metadata": {},
   "outputs": [
    {
     "data": {
      "text/plain": [
       "StatsModels.TableRegressionModel{OrdinalMultinomialModel{Int64, Float64, LogitLink}, Matrix{Float64}}\n",
       "\n",
       "trait ~ sex\n",
       "\n",
       "Coefficients:\n",
       "──────────────────────────────────────────────────────\n",
       "               Estimate  Std.Error   t value  Pr(>|t|)\n",
       "──────────────────────────────────────────────────────\n",
       "intercept1|2  -1.48564    0.358891  -4.13952    <1e-04\n",
       "intercept2|3  -0.569479   0.341044  -1.66981    0.0959\n",
       "intercept3|4   0.429815   0.339642   1.26549    0.2066\n",
       "sex            0.424656   0.213914   1.98517    0.0480\n",
       "──────────────────────────────────────────────────────"
      ]
     },
     "execution_count": 6,
     "metadata": {},
     "output_type": "execute_result"
    }
   ],
   "source": [
    "ordinalgwas(@formula(trait ~ sex), datadir * \"covariate.txt\", datadir * \"hapmap3\")"
   ]
  },
  {
   "cell_type": "markdown",
   "metadata": {},
   "source": [
    "For documentation of the `ordinalgwas` function, type `?ordinalgwas` in Julia REPL.\n",
    "```@docs\n",
    "ordinalgwas\n",
    "```"
   ]
  },
  {
   "cell_type": "markdown",
   "metadata": {},
   "source": [
    "### Formula for null model\n",
    "\n",
    "The first argument specifies the null model without SNP effects, e.g., `@formula(trait ~ sex)`."
   ]
  },
  {
   "cell_type": "markdown",
   "metadata": {},
   "source": [
    "### Input files\n",
    "\n",
    "`ordinalgwas` expects two input files: one for responses plus covariates (second argument), the other the genetic file(s) for dosages/genotypes (third argument).\n",
    "\n",
    "#### Covariate and trait file\n",
    "\n",
    "Covariates and phenotype are provided in a csv file, e.g., `covariate.txt`, which has one header line for variable names. In this example, variable `trait` is the ordered categorical phenotypes coded as integers 1 to 4. We want to include variable `sex` as the covariate in GWAS."
   ]
  },
  {
   "cell_type": "code",
   "execution_count": 7,
   "metadata": {},
   "outputs": [
    {
     "name": "stdout",
     "output_type": "stream",
     "text": [
      "famid,perid,faid,moid,sex,trait\n",
      "2431,NA19916,0,0,1,4\n",
      "2424,NA19835,0,0,2,4\n",
      "2469,NA20282,0,0,2,4\n",
      "2368,NA19703,0,0,1,3\n",
      "2425,NA19901,0,0,2,3\n",
      "2427,NA19908,0,0,1,4\n",
      "2430,NA19914,0,0,2,4\n",
      "2470,NA20287,0,0,2,1\n",
      "2436,NA19713,0,0,2,3\n"
     ]
    }
   ],
   "source": [
    "run(`head $(datadir)covariate.txt`);"
   ]
  },
  {
   "cell_type": "markdown",
   "metadata": {},
   "source": [
    "#### Genetic file(s)\n",
    "\n",
    "OrdinalGWAS supports PLINK, VCF, and BGEN Files.\n",
    "\n",
    "- Genotype data is available as binary PLINK files.\n",
    "\n",
    "- OrdinalGWAS can use dosage or genotype data from VCF Files. \n",
    "\n",
    "- OrdinalGWAS can use dosage data from BGEN files.   \n",
    "\n",
    "!!! note\n",
    "\n",
    "    By default, OrdinalGWAS assumes a set of PLINK files will be used. When using a VCF File, VCF file and type of data (dosage, genotype) must be specified by the `geneticformat` and `vcftype` options (as shown later). Similarly, BGEN must be specified as the `geneticformat` if using a BGEN file. "
   ]
  },
  {
   "cell_type": "code",
   "execution_count": 8,
   "metadata": {},
   "outputs": [
    {
     "data": {
      "text/plain": [
       "4-element Vector{String}:\n",
       " \"/Users/christophergerman/.julia/dev/OrdinalGWAS/data/hapmap3.bed\"\n",
       " \"/Users/christophergerman/.julia/dev/OrdinalGWAS/data/hapmap3.bim\"\n",
       " \"/Users/christophergerman/.julia/dev/OrdinalGWAS/data/hapmap3.fam\"\n",
       " \"/Users/christophergerman/.julia/dev/OrdinalGWAS/data/hapmap3.map\""
      ]
     },
     "execution_count": 8,
     "metadata": {},
     "output_type": "execute_result"
    }
   ],
   "source": [
    "readdir(glob\"hapmap3.*\", datadir)"
   ]
  },
  {
   "cell_type": "markdown",
   "metadata": {},
   "source": [
    "In this example, there are 324 samples at 13,928 SNPs."
   ]
  },
  {
   "cell_type": "code",
   "execution_count": 9,
   "metadata": {},
   "outputs": [
    {
     "data": {
      "text/plain": [
       "(324, 13928)"
      ]
     },
     "execution_count": 9,
     "metadata": {},
     "output_type": "execute_result"
    }
   ],
   "source": [
    "size(SnpArray(datadir * \"hapmap3.bed\"))"
   ]
  },
  {
   "cell_type": "markdown",
   "metadata": {},
   "source": [
    "Compressed PLINK and VCF files are supported. For example, if Plink files are `hapmap3.bed.gz`, `hapmap3.bim.gz` and `hapmap3.fam.gz`, the same command\n",
    "```julia\n",
    "ordinalgwas(@formula(trait ~ sex), datadir * \"covariate.txt\", datadir * \"hapmap3\")\n",
    "```\n",
    "still works. Check all supported compression format by"
   ]
  },
  {
   "cell_type": "code",
   "execution_count": 10,
   "metadata": {},
   "outputs": [
    {
     "data": {
      "text/plain": [
       "6-element Vector{String}:\n",
       " \"gz\"\n",
       " \"zlib\"\n",
       " \"zz\"\n",
       " \"xz\"\n",
       " \"zst\"\n",
       " \"bz2\""
      ]
     },
     "execution_count": 10,
     "metadata": {},
     "output_type": "execute_result"
    }
   ],
   "source": [
    "SnpArrays.ALLOWED_FORMAT"
   ]
  },
  {
   "cell_type": "markdown",
   "metadata": {},
   "source": [
    "### Output files"
   ]
  },
  {
   "cell_type": "markdown",
   "metadata": {},
   "source": [
    "`ordinalgwas` outputs two files: `ordinalgwas.null.txt` and `ordinalgwas.pval.txt`. \n",
    "\n",
    "* `ordinalgwas.null.txt` lists the estimated null model (without SNPs). "
   ]
  },
  {
   "cell_type": "code",
   "execution_count": 11,
   "metadata": {},
   "outputs": [
    {
     "name": "stdout",
     "output_type": "stream",
     "text": [
      "StatsModels.TableRegressionModel{OrdinalMultinomialModel{Int64, Float64, LogitLink}, Matrix{Float64}}\n",
      "\n",
      "trait ~ sex\n",
      "\n",
      "Coefficients:\n",
      "──────────────────────────────────────────────────────\n",
      "               Estimate  Std.Error   t value  Pr(>|t|)\n",
      "──────────────────────────────────────────────────────\n",
      "intercept1|2  -1.48564    0.358891  -4.13952    <1e-04\n",
      "intercept2|3  -0.569479   0.341044  -1.66981    0.0959\n",
      "intercept3|4   0.429815   0.339642   1.26549    0.2066\n",
      "sex            0.424656   0.213914   1.98517    0.0480\n",
      "──────────────────────────────────────────────────────"
     ]
    }
   ],
   "source": [
    "run(`cat ordinalgwas.null.txt`);"
   ]
  },
  {
   "cell_type": "markdown",
   "metadata": {},
   "source": [
    "* `ordinalgwas.pval.txt` tallies the SNPs and their pvalues. "
   ]
  },
  {
   "cell_type": "code",
   "execution_count": 12,
   "metadata": {},
   "outputs": [
    {
     "name": "stdout",
     "output_type": "stream",
     "text": [
      "chr,pos,snpid,maf,hwepval,pval\n",
      "1,554484,rs10458597,0.0,1.0,1.0\n",
      "1,758311,rs12562034,0.07763975155279501,0.4098763332666681,0.004565312839534427\n",
      "1,967643,rs2710875,0.32407407407407407,4.076249100705747e-7,3.108283828553394e-5\n",
      "1,1168108,rs11260566,0.19158878504672894,0.1285682279446898,1.2168672367652875e-5\n",
      "1,1375074,rs1312568,0.441358024691358,2.5376019650614977e-19,0.008206860046174538\n",
      "1,1588771,rs35154105,0.0,1.0,1.0\n",
      "1,1789051,rs16824508,0.00462962962962965,0.9332783156468178,0.5111981332531635\n",
      "1,1990452,rs2678939,0.4537037037037037,5.07695957708431e-11,0.29972829571847\n",
      "1,2194615,rs7553178,0.22685185185185186,0.17056143157457776,0.17133312458048658\n"
     ]
    }
   ],
   "source": [
    "run(`head ordinalgwas.pval.txt`);"
   ]
  },
  {
   "cell_type": "markdown",
   "metadata": {},
   "source": [
    "Output file names can be changed by the `nullfile` and `pvalfile` keywords respectively. For example, \n",
    "```julia\n",
    "ordinalgwas(@formula(trait ~ sex), datadir * \"covariate.txt\", datadir * \"hapmap3\",\n",
    "    pvalfile=\"ordinalgwas.pval.txt.gz\")\n",
    "```\n",
    "will output the p-value file in compressed gz format."
   ]
  },
  {
   "cell_type": "markdown",
   "metadata": {},
   "source": [
    "### Subsamples\n",
    "\n",
    "Use the keyword `covrowinds` to specify selected samples in the covarite file. Use the keyword `geneticrowinds` to specify selected samples in the Plink bed file or VCF File. For example, to use the first 300 samples in both covariate and bed file:\n",
    "```julia\n",
    "ordinalgwas(@formula(trait ~ sex), covfile, geneticfile, \n",
    "    covrowinds=1:300, geneticrowinds=1:300)\n",
    "```\n",
    "!!! note\n",
    "\n",
    "    Users should always make sure that the selected samples in covariate file match exactly those in bed file. "
   ]
  },
  {
   "cell_type": "markdown",
   "metadata": {},
   "source": [
    "### Input non-genetic data as DataFrame\n",
    "\n",
    "Internally `ordinalgwas` parses the covariate file as a DataFrame by `CSV.read(covfile)`. For covariate file of other formats, users can parse it as a DataFrame and then input the DataFrame to `ordinalgwas` directly.\n",
    "```julia\n",
    "ordinalgwas(@formula(trait ~ sex), df, geneticfile)\n",
    "```\n",
    "!!! note\n",
    "\n",
    "    Users should always make sure that individuals in covariate file or DataFrame match those in Plink fam file/VCF File/BGEN file. \n",
    "\n",
    "For example, following code checks that the first 2 columns of the `covariate.txt` file match the first 2 columns of the `hapmap3.fam` file exactly."
   ]
  },
  {
   "cell_type": "code",
   "execution_count": 13,
   "metadata": {},
   "outputs": [
    {
     "data": {
      "text/plain": [
       "true"
      ]
     },
     "execution_count": 13,
     "metadata": {},
     "output_type": "execute_result"
    }
   ],
   "source": [
    "covdf = CSV.read(datadir * \"covariate.txt\", DataFrame)\n",
    "plkfam = CSV.read(datadir * \"hapmap3.fam\", header=0, delim=' ',  DataFrame)\n",
    "all(covdf[!, 1] .== plkfam[!, 1]) && all(covdf[!, 2] .== plkfam[!, 2])"
   ]
  },
  {
   "cell_type": "markdown",
   "metadata": {},
   "source": [
    "### Timing\n",
    "\n",
    "For this moderate-sized data set, `ordinalgwas` takes around 0.2 seconds."
   ]
  },
  {
   "cell_type": "code",
   "execution_count": 14,
   "metadata": {},
   "outputs": [
    {
     "name": "stdout",
     "output_type": "stream",
     "text": [
      "  179.764 ms (500934 allocations: 49.13 MiB)\n"
     ]
    }
   ],
   "source": [
    "@btime(ordinalgwas(@formula(trait ~ sex), datadir * \"covariate.txt\", datadir * \"hapmap3\"));"
   ]
  },
  {
   "cell_type": "code",
   "execution_count": 15,
   "metadata": {},
   "outputs": [],
   "source": [
    "# clean up\n",
    "rm(\"ordinalgwas.null.txt\", force=true)\n",
    "rm(\"ordinalgwas.pval.txt\", force=true)"
   ]
  },
  {
   "cell_type": "markdown",
   "metadata": {},
   "source": [
    "## VCF Formatted Files\n",
    "\n",
    "By default, OrdinalGWAS.jl will assume you are using PLINK files. It also supports VCF (and BGEN) Files. `vcf.gz` files are supported as well. To use vcf files in any of the analysis options detailed in this documentation, you simply need to add two keyword options to the `ordinalgwas` function:\n",
    "* `geneticformat`: Choices are \"VCF\" or \"PLINK\". If you are using a VCF file, use `geneticformat = \"VCF\"`.\n",
    "* `vcftype`: Choices are :GT (for genotypes) or :DS (for dosages). This tells OrdinalGWAS which type of data to extract from the VCF file.\n",
    "\n",
    "Using a VCF File does not output minor allele frequency or hardy weinberg equillibrium p-values for each SNP tested since they may be dosages and MAF/HWE calculations via VCFTools does not currently support dosage data. \n",
    "\n",
    "The following shows how to run an analysis with a VCF file using the dosage information. "
   ]
  },
  {
   "cell_type": "code",
   "execution_count": 16,
   "metadata": {},
   "outputs": [
    {
     "data": {
      "text/plain": [
       "StatsModels.TableRegressionModel{OrdinalMultinomialModel{Int64, Float64, LogitLink}, Matrix{Float64}}\n",
       "\n",
       "y ~ sex\n",
       "\n",
       "Coefficients:\n",
       "───────────────────────────────────────────────────────\n",
       "               Estimate  Std.Error    t value  Pr(>|t|)\n",
       "───────────────────────────────────────────────────────\n",
       "intercept1|2  -1.10106    0.205365  -5.36147     <1e-06\n",
       "intercept2|3   0.370894   0.188822   1.96425     0.0510\n",
       "intercept3|4   1.74736    0.232756   7.50726     <1e-11\n",
       "sex            0.22796    0.262237   0.869289    0.3858\n",
       "───────────────────────────────────────────────────────"
      ]
     },
     "execution_count": 16,
     "metadata": {},
     "output_type": "execute_result"
    }
   ],
   "source": [
    "ordinalgwas(@formula(y ~ sex), datadir * \"vcf_example.csv\", \n",
    "    datadir * \"vcf_test\"; geneticformat = \"VCF\", vcftype = :DS)"
   ]
  },
  {
   "cell_type": "code",
   "execution_count": 17,
   "metadata": {},
   "outputs": [
    {
     "name": "stdout",
     "output_type": "stream",
     "text": [
      "chr,pos,snpid,pval\n",
      "22,20000086,rs138720731,0.6435068072069544\n",
      "22,20000146,rs73387790,1.0\n",
      "22,20000199,rs183293480,0.9378258278500581\n",
      "22,20000291,rs185807825,0.21907288710091172\n",
      "22,20000428,rs55902548,0.002790402446884929\n",
      "22,20000683,rs142720028,1.0\n",
      "22,20000771,rs114690707,0.23034910158749672\n",
      "22,20000793,rs189842693,0.15612228776953083\n",
      "22,20000810,rs147349046,0.1741386270145462\n"
     ]
    }
   ],
   "source": [
    "run(`head ordinalgwas.pval.txt`);"
   ]
  },
  {
   "cell_type": "markdown",
   "metadata": {},
   "source": [
    "## BGEN Formatted Files\n",
    "\n",
    "By default, OrdinalGWAS.jl will assume you are using PLINK files. It also supports BGEN Files. To use BGEN files in any of the analysis options detailed in this documentation, you simply need to add the following keyword option to the `ordinalgwas` function:\n",
    "* `geneticformat`: Choices are \"VCF\" or \"PLINK\" or \"BGEN\". If you are using a BGEN file, use `geneticformat = \"BGEN\"`.\n",
    "\n",
    "Some features, such as SNP-set analyses, are only available currently when there's an indexing `.bgi` file available. \n",
    "\n",
    "!!! note\n",
    "\n",
    "    BGEN files can contain an optional index file (`.bgi` file) that allows the variants to be specified in order of position. OrdinalGWAS will automatically look for a file in the same directory as the `BGENFILENAME` with the name `BGENFILENAME.bgi`. The BGEN file is read either in the `.bgi` file order if `BGENFILENAME.bgi` is supplied in the same directory as the BGEN file, otherwise it will use the order in the BGEN file. This is important in analyses specifying `snpinds` as well as annotation groupings. You must make sure this matches the way the BGEN file will be read in. \n",
    "\n",
    "The following shows how to run an analysis with a BGEN file using the dosage information. "
   ]
  },
  {
   "cell_type": "code",
   "execution_count": 18,
   "metadata": {},
   "outputs": [
    {
     "data": {
      "text/plain": [
       "StatsModels.TableRegressionModel{OrdinalMultinomialModel{Int64, Float64, LogitLink}, Matrix{Float64}}\n",
       "\n",
       "y ~ sex\n",
       "\n",
       "Coefficients:\n",
       "──────────────────────────────────────────────────────\n",
       "               Estimate  Std.Error   t value  Pr(>|t|)\n",
       "──────────────────────────────────────────────────────\n",
       "intercept1|2  -1.08828    0.128371  -8.47759    <1e-15\n",
       "intercept2|3   0.434834   0.118541   3.66821    0.0003\n",
       "intercept3|4   1.80196    0.145367  12.396      <1e-30\n",
       "sex            0.461387   0.162676   2.83623    0.0048\n",
       "──────────────────────────────────────────────────────"
      ]
     },
     "execution_count": 18,
     "metadata": {},
     "output_type": "execute_result"
    }
   ],
   "source": [
    "ordinalgwas(@formula(y ~ sex), datadir * \"bgen_ex.csv\", \n",
    "    datadir * \"bgen_test\"; geneticformat = \"BGEN\")"
   ]
  },
  {
   "cell_type": "code",
   "execution_count": 19,
   "metadata": {},
   "outputs": [
    {
     "name": "stdout",
     "output_type": "stream",
     "text": [
      "chr,pos,snpid,varid,maf,hwepval,infoscore,pval\n",
      "01,1001,RSID_101,SNPID_101,0.4169765,0.8627403,0.9846387832074154,0.12449779722495302\n",
      "01,2000,RSID_2,SNPID_2,0.19750981,0.1921813,9.0,0.0005572706473664153\n",
      "01,2001,RSID_102,SNPID_102,0.19766665,0.18440013,0.72730855295163,0.0004996980174197107\n",
      "01,3000,RSID_3,SNPID_3,0.48339605,0.9653543,0.955355323674357,0.5866179557677313\n",
      "01,3001,RSID_103,SNPID_103,0.4833961,0.9653536,0.9553553468765227,0.5866179209956529\n",
      "01,4000,RSID_4,SNPID_4,0.21670982,0.37192723,0.9917677420119885,0.3522822949083392\n",
      "01,4001,RSID_104,SNPID_104,0.2167098,0.37192774,0.99176792776617,0.352282358433822\n",
      "01,5000,RSID_5,SNPID_5,0.38808233,0.5870128,0.9682577646241436,0.8349949433297403\n",
      "01,5001,RSID_105,SNPID_105,0.3880863,0.5867037,0.9682302221772928,0.8347201604324492\n"
     ]
    }
   ],
   "source": [
    "run(`head ordinalgwas.pval.txt`);"
   ]
  },
  {
   "cell_type": "markdown",
   "metadata": {},
   "source": [
    "## Link functions\n",
    "\n",
    "The `link` keyword argument of `ordinalgwas` can take value:  \n",
    "- `LogitLink()`, proportional odds model (default),  \n",
    "- `ProbitLink()`, ordred Probit model,  \n",
    "- `CloglogLink()`, proportional hazards model, or \n",
    "- `CauchyLink()`.\n",
    "\n",
    "For example, to perform GWAS using the ordred Probit model"
   ]
  },
  {
   "cell_type": "code",
   "execution_count": 20,
   "metadata": {},
   "outputs": [
    {
     "data": {
      "text/plain": [
       "StatsModels.TableRegressionModel{OrdinalMultinomialModel{Int64, Float64, ProbitLink}, Matrix{Float64}}\n",
       "\n",
       "trait ~ sex\n",
       "\n",
       "Coefficients:\n",
       "──────────────────────────────────────────────────────\n",
       "               Estimate  Std.Error   t value  Pr(>|t|)\n",
       "──────────────────────────────────────────────────────\n",
       "intercept1|2  -0.866156   0.210677  -4.11129    <1e-04\n",
       "intercept2|3  -0.359878   0.205817  -1.74854    0.0813\n",
       "intercept3|4   0.247054   0.205382   1.2029     0.2299\n",
       "sex            0.251058   0.128225   1.95795    0.0511\n",
       "──────────────────────────────────────────────────────"
      ]
     },
     "execution_count": 20,
     "metadata": {},
     "output_type": "execute_result"
    }
   ],
   "source": [
    "ordinalgwas(@formula(trait ~ sex), datadir * \"covariate.txt\", datadir * \"hapmap3\", \n",
    "    link=ProbitLink(), nullfile=\"opm.null.txt\", pvalfile=\"opm.pval.txt\")"
   ]
  },
  {
   "cell_type": "markdown",
   "metadata": {},
   "source": [
    "The estimates in null model and p-values are slightly different from those in proportional odds moodel."
   ]
  },
  {
   "cell_type": "code",
   "execution_count": 21,
   "metadata": {},
   "outputs": [
    {
     "name": "stdout",
     "output_type": "stream",
     "text": [
      "chr,pos,snpid,maf,hwepval,pval\n",
      "1,554484,rs10458597,0.0,1.0,1.0\n",
      "1,758311,rs12562034,0.07763975155279501,0.4098763332666681,0.010076916742301864\n",
      "1,967643,rs2710875,0.32407407407407407,4.076249100705747e-7,2.627256494185544e-5\n",
      "1,1168108,rs11260566,0.19158878504672894,0.1285682279446898,1.0897484851079486e-5\n",
      "1,1375074,rs1312568,0.441358024691358,2.5376019650614977e-19,0.005102883990438183\n",
      "1,1588771,rs35154105,0.0,1.0,1.0\n",
      "1,1789051,rs16824508,0.00462962962962965,0.9332783156468178,0.4865377629787354\n",
      "1,1990452,rs2678939,0.4537037037037037,5.07695957708431e-11,0.33231290090455495\n",
      "1,2194615,rs7553178,0.22685185185185186,0.17056143157457776,0.25915513977197546\n"
     ]
    }
   ],
   "source": [
    "run(`head opm.pval.txt`);"
   ]
  },
  {
   "cell_type": "code",
   "execution_count": 22,
   "metadata": {},
   "outputs": [],
   "source": [
    "rm(\"opm.null.txt\", force=true)\n",
    "rm(\"opm.pval.txt\", force=true)"
   ]
  },
  {
   "cell_type": "markdown",
   "metadata": {},
   "source": [
    "## SNP models\n",
    "\n",
    "Genotypes are translated into numeric values according to different genetic model, which is specified by the `snpmodel` keyword. Default is `ADDITIVE_MODEL`.\n",
    "\n",
    "| Genotype | `SnpArray` | `ADDITIVE_MODEL` | `DOMINANT_MODEL` | `RECESSIVE_MODEL` |    \n",
    "|:---:|:---:|:---:|:---:|:---:|  \n",
    "| A1,A1 | 0x00 | 0 | 0 | 0 |  \n",
    "| missing | 0x01 | NaN | NaN | NaN |\n",
    "| A1,A2 | 0x02 | 1 | 1 | 0 |  \n",
    "| A2,A2 | 0x03 | 2 | 1 | 1 |  \n",
    "\n",
    "!!! note\n",
    "\n",
    "    `ordinalgwas` imputes missing genotypes according to minor allele frequencies. \n",
    "    \n",
    "Users are advised to impute genotypes using more sophiscated methods before GWAS."
   ]
  },
  {
   "cell_type": "markdown",
   "metadata": {},
   "source": [
    "## SNP and/or sample masks\n",
    "\n",
    "In practice, we often perform GWAS on selected SNPs and/or selected samples. They can be specified by the `snpinds`, `covrowinds` and `geneticrowinds` keywords of `ordinalgwas` function. \n",
    "\n",
    "For example, to perform GWAS on SNPs with minor allele frequency (MAF) above 0.05"
   ]
  },
  {
   "cell_type": "code",
   "execution_count": 23,
   "metadata": {},
   "outputs": [
    {
     "name": "stdout",
     "output_type": "stream",
     "text": [
      "  1.083456 seconds (2.08 M allocations: 139.969 MiB, 8.20% gc time, 81.72% compilation time)\n"
     ]
    },
    {
     "data": {
      "text/plain": [
       "StatsModels.TableRegressionModel{OrdinalMultinomialModel{Int64, Float64, LogitLink}, Matrix{Float64}}\n",
       "\n",
       "trait ~ sex\n",
       "\n",
       "Coefficients:\n",
       "──────────────────────────────────────────────────────\n",
       "               Estimate  Std.Error   t value  Pr(>|t|)\n",
       "──────────────────────────────────────────────────────\n",
       "intercept1|2  -1.48564    0.358891  -4.13952    <1e-04\n",
       "intercept2|3  -0.569479   0.341044  -1.66981    0.0959\n",
       "intercept3|4   0.429815   0.339642   1.26549    0.2066\n",
       "sex            0.424656   0.213914   1.98517    0.0480\n",
       "──────────────────────────────────────────────────────"
      ]
     },
     "execution_count": 23,
     "metadata": {},
     "output_type": "execute_result"
    }
   ],
   "source": [
    "# create SNP mask\n",
    "snpinds = maf(SnpArray(\"../data/hapmap3.bed\")) .≥ 0.05\n",
    "# GWAS on selected SNPs\n",
    "@time ordinalgwas(@formula(trait ~ sex), datadir * \"covariate.txt\", datadir * \"hapmap3\", \n",
    "    snpinds=snpinds, nullfile=\"commonvariant.null.txt\", pvalfile=\"commonvariant.pval.txt\")"
   ]
  },
  {
   "cell_type": "code",
   "execution_count": 24,
   "metadata": {},
   "outputs": [
    {
     "name": "stdout",
     "output_type": "stream",
     "text": [
      "chr,pos,snpid,maf,hwepval,pval\n",
      "1,758311,rs12562034,0.07763975155279501,0.4098763332666681,0.004565312839534427\n",
      "1,967643,rs2710875,0.32407407407407407,4.076249100705747e-7,3.108283828553394e-5\n",
      "1,1168108,rs11260566,0.19158878504672894,0.1285682279446898,1.2168672367652875e-5\n",
      "1,1375074,rs1312568,0.441358024691358,2.5376019650614977e-19,0.008206860046174538\n",
      "1,1990452,rs2678939,0.4537037037037037,5.07695957708431e-11,0.29972829571847\n",
      "1,2194615,rs7553178,0.22685185185185186,0.17056143157457776,0.17133312458048658\n",
      "1,2396747,rs13376356,0.1448598130841121,0.9053079215078139,0.5320416198875042\n",
      "1,2823603,rs1563468,0.4830246913580247,4.23065537243926e-9,0.2251913917835673\n",
      "1,3025087,rs6690373,0.2538699690402477,9.238641887192776e-8,0.7018469417717376\n"
     ]
    }
   ],
   "source": [
    "run(`head commonvariant.pval.txt`);"
   ]
  },
  {
   "cell_type": "code",
   "execution_count": 25,
   "metadata": {},
   "outputs": [
    {
     "data": {
      "text/plain": [
       "(12086, 12085)"
      ]
     },
     "execution_count": 25,
     "metadata": {},
     "output_type": "execute_result"
    }
   ],
   "source": [
    "# extra header line in commonvariant.pval.txt\n",
    "countlines(\"commonvariant.pval.txt\"), count(snpinds)"
   ]
  },
  {
   "cell_type": "code",
   "execution_count": 26,
   "metadata": {},
   "outputs": [],
   "source": [
    "# clean up\n",
    "rm(\"commonvariant.null.txt\", force=true)\n",
    "rm(\"commonvariant.pval.txt\", force=true)"
   ]
  },
  {
   "cell_type": "markdown",
   "metadata": {},
   "source": [
    "`covrowinds` specify the samples in the covariate file and `geneticrowinds` for PLINK or VCF File. User should be particularly careful when using these two keyword. Selected rows in SnpArray should exactly match the samples in the null model. Otherwise the results are meaningless."
   ]
  },
  {
   "cell_type": "markdown",
   "metadata": {},
   "source": [
    "## Likelihood ratio test (LRT)\n",
    "\n",
    "By default, `ordinalgwas` calculates p-value for each SNP using score test. Score test is fast because it doesn't require fitting alternative model for each SNP. User can request likelihood ratio test (LRT) using keyword `test=:lrt`. LRT is much slower but may be more powerful than score test.\n",
    "\n",
    "Because LRT fits the alternative model for each SNP, we also output the standard error and estimated effect size of the SNP. "
   ]
  },
  {
   "cell_type": "code",
   "execution_count": 27,
   "metadata": {},
   "outputs": [
    {
     "name": "stdout",
     "output_type": "stream",
     "text": [
      " 21.395919 seconds (5.64 M allocations: 1.925 GiB, 1.99% gc time, 1.69% compilation time)\n"
     ]
    },
    {
     "data": {
      "text/plain": [
       "StatsModels.TableRegressionModel{OrdinalMultinomialModel{Int64, Float64, LogitLink}, Matrix{Float64}}\n",
       "\n",
       "trait ~ sex\n",
       "\n",
       "Coefficients:\n",
       "──────────────────────────────────────────────────────\n",
       "               Estimate  Std.Error   t value  Pr(>|t|)\n",
       "──────────────────────────────────────────────────────\n",
       "intercept1|2  -1.48564    0.358891  -4.13952    <1e-04\n",
       "intercept2|3  -0.569479   0.341044  -1.66981    0.0959\n",
       "intercept3|4   0.429815   0.339642   1.26549    0.2066\n",
       "sex            0.424656   0.213914   1.98517    0.0480\n",
       "──────────────────────────────────────────────────────"
      ]
     },
     "execution_count": 27,
     "metadata": {},
     "output_type": "execute_result"
    }
   ],
   "source": [
    "@time ordinalgwas(@formula(trait ~ sex), datadir * \"covariate.txt\", datadir * \"hapmap3\", \n",
    "    test=:LRT, nullfile=\"lrt.null.txt\", pvalfile=\"lrt.pval.txt\")"
   ]
  },
  {
   "cell_type": "markdown",
   "metadata": {},
   "source": [
    "Note the extra `effect` and `stder` columns in pvalfile, which is the effect size (regression coefficient) and standard errors for each SNP. `-1` is reported when there is no variation in the SNP (0 MAF).  "
   ]
  },
  {
   "cell_type": "code",
   "execution_count": 28,
   "metadata": {},
   "outputs": [
    {
     "name": "stdout",
     "output_type": "stream",
     "text": [
      "chr,pos,snpid,maf,hwepval,effect,stder,pval\n",
      "1,554484,rs10458597,0.0,1.0,0.0,-1.0,1.0\n",
      "1,758311,rs12562034,0.07763975155279501,0.4098763332666681,-1.005783371954432,0.340809176866079,0.0019185836579800582\n",
      "1,967643,rs2710875,0.32407407407407407,4.076249100705747e-7,-0.6488560566291871,0.15659100275284887,1.8050505569757006e-5\n",
      "1,1168108,rs11260566,0.19158878504672894,0.1285682279446898,-0.9157225669357882,0.21779888614702939,5.873384712685568e-6\n",
      "1,1375074,rs1312568,0.441358024691358,2.5376019650614977e-19,-0.33181366525772477,0.12697404813031313,0.008081022577830249\n",
      "1,1588771,rs35154105,0.0,1.0,0.0,-1.0,1.0\n",
      "1,1789051,rs16824508,0.00462962962962965,0.9332783156468178,-0.7338026388699317,1.2495287571243678,0.5169027130143892\n",
      "1,1990452,rs2678939,0.4537037037037037,5.07695957708431e-11,-0.13586499231819746,0.13123472232496755,0.2994640220089984\n",
      "1,2194615,rs7553178,0.22685185185185186,0.17056143157457776,-0.25120756404401384,0.17872139152979497,0.16151069094436224\n"
     ]
    }
   ],
   "source": [
    "run(`head lrt.pval.txt`);"
   ]
  },
  {
   "cell_type": "code",
   "execution_count": 29,
   "metadata": {},
   "outputs": [],
   "source": [
    "# clean up\n",
    "rm(\"lrt.pval.txt\", force=true)\n",
    "rm(\"lrt.null.txt\", force=true)"
   ]
  },
  {
   "cell_type": "markdown",
   "metadata": {},
   "source": [
    "In this example, GWAS by score test takes less than 0.2 second, while GWAS by LRT takes over 20 seconds. Over 100 fold difference in run time. \n",
    "\n",
    "## Score test for screening, LRT for power \n",
    "\n",
    "For large data sets, a practical solution is to perform the score test first across all SNPs, then re-do LRT for the most promising SNPs according to score test p-values.\n",
    "\n",
    "**Step 1**: Perform score test GWAS, results in `score.pval.txt`."
   ]
  },
  {
   "cell_type": "code",
   "execution_count": 30,
   "metadata": {},
   "outputs": [
    {
     "name": "stdout",
     "output_type": "stream",
     "text": [
      "  0.242265 seconds (500.93 k allocations: 49.133 MiB)\n"
     ]
    }
   ],
   "source": [
    "@time ordinalgwas(@formula(trait ~ sex), datadir * \"covariate.txt\", datadir * \"hapmap3\", \n",
    "    test=:score, pvalfile=\"score.pval.txt\");"
   ]
  },
  {
   "cell_type": "code",
   "execution_count": 31,
   "metadata": {},
   "outputs": [
    {
     "name": "stdout",
     "output_type": "stream",
     "text": [
      "chr,pos,snpid,maf,hwepval,pval\n",
      "1,554484,rs10458597,0.0,1.0,1.0\n",
      "1,758311,rs12562034,0.07763975155279501,0.4098763332666681,0.004565312839534427\n",
      "1,967643,rs2710875,0.32407407407407407,4.076249100705747e-7,3.108283828553394e-5\n",
      "1,1168108,rs11260566,0.19158878504672894,0.1285682279446898,1.2168672367652875e-5\n",
      "1,1375074,rs1312568,0.441358024691358,2.5376019650614977e-19,0.008206860046174538\n",
      "1,1588771,rs35154105,0.0,1.0,1.0\n",
      "1,1789051,rs16824508,0.00462962962962965,0.9332783156468178,0.5111981332531635\n",
      "1,1990452,rs2678939,0.4537037037037037,5.07695957708431e-11,0.29972829571847\n",
      "1,2194615,rs7553178,0.22685185185185186,0.17056143157457776,0.17133312458048658\n"
     ]
    }
   ],
   "source": [
    "run(`head score.pval.txt`);"
   ]
  },
  {
   "cell_type": "markdown",
   "metadata": {},
   "source": [
    "**Step 2**: Sort score test p-values and find top 10 SNPs."
   ]
  },
  {
   "cell_type": "code",
   "execution_count": 32,
   "metadata": {},
   "outputs": [
    {
     "data": {
      "text/plain": [
       "10-element Vector{Float64}:\n",
       " 1.3080149099171313e-6\n",
       " 6.536722765044222e-6\n",
       " 9.664742185663007e-6\n",
       " 1.2168672367652875e-5\n",
       " 1.8027460018318087e-5\n",
       " 2.0989542284208642e-5\n",
       " 2.6844521269928002e-5\n",
       " 3.108283828553394e-5\n",
       " 4.10109128750568e-5\n",
       " 4.29662651383141e-5"
      ]
     },
     "execution_count": 32,
     "metadata": {},
     "output_type": "execute_result"
    }
   ],
   "source": [
    "scorepvals = CSV.read(\"score.pval.txt\", DataFrame)[!, end] # p-values in last column\n",
    "tophits = sortperm(scorepvals)[1:10] # indices of 10 SNPs with smallest p-values\n",
    "scorepvals[tophits] # smallest 10 p-values"
   ]
  },
  {
   "cell_type": "markdown",
   "metadata": {},
   "source": [
    "**Step 3**: Re-do LRT on top hits."
   ]
  },
  {
   "cell_type": "code",
   "execution_count": 33,
   "metadata": {},
   "outputs": [
    {
     "name": "stdout",
     "output_type": "stream",
     "text": [
      "  0.930548 seconds (1.69 M allocations: 100.121 MiB, 3.90% gc time, 96.54% compilation time)\n"
     ]
    }
   ],
   "source": [
    "@time ordinalgwas(@formula(trait ~ sex), datadir * \"covariate.txt\", datadir * \"hapmap3\", \n",
    "    snpinds=tophits, test=:LRT, pvalfile=\"lrt.pval.txt\");"
   ]
  },
  {
   "cell_type": "code",
   "execution_count": 34,
   "metadata": {},
   "outputs": [
    {
     "name": "stdout",
     "output_type": "stream",
     "text": [
      "chr,pos,snpid,maf,hwepval,effect,stder,pval\n",
      "1,967643,rs2710875,0.32407407407407407,4.076249100705747e-7,-0.6488560566291871,0.15659100275284887,1.8050505569757006e-5\n",
      "1,1168108,rs11260566,0.19158878504672894,0.1285682279446898,-0.9157225669357882,0.21779888614702939,5.873384712685568e-6\n",
      "3,36821790,rs4678553,0.23456790123456794,0.1094668216324497,0.7424952268973516,0.17055414498937288,1.1303825016258549e-5\n",
      "4,11017683,rs16881446,0.27554179566563464,0.8942746118760274,-0.7870581482955511,0.18729099511224248,1.1105427468797635e-5\n",
      "5,3739190,rs12521166,0.0679012345679012,0.18613647746093887,1.1468852997925312,0.28093078615476413,4.781288229656825e-5\n",
      "6,7574576,rs1885466,0.17746913580246915,0.7620687178987191,0.8750621092263033,0.19417734621377952,7.272346896739337e-6\n",
      "6,52474721,rs2073183,0.1826625386996904,0.5077765730476698,0.7790794914858661,0.19764574359737203,5.069394513905205e-5\n",
      "7,41152376,rs28880,0.3379629629629629,0.8052368892744096,-0.814633902445351,0.1747145988261005,9.180126530293314e-7\n",
      "7,84223996,rs4128623,0.07870370370370372,0.0218347173467568,1.002222931633856,0.2553436567319915,6.587895464655924e-5\n",
      "23,121048059,rs1937165,0.4380804953560371,3.959609737265113e-16,0.5392313636256604,0.12809596042077964,1.975464385552384e-5\n"
     ]
    }
   ],
   "source": [
    "run(`cat lrt.pval.txt`);"
   ]
  },
  {
   "cell_type": "code",
   "execution_count": 35,
   "metadata": {},
   "outputs": [],
   "source": [
    "# clean up\n",
    "rm(\"ordinalgwas.null.txt\", force=true)\n",
    "rm(\"score.pval.txt\", force=true)\n",
    "rm(\"lrt.pval.txt\", force=true)"
   ]
  },
  {
   "cell_type": "markdown",
   "metadata": {},
   "source": [
    "## GxE or other interactions\n",
    "\n",
    "### Testing jointly G + GxE \n",
    "\n",
    "In many applications, we want to test SNP effect and/or its interaction with other terms. `testformula` keyword specifies the test unit **besides** the covariates in `nullformula`. \n",
    "\n",
    "In following example, keyword `testformula=@formula(trait ~ snp + snp & sex)` instructs `ordinalgwas` to test joint effect of `snp` and `snp & sex` interaction."
   ]
  },
  {
   "cell_type": "code",
   "execution_count": 36,
   "metadata": {},
   "outputs": [],
   "source": [
    "ordinalgwas(@formula(trait ~ sex), datadir * \"covariate.txt\", datadir * \"hapmap3\", \n",
    "    pvalfile=\"GxE.pval.txt\", testformula=@formula(trait ~ snp + snp & sex));"
   ]
  },
  {
   "cell_type": "code",
   "execution_count": 37,
   "metadata": {},
   "outputs": [
    {
     "name": "stdout",
     "output_type": "stream",
     "text": [
      "chr,pos,snpid,maf,hwepval,pval\n",
      "1,554484,rs10458597,0.0,1.0,1.0\n",
      "1,758311,rs12562034,0.07763975155279501,0.4098763332666681,0.017446010412241458\n",
      "1,967643,rs2710875,0.32407407407407407,4.076249100705747e-7,0.0001667073239488084\n",
      "1,1168108,rs11260566,0.19158878504672894,0.1285682279446898,4.763762457892097e-5\n",
      "1,1375074,rs1312568,0.441358024691358,2.5376019650614977e-19,0.029138471242989888\n",
      "1,1588771,rs35154105,0.0,1.0,1.0\n",
      "1,1789051,rs16824508,0.00462962962962965,0.9332783156468178,0.29643631147329347\n",
      "1,1990452,rs2678939,0.4537037037037037,5.07695957708431e-11,0.3792458047934197\n",
      "1,2194615,rs7553178,0.22685185185185186,0.17056143157457776,0.3255822699323852\n"
     ]
    }
   ],
   "source": [
    "run(`head GxE.pval.txt`);"
   ]
  },
  {
   "cell_type": "code",
   "execution_count": 38,
   "metadata": {},
   "outputs": [],
   "source": [
    "# clean up\n",
    "rm(\"ordinalgwas.null.txt\")\n",
    "rm(\"GxE.pval.txt\")"
   ]
  },
  {
   "cell_type": "markdown",
   "metadata": {},
   "source": [
    "### Testing only GxE interaction term\n",
    "\n",
    "For some applications, the user may want to simply test the GxE interaction effect. This requires fitting the SNP in the null model and is much slower, but the command `ordinalgwas()` with keyword `analysistype = \"gxe\"` can be used test the interaction effect.\n",
    "The environmental variable must be specified in the command using the keyword argument `e`, either as a symbol, such as `:age` or as a string `\"age\"`. "
   ]
  },
  {
   "cell_type": "code",
   "execution_count": 38,
   "metadata": {},
   "outputs": [
    {
     "data": {
      "text/plain": [
       "StatsModels.TableRegressionModel{OrdinalMultinomialModel{Int64, Float64, LogitLink}, Matrix{Float64}}\n",
       "\n",
       "trait ~ sex\n",
       "\n",
       "Coefficients:\n",
       "──────────────────────────────────────────────────────\n",
       "               Estimate  Std.Error   t value  Pr(>|t|)\n",
       "──────────────────────────────────────────────────────\n",
       "intercept1|2  -1.48564    0.358891  -4.13952    <1e-04\n",
       "intercept2|3  -0.569479   0.341044  -1.66981    0.0959\n",
       "intercept3|4   0.429815   0.339642   1.26549    0.2066\n",
       "sex            0.424656   0.213914   1.98517    0.0480\n",
       "──────────────────────────────────────────────────────"
      ]
     },
     "execution_count": 38,
     "metadata": {},
     "output_type": "execute_result"
    }
   ],
   "source": [
    "ordinalgwas(@formula(trait ~ sex), datadir * \"covariate.txt\", datadir * \"hapmap3\"; analysistype = \"gxe\",\n",
    "    e = :sex, pvalfile = \"gxe_snp.pval.txt\", snpinds=1:5, test=:score)"
   ]
  },
  {
   "cell_type": "code",
   "execution_count": 39,
   "metadata": {},
   "outputs": [
    {
     "name": "stdout",
     "output_type": "stream",
     "text": [
      "chr,pos,snpid,maf,hwepval,snpeffectnull,pval\n",
      "1,554484,rs10458597,0.0,1.0,0.0,1.0\n",
      "1,758311,rs12562034,0.07763975155279501,0.4098763332666681,-1.005783371954432,0.6377422425980203\n",
      "1,967643,rs2710875,0.32407407407407407,4.076249100705747e-7,-0.6488560566291871,0.9667114197304969\n",
      "1,1168108,rs11260566,0.19158878504672894,0.1285682279446898,-0.9157225669357882,0.2635267469409816\n",
      "1,1375074,rs1312568,0.441358024691358,2.5376019650614977e-19,-0.33181366525772477,0.7811133315582421\n"
     ]
    }
   ],
   "source": [
    "run(`head gxe_snp.pval.txt`);"
   ]
  },
  {
   "cell_type": "code",
   "execution_count": 40,
   "metadata": {},
   "outputs": [],
   "source": [
    "# clean up\n",
    "rm(\"gxe_snp.pval.txt\", force=true)"
   ]
  },
  {
   "cell_type": "markdown",
   "metadata": {},
   "source": [
    "## SNP-set testing\n",
    "\n",
    "In many applications, we want to test a SNP-set. The function with keyword `analysistype = \"snpset\"` can be used to do this. To specify the type of snpset test, use the `snpset` keyword argument. \n",
    "\n",
    "The snpset can be specified as either:\n",
    "- a window (test every X snps) => `snpset = X`\n",
    "- an annotated file.  This requires `snpset = filename` where filename is an input file, with no header and two columns separated by a space. The first column must contain the snpset ID and the second column must contain the snpid's (rsid) identical to the bimfile, or in the case of a BGEN format, the order the data will be read (see BGEN above for more details).\n",
    "- a joint test on only a specific set of snps. `snpset = AbstractVector` where the vector specifies the snps you want to perform one joint snpset test for. The vector can either be a vector of integers where the elements are the indicies of the SNPs to test, a vector of booleans, where true represents that you want to select that SNP index, or a range indicating the indicies of the SNPs to test. "
   ]
  },
  {
   "cell_type": "markdown",
   "metadata": {},
   "source": [
    "In following example, we perform a SNP-set test on the 50th to 55th snps. "
   ]
  },
  {
   "cell_type": "code",
   "execution_count": 41,
   "metadata": {},
   "outputs": [
    {
     "data": {
      "text/plain": [
       "StatsModels.TableRegressionModel{OrdinalMultinomialModel{Int64, Float64, LogitLink}, Matrix{Float64}}\n",
       "\n",
       "trait ~ sex\n",
       "\n",
       "Coefficients:\n",
       "──────────────────────────────────────────────────────\n",
       "               Estimate  Std.Error   t value  Pr(>|t|)\n",
       "──────────────────────────────────────────────────────\n",
       "intercept1|2  -1.48564    0.358891  -4.13952    <1e-04\n",
       "intercept2|3  -0.569479   0.341044  -1.66981    0.0959\n",
       "intercept3|4   0.429815   0.339642   1.26549    0.2066\n",
       "sex            0.424656   0.213914   1.98517    0.0480\n",
       "──────────────────────────────────────────────────────"
      ]
     },
     "execution_count": 41,
     "metadata": {},
     "output_type": "execute_result"
    }
   ],
   "source": [
    "ordinalgwas(@formula(trait ~ sex), datadir * \"covariate.txt\", datadir * \"hapmap3\"; \n",
    "    analysistype = \"snpset\", pvalfile = \"snpset.pval.txt\", snpset = 50:55)"
   ]
  },
  {
   "cell_type": "code",
   "execution_count": 42,
   "metadata": {},
   "outputs": [
    {
     "name": "stdout",
     "output_type": "stream",
     "text": [
      "The joint pvalue of snps indexed at 50:55 is 0.36471265366639005\n"
     ]
    }
   ],
   "source": [
    "run(`head snpset.pval.txt`);"
   ]
  },
  {
   "cell_type": "code",
   "execution_count": 43,
   "metadata": {},
   "outputs": [],
   "source": [
    "# clean up\n",
    "rm(\"snpset.pval.txt\", force=true)\n",
    "rm(\"ordinalgwas.null.txt\", force=true)"
   ]
  },
  {
   "cell_type": "markdown",
   "metadata": {},
   "source": [
    "In the following example we run a SNP-set test on the annotated SNP-set file."
   ]
  },
  {
   "cell_type": "code",
   "execution_count": 44,
   "metadata": {},
   "outputs": [
    {
     "name": "stdout",
     "output_type": "stream",
     "text": [
      "gene1 rs10458597\n",
      "gene1 rs12562034\n",
      "gene1 rs2710875\n",
      "gene1 rs11260566\n",
      "gene1 rs1312568\n",
      "gene1 rs35154105\n",
      "gene1 rs16824508\n",
      "gene1 rs2678939\n",
      "gene1 rs7553178\n",
      "gene1 rs13376356\n"
     ]
    }
   ],
   "source": [
    "run(`head ../data/hapmap_snpsetfile.txt`);"
   ]
  },
  {
   "cell_type": "code",
   "execution_count": 45,
   "metadata": {},
   "outputs": [
    {
     "data": {
      "text/plain": [
       "StatsModels.TableRegressionModel{OrdinalMultinomialModel{Int64, Float64, LogitLink}, Matrix{Float64}}\n",
       "\n",
       "trait ~ sex\n",
       "\n",
       "Coefficients:\n",
       "──────────────────────────────────────────────────────\n",
       "               Estimate  Std.Error   t value  Pr(>|t|)\n",
       "──────────────────────────────────────────────────────\n",
       "intercept1|2  -1.48564    0.358891  -4.13952    <1e-04\n",
       "intercept2|3  -0.569479   0.341044  -1.66981    0.0959\n",
       "intercept3|4   0.429815   0.339642   1.26549    0.2066\n",
       "sex            0.424656   0.213914   1.98517    0.0480\n",
       "──────────────────────────────────────────────────────"
      ]
     },
     "execution_count": 45,
     "metadata": {},
     "output_type": "execute_result"
    }
   ],
   "source": [
    "ordinalgwas(@formula(trait ~ sex), datadir * \"covariate.txt\", datadir * \"hapmap3\";\n",
    "    analysistype = \"snpset\", pvalfile = \"snpset.pval.txt\", \n",
    "    snpset = datadir * \"/hapmap_snpsetfile.txt\")"
   ]
  },
  {
   "cell_type": "code",
   "execution_count": 46,
   "metadata": {},
   "outputs": [
    {
     "name": "stdout",
     "output_type": "stream",
     "text": [
      "snpsetid,nsnps,pval\n",
      "gene1,93,1.7213394698762626e-5\n",
      "gene2,93,0.036924976841444614\n",
      "gene3,93,0.7478549371392366\n",
      "gene4,92,0.027650798223418142\n",
      "gene5,93,0.611958159457124\n",
      "gene6,93,0.02918464223002788\n",
      "gene7,93,0.39160073488483627\n",
      "gene8,93,0.12539574109851914\n",
      "gene9,93,0.7085635621607977\n"
     ]
    }
   ],
   "source": [
    "run(`head snpset.pval.txt`);"
   ]
  },
  {
   "cell_type": "code",
   "execution_count": 47,
   "metadata": {},
   "outputs": [],
   "source": [
    "# clean up\n",
    "rm(\"snpset.pval.txt\", force=true)\n",
    "rm(\"ordinalgwas.null.txt\", force=true)"
   ]
  },
  {
   "cell_type": "markdown",
   "metadata": {},
   "source": [
    "In the following example we run a SNP-set test on every 15 SNPs."
   ]
  },
  {
   "cell_type": "code",
   "execution_count": 48,
   "metadata": {},
   "outputs": [
    {
     "data": {
      "text/plain": [
       "StatsModels.TableRegressionModel{OrdinalMultinomialModel{Int64, Float64, LogitLink}, Matrix{Float64}}\n",
       "\n",
       "trait ~ sex\n",
       "\n",
       "Coefficients:\n",
       "──────────────────────────────────────────────────────\n",
       "               Estimate  Std.Error   t value  Pr(>|t|)\n",
       "──────────────────────────────────────────────────────\n",
       "intercept1|2  -1.48564    0.358891  -4.13952    <1e-04\n",
       "intercept2|3  -0.569479   0.341044  -1.66981    0.0959\n",
       "intercept3|4   0.429815   0.339642   1.26549    0.2066\n",
       "sex            0.424656   0.213914   1.98517    0.0480\n",
       "──────────────────────────────────────────────────────"
      ]
     },
     "execution_count": 48,
     "metadata": {},
     "output_type": "execute_result"
    }
   ],
   "source": [
    "ordinalgwas(@formula(trait ~ sex), datadir * \"covariate.txt\", datadir * \"hapmap3\";\n",
    "    analysistype = \"snpset\", pvalfile = \"snpset.pval.txt\", snpset=15)"
   ]
  },
  {
   "cell_type": "code",
   "execution_count": 49,
   "metadata": {},
   "outputs": [
    {
     "name": "stdout",
     "output_type": "stream",
     "text": [
      "startchr,startpos,startsnpid,endchr,endpos,endsnpid,pval\n",
      "1,554484,rs10458597,1,3431124,rs12093117,1.9394189465410537e-13\n",
      "1,3633945,rs10910017,1,6514524,rs932112,0.11077869162798873\n",
      "1,6715827,rs441515,1,9534606,rs4926480,0.2742450817956301\n",
      "1,9737551,rs12047054,1,12559747,rs4845907,0.49346113650468176\n",
      "1,12760427,rs848577,1,16021797,rs6679870,0.1544735865824627\n",
      "1,16228774,rs1972359,1,19100349,rs9426794,0.15442329170231966\n",
      "1,19301516,rs4912046,1,22122176,rs9426785,0.4749873349462162\n",
      "1,22323074,rs2235529,1,25166528,rs4648890,0.4124609662145714\n",
      "1,25368553,rs7527379,1,28208168,rs12140070,0.16458135278651795\n"
     ]
    }
   ],
   "source": [
    "run(`head snpset.pval.txt`);"
   ]
  },
  {
   "cell_type": "code",
   "execution_count": 50,
   "metadata": {},
   "outputs": [],
   "source": [
    "# clean up\n",
    "rm(\"snpset.pval.txt\", force=true)\n",
    "rm(\"ordinalgwas.null.txt\", force=true)"
   ]
  },
  {
   "cell_type": "markdown",
   "metadata": {},
   "source": [
    "## Plotting Results\n",
    "\n",
    "To plot the GWAS results, we recommend using the [MendelPlots.jl package](https://openmendel.github.io/MendelPlots.jl/latest/)."
   ]
  },
  {
   "cell_type": "markdown",
   "metadata": {},
   "source": [
    "## Docker\n",
    "\n",
    "For ease of using OrdinalGWAS, we provide a Dockerfile so users don't need to install Julia and required packages. Only Docker app needs to be installed in order to run analysis. Following is tested on Docker 2.0.0.0-mac78.\n",
    "\n",
    "**Step 1**: Create a Dockerfile with content [here](https://raw.githubusercontent.com/OpenMendel/OrdinalGWAS.jl/master/docker/Dockerfile), or, if the bash command `wget` is available, obtain Dockerfile by\n",
    "```bash\n",
    "# on command line\n",
    "wget https://raw.githubusercontent.com/OpenMendel/OrdinalGWAS.jl/master/docker/Dockerfile\n",
    "```"
   ]
  },
  {
   "cell_type": "markdown",
   "metadata": {},
   "source": [
    "**Step 2**: Build a docker image called `ordinalgwas-app`, assuming that the Dockerfile is located in the `../docker` folder. Building the image for the first time can take up to 10 minutes; but it only needs to be done once.\n",
    "```bash\n",
    "# on command line\n",
    "docker build -t ordinalgwas-app ../docker/\n",
    "```"
   ]
  },
  {
   "cell_type": "markdown",
   "metadata": {},
   "source": [
    "**Step 3**: Suppose data files are located at `/path/to/data` folder, run analysis by\n",
    "```bash\n",
    "# on command line\n",
    "docker run -v /path/to/data:/data -t ordinalgwas-app julia -e 'using OrdinalGWAS; ordinalgwas(@formula(trait ~ sex), \"/data/covariate.txt\", \"/data/hapmap3\", nullfile=\"/data/ordinalgwas.null.txt\", pvalfile=\"/data/ordinalgwas\");'\n",
    "```"
   ]
  },
  {
   "cell_type": "markdown",
   "metadata": {},
   "source": [
    "Here  \n",
    "- `-t ordinalgwas-app` creates a container using the `ordinalgwas-app` image build in step 2.  \n",
    "- `-v /path/to/data:/data` maps the `/path/to/data` folder on host machine to the `/data` folder within the container. \n",
    "- `julia -e 'using OrdinalGWAS; ordinalgwas(@formula(trait ~ sex), \"/data/covariate.txt\", \"/data/hapmap3\", nullfile=\"/data/ordinalgwas.null.txt\", pvalfile=\"/data/ordinalgwas\");` calls Julia and runs `ordinalgwas` function. \n",
    "\n",
    "The output files are written in `/path/to/data` directory."
   ]
  },
  {
   "cell_type": "markdown",
   "metadata": {},
   "source": [
    "## Multiple Plink file sets\n",
    "\n",
    "In large scale studies, genotypes data are split into multiple Plink files, e.g., by chromosome. Then GWAS analysis can be done in parallel. This can be achieved by two steps.\n",
    "\n",
    "Let's first create demo data by splitting hapmap3 according to chromosome:"
   ]
  },
  {
   "cell_type": "code",
   "execution_count": 54,
   "metadata": {},
   "outputs": [
    {
     "name": "stderr",
     "output_type": "stream",
     "text": [
      "┌ Warning: `getindex(df::DataFrame, col_ind::ColumnIndex)` is deprecated, use `df[!, col_ind]` instead.\n",
      "│   caller = #split_plink#77(::String, ::typeof(split_plink), ::SnpData, ::Symbol) at snpdata.jl:94\n",
      "└ @ SnpArrays /Users/christophergerman/.julia/packages/SnpArrays/d0iJw/src/snpdata.jl:94\n"
     ]
    },
    {
     "data": {
      "text/plain": [
       "75-element Array{String,1}:\n",
       " \"/Users/christophergerman/.julia/dev/OrdinalGWAS/data/hapmap3.chr.1.bed\" \n",
       " \"/Users/christophergerman/.julia/dev/OrdinalGWAS/data/hapmap3.chr.1.bim\" \n",
       " \"/Users/christophergerman/.julia/dev/OrdinalGWAS/data/hapmap3.chr.1.fam\" \n",
       " \"/Users/christophergerman/.julia/dev/OrdinalGWAS/data/hapmap3.chr.10.bed\"\n",
       " \"/Users/christophergerman/.julia/dev/OrdinalGWAS/data/hapmap3.chr.10.bim\"\n",
       " \"/Users/christophergerman/.julia/dev/OrdinalGWAS/data/hapmap3.chr.10.fam\"\n",
       " \"/Users/christophergerman/.julia/dev/OrdinalGWAS/data/hapmap3.chr.11.bed\"\n",
       " \"/Users/christophergerman/.julia/dev/OrdinalGWAS/data/hapmap3.chr.11.bim\"\n",
       " \"/Users/christophergerman/.julia/dev/OrdinalGWAS/data/hapmap3.chr.11.fam\"\n",
       " \"/Users/christophergerman/.julia/dev/OrdinalGWAS/data/hapmap3.chr.12.bed\"\n",
       " \"/Users/christophergerman/.julia/dev/OrdinalGWAS/data/hapmap3.chr.12.bim\"\n",
       " \"/Users/christophergerman/.julia/dev/OrdinalGWAS/data/hapmap3.chr.12.fam\"\n",
       " \"/Users/christophergerman/.julia/dev/OrdinalGWAS/data/hapmap3.chr.13.bed\"\n",
       " ⋮                                                                        \n",
       " \"/Users/christophergerman/.julia/dev/OrdinalGWAS/data/hapmap3.chr.6.bed\" \n",
       " \"/Users/christophergerman/.julia/dev/OrdinalGWAS/data/hapmap3.chr.6.bim\" \n",
       " \"/Users/christophergerman/.julia/dev/OrdinalGWAS/data/hapmap3.chr.6.fam\" \n",
       " \"/Users/christophergerman/.julia/dev/OrdinalGWAS/data/hapmap3.chr.7.bed\" \n",
       " \"/Users/christophergerman/.julia/dev/OrdinalGWAS/data/hapmap3.chr.7.bim\" \n",
       " \"/Users/christophergerman/.julia/dev/OrdinalGWAS/data/hapmap3.chr.7.fam\" \n",
       " \"/Users/christophergerman/.julia/dev/OrdinalGWAS/data/hapmap3.chr.8.bed\" \n",
       " \"/Users/christophergerman/.julia/dev/OrdinalGWAS/data/hapmap3.chr.8.bim\" \n",
       " \"/Users/christophergerman/.julia/dev/OrdinalGWAS/data/hapmap3.chr.8.fam\" \n",
       " \"/Users/christophergerman/.julia/dev/OrdinalGWAS/data/hapmap3.chr.9.bed\" \n",
       " \"/Users/christophergerman/.julia/dev/OrdinalGWAS/data/hapmap3.chr.9.bim\" \n",
       " \"/Users/christophergerman/.julia/dev/OrdinalGWAS/data/hapmap3.chr.9.fam\" "
      ]
     },
     "execution_count": 54,
     "metadata": {},
     "output_type": "execute_result"
    }
   ],
   "source": [
    "# split example hapmap3 data according to chromosome\n",
    "SnpArrays.split_plink(datadir * \"hapmap3\", :chromosome; prefix=datadir * \"hapmap3.chr.\")\n",
    "readdir(glob\"hapmap3.chr.*\", datadir)"
   ]
  },
  {
   "cell_type": "markdown",
   "metadata": {},
   "source": [
    "Step 1: Fit the null model. Setting third argument `geneticfile` to `nothing` instructs `ordinalgwas` function to fit the null model only."
   ]
  },
  {
   "cell_type": "code",
   "execution_count": 55,
   "metadata": {},
   "outputs": [
    {
     "data": {
      "text/plain": [
       "StatsModels.TableRegressionModel{OrdinalMultinomialModel{Int64,Float64,LogitLink},Array{Float64,2}}\n",
       "\n",
       "trait ~ sex\n",
       "\n",
       "Coefficients:\n",
       "──────────────────────────────────────────────────────\n",
       "               Estimate  Std.Error   t value  Pr(>|t|)\n",
       "──────────────────────────────────────────────────────\n",
       "intercept1|2  -1.48564    0.358891  -4.13952    <1e-4 \n",
       "intercept2|3  -0.569479   0.341044  -1.66981    0.0959\n",
       "intercept3|4   0.429815   0.339642   1.26549    0.2066\n",
       "sex            0.424656   0.213914   1.98517    0.0480\n",
       "──────────────────────────────────────────────────────"
      ]
     },
     "execution_count": 55,
     "metadata": {},
     "output_type": "execute_result"
    }
   ],
   "source": [
    "nm = ordinalgwas(@formula(trait ~ sex), datadir * \"covariate.txt\", nothing)"
   ]
  },
  {
   "cell_type": "markdown",
   "metadata": {},
   "source": [
    "Step 2: GWAS for each chromosome."
   ]
  },
  {
   "cell_type": "code",
   "execution_count": 56,
   "metadata": {},
   "outputs": [],
   "source": [
    "# this part can be submitted as separate jobs\n",
    "for chr in 1:23\n",
    "    plinkfile = datadir * \"hapmap3.chr.\" * string(chr)\n",
    "    pvalfile = plinkfile * \".pval.txt\" \n",
    "    ordinalgwas(nm, plinkfile, pvalfile=pvalfile)\n",
    "end"
   ]
  },
  {
   "cell_type": "code",
   "execution_count": 57,
   "metadata": {},
   "outputs": [
    {
     "data": {
      "text/plain": [
       "23-element Array{String,1}:\n",
       " \"/Users/christophergerman/.julia/dev/OrdinalGWAS/data/hapmap3.chr.1.pval.txt\" \n",
       " \"/Users/christophergerman/.julia/dev/OrdinalGWAS/data/hapmap3.chr.10.pval.txt\"\n",
       " \"/Users/christophergerman/.julia/dev/OrdinalGWAS/data/hapmap3.chr.11.pval.txt\"\n",
       " \"/Users/christophergerman/.julia/dev/OrdinalGWAS/data/hapmap3.chr.12.pval.txt\"\n",
       " \"/Users/christophergerman/.julia/dev/OrdinalGWAS/data/hapmap3.chr.13.pval.txt\"\n",
       " \"/Users/christophergerman/.julia/dev/OrdinalGWAS/data/hapmap3.chr.14.pval.txt\"\n",
       " \"/Users/christophergerman/.julia/dev/OrdinalGWAS/data/hapmap3.chr.15.pval.txt\"\n",
       " \"/Users/christophergerman/.julia/dev/OrdinalGWAS/data/hapmap3.chr.16.pval.txt\"\n",
       " \"/Users/christophergerman/.julia/dev/OrdinalGWAS/data/hapmap3.chr.17.pval.txt\"\n",
       " \"/Users/christophergerman/.julia/dev/OrdinalGWAS/data/hapmap3.chr.18.pval.txt\"\n",
       " \"/Users/christophergerman/.julia/dev/OrdinalGWAS/data/hapmap3.chr.19.pval.txt\"\n",
       " \"/Users/christophergerman/.julia/dev/OrdinalGWAS/data/hapmap3.chr.2.pval.txt\" \n",
       " \"/Users/christophergerman/.julia/dev/OrdinalGWAS/data/hapmap3.chr.20.pval.txt\"\n",
       " \"/Users/christophergerman/.julia/dev/OrdinalGWAS/data/hapmap3.chr.21.pval.txt\"\n",
       " \"/Users/christophergerman/.julia/dev/OrdinalGWAS/data/hapmap3.chr.22.pval.txt\"\n",
       " \"/Users/christophergerman/.julia/dev/OrdinalGWAS/data/hapmap3.chr.23.pval.txt\"\n",
       " \"/Users/christophergerman/.julia/dev/OrdinalGWAS/data/hapmap3.chr.3.pval.txt\" \n",
       " \"/Users/christophergerman/.julia/dev/OrdinalGWAS/data/hapmap3.chr.4.pval.txt\" \n",
       " \"/Users/christophergerman/.julia/dev/OrdinalGWAS/data/hapmap3.chr.5.pval.txt\" \n",
       " \"/Users/christophergerman/.julia/dev/OrdinalGWAS/data/hapmap3.chr.6.pval.txt\" \n",
       " \"/Users/christophergerman/.julia/dev/OrdinalGWAS/data/hapmap3.chr.7.pval.txt\" \n",
       " \"/Users/christophergerman/.julia/dev/OrdinalGWAS/data/hapmap3.chr.8.pval.txt\" \n",
       " \"/Users/christophergerman/.julia/dev/OrdinalGWAS/data/hapmap3.chr.9.pval.txt\" "
      ]
     },
     "execution_count": 57,
     "metadata": {},
     "output_type": "execute_result"
    }
   ],
   "source": [
    "# show the result files\n",
    "readdir(glob\"*.pval.txt\", datadir)"
   ]
  },
  {
   "cell_type": "markdown",
   "metadata": {},
   "source": [
    "In the rare situations where the multiple sets of Plink files lack the `fam` file or the corresponding bed and bim files have different filenames, users can explicitly supply bed filename, bim file name, and number of individuals. Replace Step 2 by \n",
    "\n",
    "Step 2': GWAS for each chromosome."
   ]
  },
  {
   "cell_type": "code",
   "execution_count": 58,
   "metadata": {},
   "outputs": [],
   "source": [
    "# this part can be submitted as separate jobs\n",
    "for chr in 1:23\n",
    "    bedfile = datadir * \"hapmap3.chr.\" * string(chr) * \".bed\"\n",
    "    bimfile = datadir * \"hapmap3.chr.\" * string(chr) * \".bim\"\n",
    "    pvalfile = datadir * \"hapmap3.chr.\" * string(chr) * \".pval.txt\"\n",
    "    ordinalgwas(nm, bedfile, bimfile, 324; pvalfile=pvalfile)\n",
    "end"
   ]
  },
  {
   "cell_type": "code",
   "execution_count": 59,
   "metadata": {},
   "outputs": [],
   "source": [
    "# clean up\n",
    "rm(\"ordinalgwas.null.txt\", force=true)\n",
    "isfile(datadir * \"fittednullmodel.jld2\") && rm(datadir * \"fittednullmodel.jld2\")\n",
    "for chr in 1:23\n",
    "    pvalfile = datadir * \"hapmap3.chr.\" * string(chr) * \".pval.txt\"\n",
    "    rm(pvalfile, force=true)\n",
    "end\n",
    "for chr in 1:26\n",
    "    plinkfile = datadir * \"hapmap3.chr.\" * string(chr)\n",
    "    rm(plinkfile * \".bed\", force=true)\n",
    "    rm(plinkfile * \".fam\", force=true)\n",
    "    rm(plinkfile * \".bim\", force=true)\n",
    "end"
   ]
  },
  {
   "cell_type": "markdown",
   "metadata": {},
   "source": [
    "## Multiple Plink file sets on cluster\n",
    "\n",
    "We provide two scripts that successfully run on UCLA's Hoffman2 cluster using Julia v1.0.1 and PBS job schedulaer (`qsub`).\n",
    "\n",
    "* The first script [`cluster_preparedata.jl`](https://raw.githubusercontent.com/OpenMendel/OrdinalGWAS.jl/master/docs/cluster_preparedata.jl) creates a demo data set in current folder. Run\n",
    "```julia\n",
    "julia cluster_preparedata.jl\n",
    "```\n",
    "on head node."
   ]
  },
  {
   "cell_type": "code",
   "execution_count": 60,
   "metadata": {},
   "outputs": [
    {
     "name": "stdout",
     "output_type": "stream",
     "text": [
      "#!/usr/local/bin/julia\n",
      "#\n",
      "# This script prepares a data set in current folder. \n",
      "# For each of chromosome 1-23, there is a set gzipped Plink files:\n",
      "# hapmap3.chr.1.bed.gz, hapmap3.chr.1.bim.gz, hapmap3.chr.1.fam.gz\n",
      "# hapmap3.chr.2.bed.gz, hapmap3.chr.2.bim.gz, hapmap3.chr.2.fam.gz\n",
      "# ...\n",
      "# hapmap3.chr.23.bed.gz, hapmap3.chr.23.bim.gz, hapmap3.chr.23.fam.gz\n",
      "# There is also a csv file \"covariate.txt\" that contains trait and covariates.\n",
      "#\n",
      "\n",
      "# install and load Julia packages\n",
      "using Pkg\n",
      "if haskey(Pkg.installed(), \"SnpArrays\")\n",
      "    Pkg.update(\"SnpArrays\")\n",
      "else\n",
      "    Pkg.add(PackageSpec(url=\"https://github.com/OpenMendel/SnpArrays.jl.git\"))\n",
      "end\n",
      "if haskey(Pkg.installed(), \"OrdinalMultinomialModels\")\n",
      "    Pkg.update(\"OrdinalMultinomialModels\")\n",
      "else\n",
      "    Pkg.add(PackageSpec(url=\"https://github.com/OpenMendel/OrdinalMultinomialModels.jl.git\"))\n",
      "end\n",
      "if haskey(Pkg.installed(), \"OrdinalGWAS\")\n",
      "    Pkg.update(\"OrdinalGWAS\")\n",
      "else\n",
      "    Pkg.add(PackageSpec(url=\"https://github.com/OpenMendel/OrdinalGWAS.jl.git\"))\n",
      "end\n",
      "using OrdinalMultinomialModels, OrdinalGWAS, SnpArrays\n",
      "\n",
      "# split hapmap3 data according to chromosome\n",
      "datadir = normpath(joinpath(dirname(pathof(OrdinalGWAS)), \"../data/\"))\n",
      "SnpArrays.split_plink(datadir * \"hapmap3\", :chromosome; prefix = \"hapmap3.chr.\")\n",
      "# compresse Plink files for chromosome 1-23\n",
      "for chr in 1:23\n",
      "    plinkfile = \"hapmap3.chr.\" * string(chr)\n",
      "    SnpArrays.compress_plink(plinkfile)\n",
      "end\n",
      "# delete uncompressed chromosome Plink files\n",
      "for chr in 1:26\n",
      "    plinkfile = \"hapmap3.chr.\" * string(chr)\n",
      "    rm(plinkfile * \".bed\", force=true)\n",
      "    rm(plinkfile * \".bim\", force=true)\n",
      "    rm(plinkfile * \".fam\", force=true)\n",
      "end\n",
      "# copy covariate.txt file\n",
      "cp(datadir * \"covariate.txt\", joinpath(pwd(), \"covariate.txt\"))\n"
     ]
    }
   ],
   "source": [
    "run(`cat cluster_preparedata.jl`);"
   ]
  },
  {
   "cell_type": "markdown",
   "metadata": {},
   "source": [
    "* The second script [`cluster_run.jl`](https://raw.githubusercontent.com/OpenMendel/OrdinalGWAS.jl/master/docs/cluster_run.jl) first fits the null model then submits a separate job for each chromosome. Run\n",
    "```julia\n",
    "julia cluster_run.jl\n",
    "```\n",
    "on head node."
   ]
  },
  {
   "cell_type": "code",
   "execution_count": 61,
   "metadata": {},
   "outputs": [
    {
     "name": "stdout",
     "output_type": "stream",
     "text": [
      "#!/usr/local/bin/julia\n",
      "#\n",
      "# This script demonstrates how to submit multiple OrdinalGWAS runs from multiple sets of\n",
      "# Plink files on UCLA Hoffman2 cluster. It assumes that a demo data is available by\n",
      "# running `julia cluster_preparedata.jl` at current folder.\n",
      "#\n",
      "\n",
      "using OrdinalGWAS, Serialization\n",
      "\n",
      "# Step 1: fit null model and save result to file `fittednullmodel.jls`\n",
      "nm = ordinalgwas(@formula(trait ~ sex), \"covariate.txt\", nothing)\n",
      "open(\"fittednullmodel.jls\", \"w\") do io\n",
      "    Serialization.serialize(io, nm)\n",
      "end\n",
      "\n",
      "# Step 2: GWAS for each chromosome\n",
      "for chr in 1:23\n",
      "    println(\"submit job for chromosome=$chr\")\n",
      "    jcode = \"using OrdinalGWAS, Serialization;\n",
      "    nm = open(deserialize, \\\"fittednullmodel.jls\\\");\n",
      "    bedfile = \\\"hapmap3.chr.\\\" * string($chr) * \\\".bed.gz\\\";\n",
      "    bimfile = \\\"hapmap3.chr.\\\" * string($chr) * \\\".bim.gz\\\";\n",
      "    pvalfile = \\\"hapmap3.chr.\\\" * string($chr) * \\\".pval.txt\\\";\n",
      "    ordinalgwas(nm, bedfile, bimfile, 324; pvalfile=pvalfile);\"\n",
      "    # prepare sh file for qsub\n",
      "    open(\"tmp.sh\", \"w\") do io\n",
      "        println(io, \"#!/bin/bash\")\n",
      "        println(io, \"#\\$ -cwd\")\n",
      "        println(io, \"# error = Merged with joblog\")\n",
      "        println(io, \"#\\$ -o joblog.\\$JOB_ID\")\n",
      "        println(io, \"#\\$ -j y\")\n",
      "        println(io, \"#\\$ -l h_rt=0:30:00,h_data=2G\") # request runtime and memory\n",
      "        println(io, \"#\\$ -pe shared 2\") # request # shared-memory nodes\n",
      "        println(io, \"# Email address to notify\")\n",
      "        println(io, \"#\\$ -M \\$USER@mail\")\n",
      "        println(io, \"# Notify when\")\n",
      "        println(io, \"#\\$ -m a\")\n",
      "        println(io)\n",
      "        println(io, \"# load the job environment:\")\n",
      "        println(io, \". /u/local/Modules/default/init/modules.sh\")\n",
      "        println(io, \"module load julia/1.0.1\") # available Julia version\n",
      "        println(io)\n",
      "        println(io, \"# run julia code\")\n",
      "        println(io, \"julia -e '$jcode' > output.\\$JOB_ID 2>&1\")\n",
      "    end\n",
      "    # submit job\n",
      "    run(`qsub tmp.sh`)\n",
      "end\n"
     ]
    }
   ],
   "source": [
    "run(`cat cluster_run.jl`);"
   ]
  },
  {
   "cell_type": "markdown",
   "metadata": {},
   "source": [
    "## Proportional Odds Assumption\n",
    "\n",
    "The ordered multinomial model used in this package is a cumulative logit model where one effect size is estimated for each covariate. Using the logit link yields the commonly used proportional odds model which assumes the proportional odds assumption holds for your data/model. The proportional odds assumption assumes that the effect of a covariate $\\boldsymbol{\\beta}$ is constant across different groupings of the ordinal outcome i.e.\n",
    "\n",
    "The SNP's effect (on the odds ratio) is the same for the odds ratio of mild vs {medium, severe} as it is for the odds ratio of {mild, medium} vs severe. \n",
    "\n",
    "The consequences/neccesity of this assumption has been thoroughly discussed, as an example see [this blog post](https://www.fharrell.com/post/po/). In simualtions, we did not find violation of this to increase type I error. As stated in the post, when the assumption is violated (meaning there are different effect sizes for different groupings), the estimated effect size is like a weighted average of the different effect sizes. Formal tests for proportional odds are likely to reject the assumption for large n (see p. 306, Categorical Data Analysis 3rd edition by Agresti). Violation of this assumption means the effect size $\\boldsymbol{\\beta}$ differs across outcome strata, but should not imply a significant finding is not significant."
   ]
  }
 ],
 "metadata": {
  "@webio": {
   "lastCommId": null,
   "lastKernelId": null
  },
  "kernelspec": {
   "display_name": "Julia 1.6.0",
   "language": "julia",
   "name": "julia-1.6"
  },
  "language_info": {
   "file_extension": ".jl",
   "mimetype": "application/julia",
   "name": "julia",
   "version": "1.6.0"
  },
  "toc": {
   "colors": {
    "hover_highlight": "#DAA520",
    "running_highlight": "#FF0000",
    "selected_highlight": "#FFD700"
   },
   "moveMenuLeft": true,
   "nav_menu": {
    "height": "30px",
    "width": "252px"
   },
   "navigate_menu": true,
   "number_sections": true,
   "sideBar": true,
   "threshold": 4,
   "toc_cell": false,
   "toc_section_display": "block",
   "toc_window_display": true,
   "widenNotebook": false
  }
 },
 "nbformat": 4,
 "nbformat_minor": 4
}
