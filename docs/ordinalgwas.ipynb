{
 "cells": [
  {
   "cell_type": "markdown",
   "metadata": {},
   "source": [
    "# OrdinalGWAS.jl"
   ]
  },
  {
   "cell_type": "markdown",
   "metadata": {},
   "source": [
    "OrdinalGWAS.jl is a Julia package for performing genome-wide association studies (GWAS) for ordered categorical phenotypes using [proportional odds model](https://en.wikipedia.org/wiki/Ordered_logit) or [ordred Probit model](https://en.wikipedia.org/wiki/Ordered_probit). It is useful when the phenotype takes ordered discrete values, e.g., disease status (undiagnosed, pre-disease, mild, moderate, severe).\n",
    "\n",
    "## Installation\n",
    "\n",
    "This package requires Julia v0.7 or later and two other unregistered packages SnpArrays.jl and OrdinalMultinomialModels.jl. The package has not yet been registered and must be installed using the repository location. Start julia and use the ] key to switch to the package manager REPL\n",
    "```julia\n",
    "(v1.0) pkg> add https://github.com/OpenMendel/SnpArrays.jl.git\n",
    "(v1.0) pkg> add https://github.com/OpenMendel/OrdinalMultinomialModels.jl.git\n",
    "(v1.0) pkg> add https://github.com/OpenMendel/OrdinalGWAS.jl.git\n",
    "```"
   ]
  },
  {
   "cell_type": "code",
   "execution_count": 1,
   "metadata": {},
   "outputs": [
    {
     "name": "stdout",
     "output_type": "stream",
     "text": [
      "Julia Version 1.0.3\n",
      "Commit 099e826241 (2018-12-18 01:34 UTC)\n",
      "Platform Info:\n",
      "  OS: macOS (x86_64-apple-darwin14.5.0)\n",
      "  CPU: Intel(R) Core(TM) i7-6920HQ CPU @ 2.90GHz\n",
      "  WORD_SIZE: 64\n",
      "  LIBM: libopenlibm\n",
      "  LLVM: libLLVM-6.0.0 (ORCJIT, skylake)\n",
      "Environment:\n",
      "  JULIA_EDITOR = code\n"
     ]
    }
   ],
   "source": [
    "# machine information for this tutorial\n",
    "versioninfo()"
   ]
  },
  {
   "cell_type": "code",
   "execution_count": 2,
   "metadata": {
    "collapsed": true
   },
   "outputs": [],
   "source": [
    "# for use in this tutorial\n",
    "using BenchmarkTools, CSV, Glob, OrdinalGWAS, SnpArrays"
   ]
  },
  {
   "cell_type": "markdown",
   "metadata": {},
   "source": [
    "## Example data set\n",
    "\n",
    "`data` folder of the package contains an example data set. In general, user can locate this folder by command"
   ]
  },
  {
   "cell_type": "code",
   "execution_count": 3,
   "metadata": {},
   "outputs": [
    {
     "data": {
      "text/plain": [
       "\"/Users/huazhou/.julia/dev/OrdinalGWAS.jl/data/\""
      ]
     },
     "execution_count": 3,
     "metadata": {},
     "output_type": "execute_result"
    }
   ],
   "source": [
    "using OrdinalGWAS\n",
    "const datadir = normpath(joinpath(dirname(pathof(OrdinalGWAS)), \"../data/\"))"
   ]
  },
  {
   "cell_type": "code",
   "execution_count": 4,
   "metadata": {},
   "outputs": [
    {
     "data": {
      "text/plain": [
       "6-element Array{String,1}:\n",
       " \"/Users/huazhou/.julia/dev/OrdinalGWAS.jl/data/covariate.txt\"\n",
       " \"/Users/huazhou/.julia/dev/OrdinalGWAS.jl/data/hapmap3.bed\"  \n",
       " \"/Users/huazhou/.julia/dev/OrdinalGWAS.jl/data/hapmap3.bim\"  \n",
       " \"/Users/huazhou/.julia/dev/OrdinalGWAS.jl/data/hapmap3.fam\"  \n",
       " \"/Users/huazhou/.julia/dev/OrdinalGWAS.jl/data/hapmap3.map\"  \n",
       " \"/Users/huazhou/.julia/dev/OrdinalGWAS.jl/data/simtrait.jl\"  "
      ]
     },
     "execution_count": 4,
     "metadata": {},
     "output_type": "execute_result"
    }
   ],
   "source": [
    "# content of the data folder\n",
    "readdir(glob\"*.*\", datadir)"
   ]
  },
  {
   "cell_type": "markdown",
   "metadata": {},
   "source": [
    "## Basic usage\n",
    "\n",
    "The following command performs GWAS using the [proportional odds model](https://en.wikipedia.org/wiki/Ordered_logit). The output is the fitted null model."
   ]
  },
  {
   "cell_type": "code",
   "execution_count": 5,
   "metadata": {},
   "outputs": [
    {
     "data": {
      "text/plain": [
       "StatsModels.DataFrameRegressionModel{OrdinalMultinomialModel{Int64,Float64,LogitLink},Array{Float64,2}}\n",
       "\n",
       "Formula: trait ~ +sex\n",
       "\n",
       "Coefficients:\n",
       "      Estimate Std.Error  t value Pr(>|t|)\n",
       "θ1    -1.48564  0.358891 -4.13952    <1e-4\n",
       "θ2   -0.569479  0.341044 -1.66981   0.0959\n",
       "θ3    0.429815  0.339642  1.26549   0.2066\n",
       "β1    0.424656  0.213914  1.98517   0.0480\n"
      ]
     },
     "execution_count": 5,
     "metadata": {},
     "output_type": "execute_result"
    }
   ],
   "source": [
    "ordinalgwas(@formula(trait ~ sex), datadir * \"covariate.txt\", datadir * \"hapmap3\")"
   ]
  },
  {
   "cell_type": "markdown",
   "metadata": {},
   "source": [
    "For documentation of the `ordinalgwas` function, type `?ordinalgwas` in Julia REPL.\n",
    "```@docs\n",
    "ordinalgwas\n",
    "```"
   ]
  },
  {
   "cell_type": "markdown",
   "metadata": {},
   "source": [
    "### Formula for null model\n",
    "\n",
    "The first argument specifies the null model without SNP effects, e.g., `@formula(trait ~ sex)`."
   ]
  },
  {
   "cell_type": "markdown",
   "metadata": {},
   "source": [
    "### Input files\n",
    "\n",
    "`ordinalgwas` expects two input files: one for responses plus covariates (second argument), the other the Plink files for genotypes (third argument).\n",
    "\n",
    "#### Covariate and trait file\n",
    "\n",
    "Covariates and phenotype are provided in a csv file, e.g., `covariate.txt`, which has one header line for variable names. In this example, variable `trait` is the ordered categorical phenotypes coded as integers 1 to 4. We want to include variable `sex` as the covariate in GWAS."
   ]
  },
  {
   "cell_type": "code",
   "execution_count": 6,
   "metadata": {},
   "outputs": [
    {
     "name": "stdout",
     "output_type": "stream",
     "text": [
      "famid,perid,faid,moid,sex,trait\n",
      "2431,NA19916,0,0,1,4\n",
      "2424,NA19835,0,0,2,4\n",
      "2469,NA20282,0,0,2,4\n",
      "2368,NA19703,0,0,1,3\n",
      "2425,NA19901,0,0,2,3\n",
      "2427,NA19908,0,0,1,4\n",
      "2430,NA19914,0,0,2,4\n",
      "2470,NA20287,0,0,2,1\n",
      "2436,NA19713,0,0,2,3\n"
     ]
    }
   ],
   "source": [
    "run(`head $(datadir)covariate.txt`);"
   ]
  },
  {
   "cell_type": "markdown",
   "metadata": {},
   "source": [
    "#### Plink file\n",
    "\n",
    "Genotype data is available as binary Plink files."
   ]
  },
  {
   "cell_type": "code",
   "execution_count": 7,
   "metadata": {},
   "outputs": [
    {
     "data": {
      "text/plain": [
       "4-element Array{String,1}:\n",
       " \"/Users/huazhou/.julia/dev/OrdinalGWAS.jl/data/hapmap3.bed\"\n",
       " \"/Users/huazhou/.julia/dev/OrdinalGWAS.jl/data/hapmap3.bim\"\n",
       " \"/Users/huazhou/.julia/dev/OrdinalGWAS.jl/data/hapmap3.fam\"\n",
       " \"/Users/huazhou/.julia/dev/OrdinalGWAS.jl/data/hapmap3.map\""
      ]
     },
     "execution_count": 7,
     "metadata": {},
     "output_type": "execute_result"
    }
   ],
   "source": [
    "readdir(glob\"hapmap3.*\", datadir)"
   ]
  },
  {
   "cell_type": "markdown",
   "metadata": {},
   "source": [
    "In this example, there are 324 samples at 13,928 SNPs."
   ]
  },
  {
   "cell_type": "code",
   "execution_count": 8,
   "metadata": {},
   "outputs": [
    {
     "data": {
      "text/plain": [
       "(324, 13928)"
      ]
     },
     "execution_count": 8,
     "metadata": {},
     "output_type": "execute_result"
    }
   ],
   "source": [
    "size(SnpArray(datadir * \"hapmap3.bed\"))"
   ]
  },
  {
   "cell_type": "markdown",
   "metadata": {},
   "source": [
    "Compressed Plink files are supported. For example, if Plink files are `hapmap3.bed.gz`, `hapmap3.bim.gz` and `hapmap3.fam.gz`, the same command\n",
    "```julia\n",
    "ordinalgwas(@formula(trait ~ sex), datadir * \"covariate.txt\", datadir * \"hapmap3\")\n",
    "```\n",
    "still works. Check all supported compression format by"
   ]
  },
  {
   "cell_type": "code",
   "execution_count": 9,
   "metadata": {},
   "outputs": [
    {
     "data": {
      "text/plain": [
       "6-element Array{String,1}:\n",
       " \"gz\"  \n",
       " \"zlib\"\n",
       " \"zz\"  \n",
       " \"xz\"  \n",
       " \"zst\" \n",
       " \"bz2\" "
      ]
     },
     "execution_count": 9,
     "metadata": {},
     "output_type": "execute_result"
    }
   ],
   "source": [
    "SnpArrays.ALLOWED_FORMAT"
   ]
  },
  {
   "cell_type": "markdown",
   "metadata": {},
   "source": [
    "### Output files"
   ]
  },
  {
   "cell_type": "markdown",
   "metadata": {},
   "source": [
    "`ordinalgwas` outputs two files: `ordinalgwas.null.txt` and `ordinalgwas.pval.txt`. \n",
    "\n",
    "* `ordinalgwas.null.txt` lists the estimated null model (without SNPs). "
   ]
  },
  {
   "cell_type": "code",
   "execution_count": 10,
   "metadata": {},
   "outputs": [
    {
     "name": "stdout",
     "output_type": "stream",
     "text": [
      "StatsModels.DataFrameRegressionModel{OrdinalMultinomialModel{Int64,Float64,LogitLink},Array{Float64,2}}\n",
      "\n",
      "Formula: trait ~ +sex\n",
      "\n",
      "Coefficients:\n",
      "      Estimate Std.Error  t value Pr(>|t|)\n",
      "θ1    -1.48564  0.358891 -4.13952    <1e-4\n",
      "θ2   -0.569479  0.341044 -1.66981   0.0959\n",
      "θ3    0.429815  0.339642  1.26549   0.2066\n",
      "β1    0.424656  0.213914  1.98517   0.0480\n"
     ]
    }
   ],
   "source": [
    "run(`cat ordinalgwas.null.txt`);"
   ]
  },
  {
   "cell_type": "markdown",
   "metadata": {},
   "source": [
    "* `ordinalgwas.pval.txt` tallies the SNPs and their pvalues. "
   ]
  },
  {
   "cell_type": "code",
   "execution_count": 11,
   "metadata": {},
   "outputs": [
    {
     "name": "stdout",
     "output_type": "stream",
     "text": [
      "chr,pos,snpid,maf,pval\n",
      "1,554484,rs10458597,0.0,1.0\n",
      "1,758311,rs12562034,0.07763975155279501,0.004565312839540994\n",
      "1,967643,rs2710875,0.32407407407407407,3.1082838285548695e-5\n",
      "1,1168108,rs11260566,0.19158878504672894,1.2168672367668912e-5\n",
      "1,1375074,rs1312568,0.441358024691358,0.008206860046175221\n",
      "1,1588771,rs35154105,0.0,1.0\n",
      "1,1789051,rs16824508,0.00462962962962965,0.5111981332544\n",
      "1,1990452,rs2678939,0.4537037037037037,0.29972829571847825\n",
      "1,2194615,rs7553178,0.22685185185185186,0.1713331245805063\n"
     ]
    }
   ],
   "source": [
    "run(`head ordinalgwas.pval.txt`);"
   ]
  },
  {
   "cell_type": "markdown",
   "metadata": {},
   "source": [
    "Output file names can be changed by the `nullfile` and `pvalfile` keywords respectively. For example, \n",
    "```julia\n",
    "ordinalgwas(@formula(trait ~ sex), datadir * \"covariate.txt\", datadir * \"hapmap3\", pvalfile=\"ordinalgwas.pval.txt.gz\")\n",
    "```\n",
    "will output the p-value file in compressed gz format."
   ]
  },
  {
   "cell_type": "markdown",
   "metadata": {},
   "source": [
    "### Subsamples\n",
    "\n",
    "Use the keyword `covrowinds` to specify selected samples in the covarite file. Use the keyword `bedrowinds` to specify selected samples in the Plink bed file. For example, to use the first 300 samples in both covariate and bed file:\n",
    "```julia\n",
    "ordinalgwas(@formula(trait ~ sex), covfile, plkfile, covrowinds=1:300, bedrowinds=1:300)\n",
    "```\n",
    "!!! note\n",
    "\n",
    "    Users should always make sure that the selected samples in covariate file match exactly those in bed file. "
   ]
  },
  {
   "cell_type": "markdown",
   "metadata": {},
   "source": [
    "### Input non-genetic data as DataFrame\n",
    "\n",
    "Internally `ordinalgwas` parses the covariate file as a DataFrame by `CSV.read(covfile)`. For covariate file of other formats, users can parse it as a DataFrame and then input the DataFrame to `ordinalgwas` directly.\n",
    "```julia\n",
    "ordinalgwas(@formula(trait ~ sex), df, plinkfile)\n",
    "```\n",
    "!!! note\n",
    "\n",
    "    Users should always make sure that individuals in covariate file or DataFrame match those in Plink fam file. \n",
    "\n",
    "For example, following code checks that the first 2 columns of the `covariate.txt` file match the first 2 columns of the `hapmap3.fam` file exactly."
   ]
  },
  {
   "cell_type": "code",
   "execution_count": 12,
   "metadata": {},
   "outputs": [
    {
     "data": {
      "text/plain": [
       "true"
      ]
     },
     "execution_count": 12,
     "metadata": {},
     "output_type": "execute_result"
    }
   ],
   "source": [
    "covdf = CSV.read(datadir * \"covariate.txt\")\n",
    "plkfam = CSV.read(datadir * \"hapmap3.fam\", header=0, delim=' ')\n",
    "all(covdf[1] .== plkfam[1]) && all(covdf[2] .== plkfam[2])"
   ]
  },
  {
   "cell_type": "markdown",
   "metadata": {},
   "source": [
    "### Timing\n",
    "\n",
    "For this moderate-sized data set, `ordinalgwas` takes less than 0.2 second."
   ]
  },
  {
   "cell_type": "code",
   "execution_count": 13,
   "metadata": {},
   "outputs": [
    {
     "name": "stdout",
     "output_type": "stream",
     "text": [
      "  162.015 ms (710982 allocations: 33.35 MiB)\n"
     ]
    }
   ],
   "source": [
    "@btime(ordinalgwas(@formula(trait ~ sex), datadir * \"covariate.txt\", datadir * \"hapmap3\"));"
   ]
  },
  {
   "cell_type": "code",
   "execution_count": 14,
   "metadata": {
    "collapsed": true
   },
   "outputs": [],
   "source": [
    "# clean up\n",
    "rm(\"ordinalgwas.null.txt\")\n",
    "rm(\"ordinalgwas.pval.txt\")"
   ]
  },
  {
   "cell_type": "markdown",
   "metadata": {},
   "source": [
    "## Link functions\n",
    "\n",
    "The `link` keyword argument of `ordinalgwas` can take value:  \n",
    "- `LogitLink()`, proportional odds model (default),  \n",
    "- `ProbitLink()`, ordred Probit model,  \n",
    "- `CloglogLink()`, proportional hazards model, or \n",
    "- `CauchyLink()`.\n",
    "\n",
    "For example, to perform GWAS using the ordred Probit model"
   ]
  },
  {
   "cell_type": "code",
   "execution_count": 15,
   "metadata": {},
   "outputs": [
    {
     "data": {
      "text/plain": [
       "StatsModels.DataFrameRegressionModel{OrdinalMultinomialModel{Int64,Float64,ProbitLink},Array{Float64,2}}\n",
       "\n",
       "Formula: trait ~ +sex\n",
       "\n",
       "Coefficients:\n",
       "      Estimate Std.Error  t value Pr(>|t|)\n",
       "θ1   -0.866156  0.210677 -4.11129    <1e-4\n",
       "θ2   -0.359878  0.205817 -1.74854   0.0813\n",
       "θ3    0.247054  0.205382   1.2029   0.2299\n",
       "β1    0.251058  0.128225  1.95795   0.0511\n"
      ]
     },
     "execution_count": 15,
     "metadata": {},
     "output_type": "execute_result"
    }
   ],
   "source": [
    "ordinalgwas(@formula(trait ~ sex), datadir * \"covariate.txt\", datadir * \"hapmap3\", \n",
    "    link=ProbitLink(), nullfile=\"opm.null.txt\", pvalfile=\"opm.pval.txt\")"
   ]
  },
  {
   "cell_type": "markdown",
   "metadata": {
    "collapsed": true
   },
   "source": [
    "The estimates in null model and p-values are slightly different from those in proportional odds moodel."
   ]
  },
  {
   "cell_type": "code",
   "execution_count": 16,
   "metadata": {},
   "outputs": [
    {
     "name": "stdout",
     "output_type": "stream",
     "text": [
      "chr,pos,snpid,maf,pval\n",
      "1,554484,rs10458597,0.0,1.0\n",
      "1,758311,rs12562034,0.07763975155279501,0.010076916742300138\n",
      "1,967643,rs2710875,0.32407407407407407,2.6272564941853933e-5\n",
      "1,1168108,rs11260566,0.19158878504672894,1.0897484851078458e-5\n",
      "1,1375074,rs1312568,0.441358024691358,0.005102883990438149\n",
      "1,1588771,rs35154105,0.0,1.0\n",
      "1,1789051,rs16824508,0.00462962962962965,0.48653776297859236\n",
      "1,1990452,rs2678939,0.4537037037037037,0.33231290090455434\n",
      "1,2194615,rs7553178,0.22685185185185186,0.25915513977197435\n"
     ]
    }
   ],
   "source": [
    "run(`head opm.pval.txt`);"
   ]
  },
  {
   "cell_type": "code",
   "execution_count": 17,
   "metadata": {
    "collapsed": true
   },
   "outputs": [],
   "source": [
    "rm(\"opm.null.txt\")\n",
    "rm(\"opm.pval.txt\")"
   ]
  },
  {
   "cell_type": "markdown",
   "metadata": {},
   "source": [
    "## SNP models\n",
    "\n",
    "Genotypes are translated into numeric values according to different genetic model, which is specified by the `snpmodel` keyword. Default is `ADDITIVE_MODEL`.\n",
    "\n",
    "| Genotype | `SnpArray` | `ADDITIVE_MODEL` | `DOMINANT_MODEL` | `RECESSIVE_MODEL` |    \n",
    "|:---:|:---:|:---:|:---:|:---:|  \n",
    "| A1,A1 | 0x00 | 0 | 0 | 0 |  \n",
    "| missing | 0x01 | NaN | NaN | NaN |\n",
    "| A1,A2 | 0x02 | 1 | 1 | 0 |  \n",
    "| A2,A2 | 0x03 | 2 | 1 | 1 |  \n",
    "\n",
    "!!! note\n",
    "\n",
    "    `ordinalgwas` imputes missing genotypes according to minor allele frequencies. \n",
    "    \n",
    "Users are advised to impute genotypes using more sophiscated methods before GWAS."
   ]
  },
  {
   "cell_type": "markdown",
   "metadata": {},
   "source": [
    "## SNP and/or sample masks\n",
    "\n",
    "In practice, we often perform GWAS on selected SNPs and/or selected samples. They can be specified by the `snpinds`, `covrowinds` and `bedrowinds` keywords of `ordinalgwas` function. \n",
    "\n",
    "For example, to perform GWAS on SNPs with minor allele frequency (MAF) above 0.05"
   ]
  },
  {
   "cell_type": "code",
   "execution_count": 18,
   "metadata": {},
   "outputs": [
    {
     "name": "stdout",
     "output_type": "stream",
     "text": [
      "  0.305909 seconds (881.81 k allocations: 42.526 MiB, 7.89% gc time)\n"
     ]
    },
    {
     "data": {
      "text/plain": [
       "StatsModels.DataFrameRegressionModel{OrdinalMultinomialModel{Int64,Float64,LogitLink},Array{Float64,2}}\n",
       "\n",
       "Formula: trait ~ +sex\n",
       "\n",
       "Coefficients:\n",
       "      Estimate Std.Error  t value Pr(>|t|)\n",
       "θ1    -1.48564  0.358891 -4.13952    <1e-4\n",
       "θ2   -0.569479  0.341044 -1.66981   0.0959\n",
       "θ3    0.429815  0.339642  1.26549   0.2066\n",
       "β1    0.424656  0.213914  1.98517   0.0480\n"
      ]
     },
     "execution_count": 18,
     "metadata": {},
     "output_type": "execute_result"
    }
   ],
   "source": [
    "# create SNP mask\n",
    "snpinds = maf(SnpArray(\"../data/hapmap3.bed\")) .≥ 0.05\n",
    "# GWAS on selected SNPs\n",
    "@time ordinalgwas(@formula(trait ~ sex), datadir * \"covariate.txt\", datadir * \"hapmap3\", \n",
    "    snpinds=snpinds, nullfile=\"commonvariant.null.txt\", pvalfile=\"commonvariant.pval.txt\")"
   ]
  },
  {
   "cell_type": "code",
   "execution_count": 19,
   "metadata": {},
   "outputs": [
    {
     "name": "stdout",
     "output_type": "stream",
     "text": [
      "chr,pos,snpid,maf,pval\n",
      "1,758311,rs12562034,0.07763975155279501,0.004565312839540994\n",
      "1,967643,rs2710875,0.32407407407407407,3.1082838285548695e-5\n",
      "1,1168108,rs11260566,0.19158878504672894,1.2168672367668912e-5\n",
      "1,1375074,rs1312568,0.441358024691358,0.008206860046175221\n",
      "1,1990452,rs2678939,0.4537037037037037,0.29972829571847825\n",
      "1,2194615,rs7553178,0.22685185185185186,0.1713331245805063\n",
      "1,2396747,rs13376356,0.1448598130841121,0.5320416198875456\n",
      "1,2823603,rs1563468,0.4830246913580247,0.225191391783573\n",
      "1,3025087,rs6690373,0.2538699690402477,0.7018469417717486\n"
     ]
    }
   ],
   "source": [
    "run(`head commonvariant.pval.txt`);"
   ]
  },
  {
   "cell_type": "code",
   "execution_count": 20,
   "metadata": {},
   "outputs": [
    {
     "data": {
      "text/plain": [
       "(12086, 12085)"
      ]
     },
     "execution_count": 20,
     "metadata": {},
     "output_type": "execute_result"
    }
   ],
   "source": [
    "# extra header line in commonvariant.pval.txt\n",
    "countlines(\"commonvariant.pval.txt\"), count(snpinds)"
   ]
  },
  {
   "cell_type": "code",
   "execution_count": 21,
   "metadata": {
    "collapsed": true
   },
   "outputs": [],
   "source": [
    "# clean up\n",
    "rm(\"commonvariant.null.txt\")\n",
    "rm(\"commonvariant.pval.txt\")"
   ]
  },
  {
   "cell_type": "markdown",
   "metadata": {},
   "source": [
    "`covrowinds` specify the samples in the covariate file and `bedrowinds` for SnpArray. User should be particularly careful when these two keyword. Selected rows in SnpArray should exactly match the samples in the null model. Otherwise the results are meaningless."
   ]
  },
  {
   "cell_type": "markdown",
   "metadata": {},
   "source": [
    "## Likelihood ratio test (LRT)\n",
    "\n",
    "By default, `ordinalgwas` calculates p-value for each SNP using score test. Score test is fast because it doesn't require fitting alternative model for each SNP. User can request likelihood ratio test (LRT) using keyword `test=:lrt`. LRT is much slower but may be more powerful than score test."
   ]
  },
  {
   "cell_type": "code",
   "execution_count": 22,
   "metadata": {},
   "outputs": [
    {
     "name": "stdout",
     "output_type": "stream",
     "text": [
      " 21.404085 seconds (8.18 M allocations: 2.044 GiB, 1.85% gc time)\n"
     ]
    },
    {
     "data": {
      "text/plain": [
       "StatsModels.DataFrameRegressionModel{OrdinalMultinomialModel{Int64,Float64,LogitLink},Array{Float64,2}}\n",
       "\n",
       "Formula: trait ~ +sex\n",
       "\n",
       "Coefficients:\n",
       "      Estimate Std.Error  t value Pr(>|t|)\n",
       "θ1    -1.48564  0.358891 -4.13952    <1e-4\n",
       "θ2   -0.569479  0.341044 -1.66981   0.0959\n",
       "θ3    0.429815  0.339642  1.26549   0.2066\n",
       "β1    0.424656  0.213914  1.98517   0.0480\n"
      ]
     },
     "execution_count": 22,
     "metadata": {},
     "output_type": "execute_result"
    }
   ],
   "source": [
    "@time ordinalgwas(@formula(trait ~ sex), datadir * \"covariate.txt\", datadir * \"hapmap3\", \n",
    "    test=:LRT, nullfile=\"lrt.null.txt\", pvalfile=\"lrt.pval.txt\")"
   ]
  },
  {
   "cell_type": "markdown",
   "metadata": {},
   "source": [
    "Note the extra `effect` column in pvalfile, which is the effect size (regression coefficient) for each SNP. "
   ]
  },
  {
   "cell_type": "code",
   "execution_count": 23,
   "metadata": {},
   "outputs": [
    {
     "name": "stdout",
     "output_type": "stream",
     "text": [
      "chr,pos,snpid,maf,effect,pval\n",
      "1,554484,rs10458597,0.0,0.0,1.0\n",
      "1,758311,rs12562034,0.07763975155279501,-1.0057833719544331,0.0019185836579804134\n",
      "1,967643,rs2710875,0.32407407407407407,-0.6488560566295055,1.805050556976241e-5\n",
      "1,1168108,rs11260566,0.19158878504672894,-0.9157225669357879,5.873384712685568e-6\n",
      "1,1375074,rs1312568,0.441358024691358,-0.33181366525772593,0.008081022577832324\n",
      "1,1588771,rs35154105,0.0,0.0,1.0\n",
      "1,1789051,rs16824508,0.00462962962962965,-0.7338026388701573,0.5169027130129711\n",
      "1,1990452,rs2678939,0.4537037037037037,-0.13586499231819726,0.29946402200912603\n",
      "1,2194615,rs7553178,0.22685185185185186,-0.2512075640440123,0.16151069094439868\n"
     ]
    }
   ],
   "source": [
    "run(`head lrt.pval.txt`);"
   ]
  },
  {
   "cell_type": "code",
   "execution_count": 24,
   "metadata": {
    "collapsed": true
   },
   "outputs": [],
   "source": [
    "# clean up\n",
    "rm(\"lrt.pval.txt\")\n",
    "rm(\"lrt.null.txt\")"
   ]
  },
  {
   "cell_type": "markdown",
   "metadata": {},
   "source": [
    "In this example, GWAS by score test takes less than 0.2 second, while GWAS by LRT takes about 20 seconds. About 100 fold difference in run time. \n",
    "\n",
    "## Score test for screening, LRT for power \n",
    "\n",
    "For large data sets, a practical solution is to perform score test first, then re-do LRT for the most promising SNPs according to score test p-values.\n",
    "\n",
    "**Step 1**: Perform score test GWAS, results in `score.pval.txt`."
   ]
  },
  {
   "cell_type": "code",
   "execution_count": 25,
   "metadata": {},
   "outputs": [
    {
     "name": "stdout",
     "output_type": "stream",
     "text": [
      "  0.256595 seconds (758.61 k allocations: 35.808 MiB, 7.43% gc time)\n"
     ]
    }
   ],
   "source": [
    "@time ordinalgwas(@formula(trait ~ sex), datadir * \"covariate.txt\", datadir * \"hapmap3\", \n",
    "    test=:score, pvalfile=\"score.pval.txt\");"
   ]
  },
  {
   "cell_type": "code",
   "execution_count": 26,
   "metadata": {},
   "outputs": [
    {
     "name": "stdout",
     "output_type": "stream",
     "text": [
      "chr,pos,snpid,maf,pval\n",
      "1,554484,rs10458597,0.0,1.0\n",
      "1,758311,rs12562034,0.07763975155279501,0.004565312839540994\n",
      "1,967643,rs2710875,0.32407407407407407,3.1082838285548695e-5\n",
      "1,1168108,rs11260566,0.19158878504672894,1.2168672367668912e-5\n",
      "1,1375074,rs1312568,0.441358024691358,0.008206860046175221\n",
      "1,1588771,rs35154105,0.0,1.0\n",
      "1,1789051,rs16824508,0.00462962962962965,0.5111981332544\n",
      "1,1990452,rs2678939,0.4537037037037037,0.29972829571847825\n",
      "1,2194615,rs7553178,0.22685185185185186,0.1713331245805063\n"
     ]
    }
   ],
   "source": [
    "run(`head score.pval.txt`);"
   ]
  },
  {
   "cell_type": "markdown",
   "metadata": {},
   "source": [
    "**Step 2**: Sort score test p-values and find top 10 SNPs."
   ]
  },
  {
   "cell_type": "code",
   "execution_count": 27,
   "metadata": {},
   "outputs": [
    {
     "data": {
      "text/plain": [
       "10-element Array{Union{Missing, Float64},1}:\n",
       " 1.3080149099181335e-6\n",
       " 6.536722765052079e-6 \n",
       " 9.664742185669054e-6 \n",
       " 1.2168672367668912e-5\n",
       " 1.802746001833127e-5 \n",
       " 2.0989542284213636e-5\n",
       " 2.6844521269963608e-5\n",
       " 3.1082838285548695e-5\n",
       " 4.1010912875160476e-5\n",
       " 4.2966265138454806e-5"
      ]
     },
     "execution_count": 27,
     "metadata": {},
     "output_type": "execute_result"
    }
   ],
   "source": [
    "scorepvals = CSV.read(\"score.pval.txt\")[5] # p-values in 5th column\n",
    "tophits = sortperm(scorepvals)[1:10] # indices of 10 SNPs with smallest p-values\n",
    "scorepvals[tophits] # smallest 10 p-values"
   ]
  },
  {
   "cell_type": "markdown",
   "metadata": {},
   "source": [
    "**Step 3**: Re-do LRT on top hits."
   ]
  },
  {
   "cell_type": "code",
   "execution_count": 28,
   "metadata": {},
   "outputs": [
    {
     "name": "stdout",
     "output_type": "stream",
     "text": [
      "  0.208245 seconds (358.46 k allocations: 20.114 MiB, 3.50% gc time)\n"
     ]
    }
   ],
   "source": [
    "@time ordinalgwas(@formula(trait ~ sex), datadir * \"covariate.txt\", datadir * \"hapmap3\", \n",
    "    snpinds=tophits, test=:LRT, pvalfile=\"lrt.pval.txt\");"
   ]
  },
  {
   "cell_type": "code",
   "execution_count": 29,
   "metadata": {},
   "outputs": [
    {
     "name": "stdout",
     "output_type": "stream",
     "text": [
      "chr,pos,snpid,maf,effect,pval\n",
      "1,967643,rs2710875,0.32407407407407407,-0.6488560566295055,1.805050556976241e-5\n",
      "1,1168108,rs11260566,0.19158878504672894,-0.9157225669357879,5.873384712685568e-6\n",
      "3,36821790,rs4678553,0.23456790123456794,0.7424952268973518,1.1303825016262592e-5\n",
      "4,11017683,rs16881446,0.27554179566563464,-0.7870581482955515,1.1105427468799613e-5\n",
      "5,3739190,rs12521166,0.0679012345679012,1.1468852997925316,4.781288229657399e-5\n",
      "6,7574576,rs1885466,0.17746913580246915,0.8750621092263019,7.272346896740631e-6\n",
      "6,52474721,rs2073183,0.1826625386996904,0.7790794914858663,5.069394513906121e-5\n",
      "7,41152376,rs28880,0.3379629629629629,-0.814633902445351,9.180126530294943e-7\n",
      "7,84223996,rs4128623,0.07870370370370372,1.0022229316338573,6.587895464657512e-5\n",
      "23,121048059,rs1937165,0.4380804953560371,0.5392313636256612,1.9754643855522616e-5\n"
     ]
    }
   ],
   "source": [
    "run(`cat lrt.pval.txt`);"
   ]
  },
  {
   "cell_type": "code",
   "execution_count": 30,
   "metadata": {
    "collapsed": true
   },
   "outputs": [],
   "source": [
    "# clean up\n",
    "rm(\"ordinalgwas.null.txt\")\n",
    "rm(\"score.pval.txt\")\n",
    "rm(\"lrt.pval.txt\")"
   ]
  },
  {
   "cell_type": "markdown",
   "metadata": {
    "collapsed": true
   },
   "source": [
    "## GxE or other interactions\n",
    "\n",
    "In many applications, we want to test SNP effect and/or its interaction with other terms. `testformula` keyword specifies the test unit **besides** the covariates in `nullformula`. \n",
    "\n",
    "In following example, keyword `testformula=@formula(trait ~ snp + snp & sex)` instructs `ordinalgwas` to test joint effect of `snp` and `snp & sex` interaction."
   ]
  },
  {
   "cell_type": "code",
   "execution_count": 31,
   "metadata": {
    "collapsed": true
   },
   "outputs": [],
   "source": [
    "ordinalgwas(@formula(trait ~ sex), datadir * \"covariate.txt\", datadir * \"hapmap3\", \n",
    "    pvalfile=\"GxE.pval.txt\", testformula=@formula(trait ~ snp + snp & sex));"
   ]
  },
  {
   "cell_type": "code",
   "execution_count": 32,
   "metadata": {},
   "outputs": [
    {
     "name": "stdout",
     "output_type": "stream",
     "text": [
      "chr,pos,snpid,maf,pval\n",
      "1,554484,rs10458597,0.0,1.0\n",
      "1,758311,rs12562034,0.07763975155279501,0.017446010412254197\n",
      "1,967643,rs2710875,0.32407407407407407,0.0001667073239489097\n",
      "1,1168108,rs11260566,0.19158878504672894,4.763762457893366e-5\n",
      "1,1375074,rs1312568,0.441358024691358,0.029138471242993652\n",
      "1,1588771,rs35154105,0.0,1.0\n",
      "1,1789051,rs16824508,0.00462962962962965,0.2964363114944328\n",
      "1,1990452,rs2678939,0.4537037037037037,0.37924580479348785\n",
      "1,2194615,rs7553178,0.22685185185185186,0.325582269932396\n"
     ]
    }
   ],
   "source": [
    "run(`head GxE.pval.txt`);"
   ]
  },
  {
   "cell_type": "code",
   "execution_count": 33,
   "metadata": {
    "collapsed": true
   },
   "outputs": [],
   "source": [
    "# clean up\n",
    "rm(\"ordinalgwas.null.txt\")\n",
    "rm(\"GxE.pval.txt\")"
   ]
  },
  {
   "cell_type": "markdown",
   "metadata": {},
   "source": [
    "## Plotting Results\n",
    "\n",
    "To plot the GWAS results, use the [MendelPlots.jl package](https://openmendel.github.io/MendelPlots.jl/latest/)."
   ]
  },
  {
   "cell_type": "markdown",
   "metadata": {},
   "source": [
    "## Docker\n",
    "\n",
    "For ease of using OrdinalGWAS, we provide a Dockerfile so users don't need to install Julia and required packages. Only Docker app needs to be installed in order to run analysis. Following is tested on Docker 2.0.0.0-mac78.\n",
    "\n",
    "**Step 1**: Create a Dockerfile with content [here](https://raw.githubusercontent.com/OpenMendel/OrdinalGWAS.jl/master/docker/Dockerfile), or, if the bash command `wget` is available, obtain Dockerfile by\n",
    "```bash\n",
    "# on command line\n",
    "wget https://raw.githubusercontent.com/OpenMendel/OrdinalGWAS.jl/master/docker/Dockerfile\n",
    "```"
   ]
  },
  {
   "cell_type": "markdown",
   "metadata": {},
   "source": [
    "**Step 2**: Build a docker image called `ordinalgwas-app`, assuming that the Dockerfile is located in the `../docker` folder. Building the image for the first time can take up to 10 minutes; but it only needs to be done once.\n",
    "```bash\n",
    "# on command line\n",
    "docker build -t ordinalgwas-app ../docker/\n",
    "```"
   ]
  },
  {
   "cell_type": "markdown",
   "metadata": {},
   "source": [
    "**Step 3**: Suppose data files are located at `/path/to/data` folder, run analysis by\n",
    "```bash\n",
    "# on command line\n",
    "docker run -v /path/to/data:/data -t ordinalgwas-app julia -e 'using OrdinalGWAS; ordinalgwas(@formula(trait ~ sex), \"/data/covariate.txt\", \"/data/hapmap3\", nullfile=\"/data/ordinalgwas.null.txt\", pvalfile=\"/data/ordinalgwas\");'\n",
    "```"
   ]
  },
  {
   "cell_type": "markdown",
   "metadata": {},
   "source": [
    "Here  \n",
    "- `-t ordinalgwas-app` creates a container using the `ordinalgwas-app` image build in step 2.  \n",
    "- `-v /path/to/data:/data` maps the `/path/to/data` folder on host machine to the `/data` folder within the container. \n",
    "- `julia -e 'using OrdinalGWAS; ordinalgwas(@formula(trait ~ sex), \"/data/covariate.txt\", \"/data/hapmap3\", nullfile=\"/data/ordinalgwas.null.txt\", pvalfile=\"/data/ordinalgwas\");` calls Julia and runs `ordinalgwas` function. \n",
    "\n",
    "The output files are written in `/path/to/data` directory."
   ]
  },
  {
   "cell_type": "markdown",
   "metadata": {},
   "source": [
    "## Multiple Plink file sets\n",
    "\n",
    "In large scale studies, genotypes data are split into multiple Plink files, e.g., by chromosome. Then GWAS analysis can be done in parallel. This can be achieved by two steps.\n",
    "\n",
    "Let's first create demo data by splitting hapmap3 according to chromosome:"
   ]
  },
  {
   "cell_type": "code",
   "execution_count": 34,
   "metadata": {},
   "outputs": [
    {
     "data": {
      "text/plain": [
       "75-element Array{String,1}:\n",
       " \"/Users/huazhou/.julia/dev/OrdinalGWAS.jl/data/hapmap3.chr.1.bed\" \n",
       " \"/Users/huazhou/.julia/dev/OrdinalGWAS.jl/data/hapmap3.chr.1.bim\" \n",
       " \"/Users/huazhou/.julia/dev/OrdinalGWAS.jl/data/hapmap3.chr.1.fam\" \n",
       " \"/Users/huazhou/.julia/dev/OrdinalGWAS.jl/data/hapmap3.chr.10.bed\"\n",
       " \"/Users/huazhou/.julia/dev/OrdinalGWAS.jl/data/hapmap3.chr.10.bim\"\n",
       " \"/Users/huazhou/.julia/dev/OrdinalGWAS.jl/data/hapmap3.chr.10.fam\"\n",
       " \"/Users/huazhou/.julia/dev/OrdinalGWAS.jl/data/hapmap3.chr.11.bed\"\n",
       " \"/Users/huazhou/.julia/dev/OrdinalGWAS.jl/data/hapmap3.chr.11.bim\"\n",
       " \"/Users/huazhou/.julia/dev/OrdinalGWAS.jl/data/hapmap3.chr.11.fam\"\n",
       " \"/Users/huazhou/.julia/dev/OrdinalGWAS.jl/data/hapmap3.chr.12.bed\"\n",
       " \"/Users/huazhou/.julia/dev/OrdinalGWAS.jl/data/hapmap3.chr.12.bim\"\n",
       " \"/Users/huazhou/.julia/dev/OrdinalGWAS.jl/data/hapmap3.chr.12.fam\"\n",
       " \"/Users/huazhou/.julia/dev/OrdinalGWAS.jl/data/hapmap3.chr.13.bed\"\n",
       " ⋮                                                                 \n",
       " \"/Users/huazhou/.julia/dev/OrdinalGWAS.jl/data/hapmap3.chr.6.bed\" \n",
       " \"/Users/huazhou/.julia/dev/OrdinalGWAS.jl/data/hapmap3.chr.6.bim\" \n",
       " \"/Users/huazhou/.julia/dev/OrdinalGWAS.jl/data/hapmap3.chr.6.fam\" \n",
       " \"/Users/huazhou/.julia/dev/OrdinalGWAS.jl/data/hapmap3.chr.7.bed\" \n",
       " \"/Users/huazhou/.julia/dev/OrdinalGWAS.jl/data/hapmap3.chr.7.bim\" \n",
       " \"/Users/huazhou/.julia/dev/OrdinalGWAS.jl/data/hapmap3.chr.7.fam\" \n",
       " \"/Users/huazhou/.julia/dev/OrdinalGWAS.jl/data/hapmap3.chr.8.bed\" \n",
       " \"/Users/huazhou/.julia/dev/OrdinalGWAS.jl/data/hapmap3.chr.8.bim\" \n",
       " \"/Users/huazhou/.julia/dev/OrdinalGWAS.jl/data/hapmap3.chr.8.fam\" \n",
       " \"/Users/huazhou/.julia/dev/OrdinalGWAS.jl/data/hapmap3.chr.9.bed\" \n",
       " \"/Users/huazhou/.julia/dev/OrdinalGWAS.jl/data/hapmap3.chr.9.bim\" \n",
       " \"/Users/huazhou/.julia/dev/OrdinalGWAS.jl/data/hapmap3.chr.9.fam\" "
      ]
     },
     "execution_count": 34,
     "metadata": {},
     "output_type": "execute_result"
    }
   ],
   "source": [
    "# split example hapmap3 data according to chromosome\n",
    "SnpArrays.split_plink(datadir * \"hapmap3\", :chromosome; prefix=datadir * \"hapmap3.chr.\")\n",
    "readdir(glob\"hapmap3.chr.*\", datadir)"
   ]
  },
  {
   "cell_type": "markdown",
   "metadata": {},
   "source": [
    "Step 1: Fit the null model. Setting third argument `plinkfile` to `nothing` instructs `ordinalgwas` function to fit the null model only."
   ]
  },
  {
   "cell_type": "code",
   "execution_count": 35,
   "metadata": {},
   "outputs": [
    {
     "data": {
      "text/plain": [
       "StatsModels.DataFrameRegressionModel{OrdinalMultinomialModel{Int64,Float64,LogitLink},Array{Float64,2}}\n",
       "\n",
       "Formula: trait ~ +sex\n",
       "\n",
       "Coefficients:\n",
       "      Estimate Std.Error  t value Pr(>|t|)\n",
       "θ1    -1.48564  0.358891 -4.13952    <1e-4\n",
       "θ2   -0.569479  0.341044 -1.66981   0.0959\n",
       "θ3    0.429815  0.339642  1.26549   0.2066\n",
       "β1    0.424656  0.213914  1.98517   0.0480\n"
      ]
     },
     "execution_count": 35,
     "metadata": {},
     "output_type": "execute_result"
    }
   ],
   "source": [
    "nm = ordinalgwas(@formula(trait ~ sex), datadir * \"covariate.txt\", nothing)"
   ]
  },
  {
   "cell_type": "markdown",
   "metadata": {},
   "source": [
    "Step 2: GWAS for each chromosome."
   ]
  },
  {
   "cell_type": "code",
   "execution_count": 36,
   "metadata": {
    "collapsed": true
   },
   "outputs": [],
   "source": [
    "# this part can be submitted as separate jobs\n",
    "for chr in 1:23\n",
    "    plinkfile = datadir * \"hapmap3.chr.\" * string(chr)\n",
    "    pvalfile = plinkfile * \".pval.txt\" \n",
    "    ordinalgwas(nm, plinkfile, pvalfile=pvalfile)\n",
    "end"
   ]
  },
  {
   "cell_type": "code",
   "execution_count": 37,
   "metadata": {},
   "outputs": [
    {
     "data": {
      "text/plain": [
       "23-element Array{String,1}:\n",
       " \"/Users/huazhou/.julia/dev/OrdinalGWAS.jl/data/hapmap3.chr.1.pval.txt\" \n",
       " \"/Users/huazhou/.julia/dev/OrdinalGWAS.jl/data/hapmap3.chr.10.pval.txt\"\n",
       " \"/Users/huazhou/.julia/dev/OrdinalGWAS.jl/data/hapmap3.chr.11.pval.txt\"\n",
       " \"/Users/huazhou/.julia/dev/OrdinalGWAS.jl/data/hapmap3.chr.12.pval.txt\"\n",
       " \"/Users/huazhou/.julia/dev/OrdinalGWAS.jl/data/hapmap3.chr.13.pval.txt\"\n",
       " \"/Users/huazhou/.julia/dev/OrdinalGWAS.jl/data/hapmap3.chr.14.pval.txt\"\n",
       " \"/Users/huazhou/.julia/dev/OrdinalGWAS.jl/data/hapmap3.chr.15.pval.txt\"\n",
       " \"/Users/huazhou/.julia/dev/OrdinalGWAS.jl/data/hapmap3.chr.16.pval.txt\"\n",
       " \"/Users/huazhou/.julia/dev/OrdinalGWAS.jl/data/hapmap3.chr.17.pval.txt\"\n",
       " \"/Users/huazhou/.julia/dev/OrdinalGWAS.jl/data/hapmap3.chr.18.pval.txt\"\n",
       " \"/Users/huazhou/.julia/dev/OrdinalGWAS.jl/data/hapmap3.chr.19.pval.txt\"\n",
       " \"/Users/huazhou/.julia/dev/OrdinalGWAS.jl/data/hapmap3.chr.2.pval.txt\" \n",
       " \"/Users/huazhou/.julia/dev/OrdinalGWAS.jl/data/hapmap3.chr.20.pval.txt\"\n",
       " \"/Users/huazhou/.julia/dev/OrdinalGWAS.jl/data/hapmap3.chr.21.pval.txt\"\n",
       " \"/Users/huazhou/.julia/dev/OrdinalGWAS.jl/data/hapmap3.chr.22.pval.txt\"\n",
       " \"/Users/huazhou/.julia/dev/OrdinalGWAS.jl/data/hapmap3.chr.23.pval.txt\"\n",
       " \"/Users/huazhou/.julia/dev/OrdinalGWAS.jl/data/hapmap3.chr.3.pval.txt\" \n",
       " \"/Users/huazhou/.julia/dev/OrdinalGWAS.jl/data/hapmap3.chr.4.pval.txt\" \n",
       " \"/Users/huazhou/.julia/dev/OrdinalGWAS.jl/data/hapmap3.chr.5.pval.txt\" \n",
       " \"/Users/huazhou/.julia/dev/OrdinalGWAS.jl/data/hapmap3.chr.6.pval.txt\" \n",
       " \"/Users/huazhou/.julia/dev/OrdinalGWAS.jl/data/hapmap3.chr.7.pval.txt\" \n",
       " \"/Users/huazhou/.julia/dev/OrdinalGWAS.jl/data/hapmap3.chr.8.pval.txt\" \n",
       " \"/Users/huazhou/.julia/dev/OrdinalGWAS.jl/data/hapmap3.chr.9.pval.txt\" "
      ]
     },
     "execution_count": 37,
     "metadata": {},
     "output_type": "execute_result"
    }
   ],
   "source": [
    "# show the result files\n",
    "readdir(glob\"*.pval.txt\", datadir)"
   ]
  },
  {
   "cell_type": "markdown",
   "metadata": {},
   "source": [
    "In the rare situations where the multiple sets of Plink files lack the `fam` file or the corresponding bed and bim files have different filenames, users can explicitly supply bed filename, bim file name, and number of individuals. Replace Step 2 by \n",
    "\n",
    "Step 2': GWAS for each chromosome."
   ]
  },
  {
   "cell_type": "code",
   "execution_count": 38,
   "metadata": {
    "collapsed": true
   },
   "outputs": [],
   "source": [
    "# this part can be submitted as separate jobs\n",
    "for chr in 1:23\n",
    "    bedfile = datadir * \"hapmap3.chr.\" * string(chr) * \".bed\"\n",
    "    bimfile = datadir * \"hapmap3.chr.\" * string(chr) * \".bim\"\n",
    "    pvalfile = datadir * \"hapmap3.chr.\" * string(chr) * \".pval.txt\"\n",
    "    ordinalgwas(nm, bedfile, bimfile, 324; pvalfile=pvalfile)\n",
    "end"
   ]
  },
  {
   "cell_type": "code",
   "execution_count": 39,
   "metadata": {
    "collapsed": true
   },
   "outputs": [],
   "source": [
    "# clean up\n",
    "isfile(\"ordinalgwas.null.txt\") && rm(\"ordinalgwas.null.txt\")\n",
    "isfile(datadir * \"fittednullmodel.jld2\") && rm(datadir * \"fittednullmodel.jld2\")\n",
    "for chr in 1:23\n",
    "    pvalfile = datadir * \"hapmap3.chr.\" * string(chr) * \".pval.txt\"\n",
    "    isfile(pvalfile) && rm(pvalfile)\n",
    "end\n",
    "for chr in 1:26\n",
    "    plinkfile = datadir * \"hapmap3.chr.\" * string(chr)\n",
    "    isfile(plinkfile * \".bed\") && rm(plinkfile * \".bed\")\n",
    "    isfile(plinkfile * \".fam\") && rm(plinkfile * \".fam\")\n",
    "    isfile(plinkfile * \".bim\") && rm(plinkfile * \".bim\")\n",
    "end"
   ]
  },
  {
   "cell_type": "markdown",
   "metadata": {},
   "source": [
    "## Multiple Plink file sets on cluster\n",
    "\n",
    "We provide two scripts that successfully run on UCLA's Hoffman2 cluster using Julia v1.0.1 and PBS job schedulaer (`qsub`).\n",
    "\n",
    "* The first script [`cluster_preparedata.jl`](https://raw.githubusercontent.com/OpenMendel/OrdinalGWAS.jl/master/docs/cluster_preparedata.jl) creates a demo data set in current folder. Run\n",
    "```julia\n",
    "julia cluster_preparedata.jl\n",
    "```\n",
    "on head node."
   ]
  },
  {
   "cell_type": "code",
   "execution_count": 40,
   "metadata": {},
   "outputs": [
    {
     "name": "stdout",
     "output_type": "stream",
     "text": [
      "#!/usr/local/bin/julia\n",
      "#\n",
      "# This script prepares a data set in current folder. \n",
      "# For each of chromosome 1-23, there is a set gzipped Plink files:\n",
      "# hapmap3.chr.1.bed.gz, hapmap3.chr.1.bim.gz, hapmap3.chr.1.fam.gz\n",
      "# hapmap3.chr.2.bed.gz, hapmap3.chr.2.bim.gz, hapmap3.chr.2.fam.gz\n",
      "# ...\n",
      "# hapmap3.chr.23.bed.gz, hapmap3.chr.23.bim.gz, hapmap3.chr.23.fam.gz\n",
      "# There is also a csv file \"covariate.txt\" that contains trait and covariates.\n",
      "#\n",
      "\n",
      "# install and load Julia packages\n",
      "using Pkg\n",
      "haskey(Pkg.installed(), \"SnpArrays\") || \n",
      "Pkg.add(PackageSpec(url=\"https://github.com/OpenMendel/SnpArrays.jl.git\"))\n",
      "haskey(Pkg.installed(), \"OrdinalMultinomialModels\") || \n",
      "Pkg.add(PackageSpec(url=\"https://github.com/OpenMendel/OrdinalMultinomialModels.jl.git\"))\n",
      "haskey(Pkg.installed(), \"OrdinalGWAS\") || \n",
      "Pkg.add(PackageSpec(url=\"https://github.com/OpenMendel/OrdinalGWAS.jl.git\"))\n",
      "using OrdinalMultinomialModels, OrdinalGWAS, SnpArrays\n",
      "\n",
      "# split hapmap3 data according to chromosome\n",
      "datadir = normpath(joinpath(dirname(pathof(OrdinalGWAS)), \"../data/\"))\n",
      "SnpArrays.split_plink(datadir * \"hapmap3\", :chromosome; prefix = \"hapmap3.chr.\")\n",
      "# compresse Plink files for chromosome 1-23\n",
      "for chr in 1:23\n",
      "    plinkfile = \"hapmap3.chr.\" * string(chr)\n",
      "    SnpArrays.compress_plink(plinkfile)\n",
      "end\n",
      "# delete uncompressed chromosome Plink files\n",
      "for chr in 1:26\n",
      "    plinkfile = \"hapmap3.chr.\" * string(chr)\n",
      "    isfile(plinkfile * \".bed\") && rm(plinkfile * \".bed\")\n",
      "    isfile(plinkfile * \".bim\") && rm(plinkfile * \".bim\")\n",
      "    isfile(plinkfile * \".fam\") && rm(plinkfile * \".fam\")\n",
      "end\n",
      "# copy covariate.txt file\n",
      "cp(datadir * \"covariate.txt\", joinpath(pwd(), \"covariate.txt\"))\n"
     ]
    }
   ],
   "source": [
    "run(`cat cluster_preparedata.jl`);"
   ]
  },
  {
   "cell_type": "markdown",
   "metadata": {},
   "source": [
    "* The second script [`cluster_run.jl`](https://raw.githubusercontent.com/OpenMendel/OrdinalGWAS.jl/master/docs/cluster_run.jl) first fits the null model then submits a separate job for each chromosome. Run\n",
    "```julia\n",
    "julia cluster_run.jl\n",
    "```\n",
    "on head node."
   ]
  },
  {
   "cell_type": "code",
   "execution_count": 41,
   "metadata": {},
   "outputs": [
    {
     "name": "stdout",
     "output_type": "stream",
     "text": [
      "#!/usr/local/bin/julia\n",
      "#\n",
      "# This script demonstrates how to submit multiple OrdinalGWAS runs from multiple sets of\n",
      "# Plink files on UCLA Hoffman2 cluster. It assumes that a demo data is available by\n",
      "# running `julia cluster_preparedata.jl` at current folder.\n",
      "#\n",
      "\n",
      "using OrdinalGWAS, Serialization\n",
      "\n",
      "# Step 1: fit null model and save result to file `fittednullmodel.jls`\n",
      "nm = ordinalgwas(@formula(trait ~ sex), \"covariate.txt\", nothing)\n",
      "open(\"fittednullmodel.jls\", \"w\") do io\n",
      "    Serialization.serialize(io, nm)\n",
      "end\n",
      "\n",
      "# Step 2: GWAS for each chromosome\n",
      "for chr in 1:23\n",
      "    println(\"submit job for chromosome=$chr\")\n",
      "    jcode = \"using OrdinalGWAS, Serialization;\n",
      "    nm = open(deserialize, \\\"fittednullmodel.jls\\\");\n",
      "    bedfile = \\\"hapmap3.chr.\\\" * string($chr) * \\\".bed.gz\\\";\n",
      "    bimfile = \\\"hapmap3.chr.\\\" * string($chr) * \\\".bim.gz\\\";\n",
      "    pvalfile = \\\"hapmap3.chr.\\\" * string($chr) * \\\".pval.txt\\\";\n",
      "    ordinalgwas(nm, bedfile, bimfile, 324; pvalfile=pvalfile);\"\n",
      "    # prepare sh file for qsub\n",
      "    open(\"tmp.sh\", \"w\") do io\n",
      "        println(io, \"#!/bin/bash\")\n",
      "        println(io, \"#\\$ -cwd\")\n",
      "        println(io, \"# error = Merged with joblog\")\n",
      "        println(io, \"#\\$ -o joblog.\\$JOB_ID\")\n",
      "        println(io, \"#\\$ -j y\")\n",
      "        println(io, \"#\\$ -l h_rt=0:30:00,h_data=2G\") # request runtime and memory\n",
      "        println(io, \"#\\$ -pe shared 2\") # request # shared-memory nodes\n",
      "        println(io, \"# Email address to notify\")\n",
      "        println(io, \"#\\$ -M \\$USER@mail\")\n",
      "        println(io, \"# Notify when\")\n",
      "        println(io, \"#\\$ -m a\")\n",
      "        println(io)\n",
      "        println(io, \"# load the job environment:\")\n",
      "        println(io, \". /u/local/Modules/default/init/modules.sh\")\n",
      "        println(io, \"module load julia/1.0.1\") # available Julia version\n",
      "        println(io)\n",
      "        println(io, \"# run julia code\")\n",
      "        println(io, \"julia -e '$jcode' > output.\\$JOB_ID 2>&1\")\n",
      "    end\n",
      "    # submit job\n",
      "    run(`qsub tmp.sh`)\n",
      "end\n"
     ]
    }
   ],
   "source": [
    "run(`cat cluster_run.jl`);"
   ]
  }
 ],
 "metadata": {
  "kernelspec": {
   "display_name": "Julia 1.0.3",
   "language": "julia",
   "name": "julia-1.0"
  },
  "language_info": {
   "file_extension": ".jl",
   "mimetype": "application/julia",
   "name": "julia",
   "version": "1.0.3"
  },
  "toc": {
   "colors": {
    "hover_highlight": "#DAA520",
    "running_highlight": "#FF0000",
    "selected_highlight": "#FFD700"
   },
   "moveMenuLeft": true,
   "nav_menu": {
    "height": "30px",
    "width": "252px"
   },
   "navigate_menu": true,
   "number_sections": true,
   "sideBar": true,
   "threshold": 4,
   "toc_cell": false,
   "toc_section_display": "block",
   "toc_window_display": true,
   "widenNotebook": false
  }
 },
 "nbformat": 4,
 "nbformat_minor": 2
}
