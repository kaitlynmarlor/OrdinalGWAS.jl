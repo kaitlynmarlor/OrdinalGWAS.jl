{
 "cells": [
  {
   "cell_type": "markdown",
   "metadata": {},
   "source": [
    "# PolrGWAS.jl"
   ]
  },
  {
   "cell_type": "markdown",
   "metadata": {},
   "source": [
    "PolrGWAS.jl is a Julia package for performing genome-wide association studies for ordered categorical phenotypes. \n",
    "\n",
    "This package requires Julia v0.7.0 or later. The package has not yet been registered and must be installed using the repository location. Start julia and use the ] key to switch to the package manager REPL\n",
    "```julia\n",
    "(v0.7) pkg> add https://github.com/Hua-Zhou/PolrGWAS.git#juliav0.7\n",
    "```"
   ]
  },
  {
   "cell_type": "code",
   "execution_count": 1,
   "metadata": {},
   "outputs": [
    {
     "name": "stdout",
     "output_type": "stream",
     "text": [
      "Julia Version 0.7.0\n",
      "Commit a4cb80f3ed (2018-08-08 06:46 UTC)\n",
      "Platform Info:\n",
      "  OS: macOS (x86_64-apple-darwin14.5.0)\n",
      "  CPU: Intel(R) Core(TM) i7-6920HQ CPU @ 2.90GHz\n",
      "  WORD_SIZE: 64\n",
      "  LIBM: libopenlibm\n",
      "  LLVM: libLLVM-6.0.0 (ORCJIT, skylake)\n",
      "Environment:\n",
      "  JULIA_EDITOR = code\n"
     ]
    }
   ],
   "source": [
    "versioninfo()"
   ]
  },
  {
   "cell_type": "code",
   "execution_count": 2,
   "metadata": {
    "collapsed": true
   },
   "outputs": [],
   "source": [
    "using BenchmarkTools, PolrGWAS, SnpArrays"
   ]
  },
  {
   "cell_type": "markdown",
   "metadata": {},
   "source": [
    "## Basic usage\n",
    "\n",
    "Suppose covariates and phenotype are available in a csv file `covariate.txt`. Variable `trait` is the ordered categorical phenotypes coded as integers 1 to 4. We want to include variable `sex` as the covariate in GWAS."
   ]
  },
  {
   "cell_type": "code",
   "execution_count": 3,
   "metadata": {},
   "outputs": [
    {
     "name": "stdout",
     "output_type": "stream",
     "text": [
      "famid,perid,faid,moid,sex,trait\n",
      "2431,NA19916,0,0,1,4\n",
      "2424,NA19835,0,0,2,4\n",
      "2469,NA20282,0,0,2,4\n",
      "2368,NA19703,0,0,1,3\n",
      "2425,NA19901,0,0,2,3\n",
      "2427,NA19908,0,0,1,4\n",
      "2430,NA19914,0,0,2,4\n",
      "2470,NA20287,0,0,2,1\n",
      "2436,NA19713,0,0,2,3\n",
      "2426,NA19904,0,0,1,1\n",
      "2431,NA19917,0,0,2,1\n",
      "2436,NA19982,0,0,1,2\n",
      "2487,NA20340,0,0,1,4\n",
      "2427,NA19909,0,0,2,4\n",
      "2424,NA19834,0,0,1,4\n",
      "2480,NA20317,0,0,2,4\n",
      "2418,NA19818,0,0,1,1\n",
      "2490,NA20346,0,0,1,2\n",
      "2433,NA19921,0,0,2,4\n"
     ]
    }
   ],
   "source": [
    ";head -20 ../data/covariate.txt"
   ]
  },
  {
   "cell_type": "markdown",
   "metadata": {},
   "source": [
    "Genotype data is available as binary Plink files."
   ]
  },
  {
   "cell_type": "code",
   "execution_count": 4,
   "metadata": {},
   "outputs": [
    {
     "name": "stdout",
     "output_type": "stream",
     "text": [
      "-rw-r--r--  1 huazhou  staff  1128171 Sep  4 12:03 ../data/hapmap3.bed\n",
      "-rw-r--r--  1 huazhou  staff   388672 Sep  4 12:03 ../data/hapmap3.bim\n",
      "-rw-r--r--  1 huazhou  staff     7136 Sep  4 12:03 ../data/hapmap3.fam\n"
     ]
    }
   ],
   "source": [
    ";ls -l ../data/hapmap3.bed ../data/hapmap3.bim ../data/hapmap3.fam"
   ]
  },
  {
   "cell_type": "markdown",
   "metadata": {},
   "source": [
    "There are 324 samples at 13,928 SNPs."
   ]
  },
  {
   "cell_type": "code",
   "execution_count": 5,
   "metadata": {},
   "outputs": [
    {
     "data": {
      "text/plain": [
       "(324, 13928)"
      ]
     },
     "execution_count": 5,
     "metadata": {},
     "output_type": "execute_result"
    }
   ],
   "source": [
    "size(SnpArray(\"../data/hapmap3.bed\"))"
   ]
  },
  {
   "cell_type": "markdown",
   "metadata": {},
   "source": [
    "The following command performs GWAS using the proportional odds logistic regression."
   ]
  },
  {
   "cell_type": "code",
   "execution_count": 6,
   "metadata": {},
   "outputs": [
    {
     "name": "stdout",
     "output_type": "stream",
     "text": [
      "StatsModels.DataFrameRegressionModel{PolrModel{Int64,Float64,LogitLink},Array{Float64,2}}\n",
      "\n",
      "Formula: trait ~ +sex\n",
      "\n",
      "Coefficients:\n",
      "      Estimate Std.Error  t value Pr(>|t|)\n",
      "θ1    -1.48564  0.358713 -4.14157    <1e-4\n",
      "θ2   -0.569479  0.340649 -1.67175   0.0956\n",
      "θ3    0.429815  0.339266   1.2669   0.2061\n",
      "β1    0.424656  0.213911   1.9852   0.0480\n"
     ]
    }
   ],
   "source": [
    "polrgwas(@formula(trait ~ 0 + sex), \"../data/covariate.txt\", \"../data/hapmap3\")"
   ]
  },
  {
   "cell_type": "code",
   "execution_count": 7,
   "metadata": {},
   "outputs": [
    {
     "name": "stdout",
     "output_type": "stream",
     "text": [
      "  135.781 ms (725860 allocations: 35.04 MiB)\n"
     ]
    }
   ],
   "source": [
    "@btime(polrgwas(@formula(trait ~ 0 + sex), \"../data/covariate.txt\", \"../data/hapmap3\", verbose=false))"
   ]
  },
  {
   "cell_type": "markdown",
   "metadata": {},
   "source": [
    "## Output files"
   ]
  },
  {
   "cell_type": "markdown",
   "metadata": {},
   "source": [
    "`polrgwas` outputs two files: `polrgwas.nullmodel.txt` and `polrgwas.score.txt`. The prefix `polrgwas` can be changed by the `outfile` keyword.\n",
    "\n",
    "* `polrgwas.nullmodel.txt` lists the estimated regression model.  "
   ]
  },
  {
   "cell_type": "code",
   "execution_count": 8,
   "metadata": {},
   "outputs": [
    {
     "name": "stdout",
     "output_type": "stream",
     "text": [
      "StatsModels.DataFrameRegressionModel{PolrModel{Int64,Float64,LogitLink},Array{Float64,2}}\n",
      "\n",
      "Formula: trait ~ +sex\n",
      "\n",
      "Coefficients:\n",
      "      Estimate Std.Error  t value Pr(>|t|)\n",
      "θ1    -1.48564  0.358713 -4.14157    <1e-4\n",
      "θ2   -0.569479  0.340649 -1.67175   0.0956\n",
      "θ3    0.429815  0.339266   1.2669   0.2061\n",
      "β1    0.424656  0.213911   1.9852   0.0480\n"
     ]
    }
   ],
   "source": [
    ";cat polrgwas.nullmodel.txt"
   ]
  },
  {
   "cell_type": "markdown",
   "metadata": {},
   "source": [
    "* `polrgwas.score.txt` lists the SNPs and their pvalues. "
   ]
  },
  {
   "cell_type": "code",
   "execution_count": 9,
   "metadata": {},
   "outputs": [
    {
     "name": "stdout",
     "output_type": "stream",
     "text": [
      "chr,pos,snpid,maf,pval\n",
      "1,554484,rs10458597,0.0,1.0\n",
      "1,758311,rs12562034,0.07763975155279501,0.003001230754791864\n",
      "1,967643,rs2710875,0.32407407407407407,2.5117214960313984e-5\n",
      "1,1168108,rs11260566,0.19158878504672894,1.1373112253090032e-5\n",
      "1,1375074,rs1312568,0.441358024691358,0.008317358366815329\n",
      "1,1588771,rs35154105,0.0,1.0\n",
      "1,1789051,rs16824508,0.00462962962962965,0.5274428530031907\n",
      "1,1990452,rs2678939,0.4537037037037037,0.29988429741740025\n",
      "1,2194615,rs7553178,0.22685185185185186,0.16436415589171904\n"
     ]
    }
   ],
   "source": [
    ";head polrgwas.score.txt"
   ]
  },
  {
   "cell_type": "code",
   "execution_count": 10,
   "metadata": {},
   "outputs": [],
   "source": [
    "rm(\"polrgwas.score.txt\")\n",
    "rm(\"polrgwas.nullmodel.txt\")"
   ]
  },
  {
   "cell_type": "markdown",
   "metadata": {},
   "source": [
    "## Link functions\n",
    "\n",
    "The `link` keyword argument of `polrgwas` can take value `LogitLink()` (default), `ProbitLink()` (ordred Probit model), or `CLoglogLink()` (proportional hazards model).\n",
    "\n",
    "E.g., to perform GWAS using the ordred Probit model"
   ]
  },
  {
   "cell_type": "code",
   "execution_count": 11,
   "metadata": {},
   "outputs": [
    {
     "name": "stdout",
     "output_type": "stream",
     "text": [
      "StatsModels.DataFrameRegressionModel{PolrModel{Int64,Float64,ProbitLink},Array{Float64,2}}\n",
      "\n",
      "Formula: trait ~ +sex\n",
      "\n",
      "Coefficients:\n",
      "      Estimate Std.Error  t value Pr(>|t|)\n",
      "θ1   -0.866156  0.210746 -4.10995    <1e-4\n",
      "θ2   -0.359878   0.20552 -1.75106   0.0809\n",
      "θ3    0.247054  0.205135  1.20435   0.2293\n",
      "β1    0.251058  0.128212  1.95814   0.0511\n"
     ]
    }
   ],
   "source": [
    "polrgwas(@formula(trait ~ 0 + sex), \"../data/covariate.txt\", \"../data/hapmap3\", link=ProbitLink(), outfile=\"op\")"
   ]
  },
  {
   "cell_type": "code",
   "execution_count": 12,
   "metadata": {},
   "outputs": [
    {
     "name": "stdout",
     "output_type": "stream",
     "text": [
      "StatsModels.DataFrameRegressionModel{PolrModel{Int64,Float64,ProbitLink},Array{Float64,2}}\n",
      "\n",
      "Formula: trait ~ +sex\n",
      "\n",
      "Coefficients:\n",
      "      Estimate Std.Error  t value Pr(>|t|)\n",
      "θ1   -0.866156  0.210746 -4.10995    <1e-4\n",
      "θ2   -0.359878   0.20552 -1.75106   0.0809\n",
      "θ3    0.247054  0.205135  1.20435   0.2293\n",
      "β1    0.251058  0.128212  1.95814   0.0511\n"
     ]
    }
   ],
   "source": [
    ";cat op.nullmodel.txt"
   ]
  },
  {
   "cell_type": "code",
   "execution_count": 13,
   "metadata": {},
   "outputs": [
    {
     "name": "stdout",
     "output_type": "stream",
     "text": [
      "chr,pos,snpid,maf,pval\n",
      "1,554484,rs10458597,0.0,1.0\n",
      "1,758311,rs12562034,0.07763975155279501,0.006450425919141508\n",
      "1,967643,rs2710875,0.32407407407407407,1.5785042548448054e-5\n",
      "1,1168108,rs11260566,0.19158878504672894,4.979075119251739e-6\n",
      "1,1375074,rs1312568,0.441358024691358,0.004566574021452654\n",
      "1,1588771,rs35154105,0.0,1.0\n",
      "1,1789051,rs16824508,0.00462962962962965,0.4819721449163142\n",
      "1,1990452,rs2678939,0.4537037037037037,0.33240414006705765\n",
      "1,2194615,rs7553178,0.22685185185185186,0.2529908594647623\n"
     ]
    }
   ],
   "source": [
    ";head op.score.txt"
   ]
  },
  {
   "cell_type": "code",
   "execution_count": 14,
   "metadata": {},
   "outputs": [],
   "source": [
    "rm(\"op.score.txt\")\n",
    "rm(\"op.nullmodel.txt\")"
   ]
  },
  {
   "cell_type": "markdown",
   "metadata": {},
   "source": [
    "## SNP and/or sample masks\n",
    "\n",
    "In practice, we often want to perform GWAS on selected SNPs and/or selected samples. They can be specified by the `colinds` and `rowinds` keywords of `polrgwas` function.\n",
    "\n",
    "For example, to perform GWAS on SNPs with minor allele frequency (MAF) above 0.05"
   ]
  },
  {
   "cell_type": "code",
   "execution_count": 15,
   "metadata": {},
   "outputs": [
    {
     "data": {
      "text/plain": [
       "13928-element BitArray{1}:\n",
       " false\n",
       "  true\n",
       "  true\n",
       "  true\n",
       "  true\n",
       " false\n",
       " false\n",
       "  true\n",
       "  true\n",
       "  true\n",
       " false\n",
       "  true\n",
       "  true\n",
       "     ⋮\n",
       "  true\n",
       "  true\n",
       "  true\n",
       "  true\n",
       "  true\n",
       "  true\n",
       "  true\n",
       "  true\n",
       "  true\n",
       " false\n",
       " false\n",
       " false"
      ]
     },
     "execution_count": 15,
     "metadata": {},
     "output_type": "execute_result"
    }
   ],
   "source": [
    "snpinds = maf(SnpArray(\"../data/hapmap3.bed\")) .≥ 0.05"
   ]
  },
  {
   "cell_type": "code",
   "execution_count": 16,
   "metadata": {},
   "outputs": [
    {
     "name": "stdout",
     "output_type": "stream",
     "text": [
      "StatsModels.DataFrameRegressionModel{PolrModel{Int64,Float64,LogitLink},Array{Float64,2}}\n",
      "\n",
      "Formula: trait ~ +sex\n",
      "\n",
      "Coefficients:\n",
      "      Estimate Std.Error  t value Pr(>|t|)\n",
      "θ1    -1.48564  0.358713 -4.14157    <1e-4\n",
      "θ2   -0.569479  0.340649 -1.67175   0.0956\n",
      "θ3    0.429815  0.339266   1.2669   0.2061\n",
      "β1    0.424656  0.213911   1.9852   0.0480\n",
      "  0.188978 seconds (756.87 k allocations: 36.961 MiB, 3.00% gc time)\n"
     ]
    }
   ],
   "source": [
    "@time polrgwas(@formula(trait ~ 0 + sex), \"../data/covariate.txt\", \"../data/hapmap3\", colinds = snpinds, outfile=\"commonvariant\")"
   ]
  },
  {
   "cell_type": "code",
   "execution_count": 17,
   "metadata": {},
   "outputs": [
    {
     "name": "stdout",
     "output_type": "stream",
     "text": [
      "StatsModels.DataFrameRegressionModel{PolrModel{Int64,Float64,LogitLink},Array{Float64,2}}\n",
      "\n",
      "Formula: trait ~ +sex\n",
      "\n",
      "Coefficients:\n",
      "      Estimate Std.Error  t value Pr(>|t|)\n",
      "θ1    -1.48564  0.358713 -4.14157    <1e-4\n",
      "θ2   -0.569479  0.340649 -1.67175   0.0956\n",
      "θ3    0.429815  0.339266   1.2669   0.2061\n",
      "β1    0.424656  0.213911   1.9852   0.0480\n"
     ]
    }
   ],
   "source": [
    ";cat commonvariant.nullmodel.txt"
   ]
  },
  {
   "cell_type": "code",
   "execution_count": 18,
   "metadata": {},
   "outputs": [
    {
     "name": "stdout",
     "output_type": "stream",
     "text": [
      "chr,pos,snpid,maf,pval\n",
      "1,758311,rs12562034,0.07763975155279501,0.003001230754791864\n",
      "1,967643,rs2710875,0.32407407407407407,2.5117214960313984e-5\n",
      "1,1168108,rs11260566,0.19158878504672894,1.1373112253090032e-5\n",
      "1,1375074,rs1312568,0.441358024691358,0.008317358366815329\n",
      "1,1990452,rs2678939,0.4537037037037037,0.29988429741740025\n",
      "1,2194615,rs7553178,0.22685185185185186,0.16436415589171904\n",
      "1,2396747,rs13376356,0.1448598130841121,0.5372089713885594\n",
      "1,2823603,rs1563468,0.4830246913580247,0.23123684490822363\n",
      "1,3025087,rs6690373,0.2538699690402477,0.7000923664008778\n",
      "1,3431124,rs12093117,0.1099071207430341,0.4271132018338374\n",
      "1,3633945,rs10910017,0.22187500000000004,0.9141485352635614\n",
      "1,4096895,rs6702633,0.4752321981424149,0.006373000780228048\n",
      "1,4297388,rs684965,0.3055555555555556,0.09402646589417124\n",
      "1,4498133,rs11809295,0.0993788819875776,0.0856953578572361\n",
      "1,4698713,rs578528,0.32407407407407407,0.06883563182592002\n",
      "1,4899946,rs4654471,0.3580246913580247,0.2267196199789601\n",
      "1,5100369,rs6681148,0.13157894736842102,0.16154955342713395\n",
      "1,5302730,rs10799197,0.4287925696594427,0.6769491555716197\n",
      "1,5502779,rs10796400,0.2314814814814815,0.2449957392353961\n"
     ]
    }
   ],
   "source": [
    ";head -20 commonvariant.score.txt"
   ]
  },
  {
   "cell_type": "code",
   "execution_count": 19,
   "metadata": {},
   "outputs": [
    {
     "name": "stdout",
     "output_type": "stream",
     "text": [
      "(countlines(\"commonvariant.score.txt\"), count(snpinds)) = (12086, 12085)\n"
     ]
    },
    {
     "data": {
      "text/plain": [
       "(12086, 12085)"
      ]
     },
     "execution_count": 19,
     "metadata": {},
     "output_type": "execute_result"
    }
   ],
   "source": [
    "@show countlines(\"commonvariant.score.txt\"), count(snpinds)"
   ]
  },
  {
   "cell_type": "code",
   "execution_count": 20,
   "metadata": {},
   "outputs": [],
   "source": [
    "rm(\"commonvariant.score.txt\")\n",
    "rm(\"commonvariant.nullmodel.txt\")"
   ]
  },
  {
   "cell_type": "markdown",
   "metadata": {},
   "source": [
    "User should be particularly careful when using the `rowinds` keyword. Selected rows in SnpArray should exactly match the samples in the null model. Otherwise the results are meaningless."
   ]
  }
 ],
 "metadata": {
  "kernelspec": {
   "display_name": "Julia 0.7.0",
   "language": "julia",
   "name": "julia-0.7"
  },
  "language_info": {
   "file_extension": ".jl",
   "mimetype": "application/julia",
   "name": "julia",
   "version": "0.7.0"
  },
  "toc": {
   "colors": {
    "hover_highlight": "#DAA520",
    "running_highlight": "#FF0000",
    "selected_highlight": "#FFD700"
   },
   "moveMenuLeft": true,
   "nav_menu": {
    "height": "30px",
    "width": "252px"
   },
   "navigate_menu": true,
   "number_sections": true,
   "sideBar": true,
   "threshold": 4,
   "toc_cell": false,
   "toc_section_display": "block",
   "toc_window_display": true,
   "widenNotebook": false
  }
 },
 "nbformat": 4,
 "nbformat_minor": 2
}
