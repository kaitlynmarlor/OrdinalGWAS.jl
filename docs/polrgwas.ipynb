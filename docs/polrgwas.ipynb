{
 "cells": [
  {
   "cell_type": "markdown",
   "metadata": {},
   "source": [
    "# PolrGWAS.jl"
   ]
  },
  {
   "cell_type": "markdown",
   "metadata": {},
   "source": [
    "PolrGWAS.jl is a Julia package for performing genome-wide association studies for ordered categorical phenotypes. Install the package by\n",
    "```julia\n",
    "Pkg.clone(\"git@github.com:Hua-Zhou/PolrGWAS.git\")\n",
    "```"
   ]
  },
  {
   "cell_type": "markdown",
   "metadata": {},
   "source": [
    "## Basic usage\n",
    "\n",
    "Suppose covariates and phenotype are available in a csv file `covariate.txt`. Variable `trait` is the ordered categorical phenotypes coded as integers 1 to 4. We want to include variable `sex` as the covariate in GWAS."
   ]
  },
  {
   "cell_type": "code",
   "execution_count": 1,
   "metadata": {},
   "outputs": [
    {
     "name": "stdout",
     "output_type": "stream",
     "text": [
      "famid,perid,faid,moid,sex,trait\n",
      "2431,NA19916,0,0,1,4\n",
      "2424,NA19835,0,0,2,4\n",
      "2469,NA20282,0,0,2,4\n",
      "2368,NA19703,0,0,1,3\n",
      "2425,NA19901,0,0,2,3\n",
      "2427,NA19908,0,0,1,4\n",
      "2430,NA19914,0,0,2,4\n",
      "2470,NA20287,0,0,2,1\n",
      "2436,NA19713,0,0,2,3\n",
      "2426,NA19904,0,0,1,1\n",
      "2431,NA19917,0,0,2,1\n",
      "2436,NA19982,0,0,1,2\n",
      "2487,NA20340,0,0,1,4\n",
      "2427,NA19909,0,0,2,4\n",
      "2424,NA19834,0,0,1,4\n",
      "2480,NA20317,0,0,2,4\n",
      "2418,NA19818,0,0,1,1\n",
      "2490,NA20346,0,0,1,2\n",
      "2433,NA19921,0,0,2,4\n"
     ]
    }
   ],
   "source": [
    ";head -20 ../data/covariate.txt"
   ]
  },
  {
   "cell_type": "markdown",
   "metadata": {},
   "source": [
    "Genotype data is available as binary Plink files."
   ]
  },
  {
   "cell_type": "code",
   "execution_count": 2,
   "metadata": {},
   "outputs": [
    {
     "name": "stdout",
     "output_type": "stream",
     "text": [
      "-rw-r--r--  1 huazhou  staff  1128171 Jun 19  2017 ../data/hapmap3.bed\n",
      "-rw-r--r--  1 huazhou  staff   388672 Jun 19  2017 ../data/hapmap3.bim\n",
      "-rw-r--r--  1 huazhou  staff     7136 Jun 19  2017 ../data/hapmap3.fam\n",
      "-rw-r--r--  1 huazhou  staff   332960 Jun 19  2017 ../data/hapmap3.map\n"
     ]
    }
   ],
   "source": [
    ";ls -l ../data/hapmap3.\"*\""
   ]
  },
  {
   "cell_type": "markdown",
   "metadata": {},
   "source": [
    "The following command performs GWAS using the proportional odds logistic regression."
   ]
  },
  {
   "cell_type": "code",
   "execution_count": 12,
   "metadata": {},
   "outputs": [
    {
     "name": "stdout",
     "output_type": "stream",
     "text": [
      "StatsModels.DataFrameRegressionModel{PolrModels.PolrModel{Int64,Float64,GLM.LogitLink},Array{Float64,2}}\n",
      "\n",
      "Formula: trait ~ +sex\n",
      "\n",
      "Coefficients:\n",
      "      Estimate Std.Error  t value Pr(>|t|)\n",
      "θ1    -1.48554  0.358711 -4.14131    <1e-4\n",
      "θ2   -0.569325  0.340645 -1.67132   0.0956\n",
      "θ3    0.429823  0.339263  1.26693   0.2061\n",
      "β1    0.424691   0.21391  1.98537   0.0480\n"
     ]
    },
    {
     "name": "stderr",
     "output_type": "stream",
     "text": [
      "\u001b[1m\u001b[36mINFO: \u001b[39m\u001b[22m\u001b[36mv1.0 BED file detected\n",
      "\u001b[39m"
     ]
    },
    {
     "name": "stdout",
     "output_type": "stream",
     "text": [
      "  0.659454 seconds (10.19 M allocations: 183.621 MiB, 9.26% gc time)\n"
     ]
    }
   ],
   "source": [
    "using PolrGWAS\n",
    "\n",
    "@time polrgwas(@formula(trait ~ 0 + sex), \"../data/covariate.txt\", \"../data/hapmap3\";\n",
    "    covartype = [String, String, String, String, Float64, Int])"
   ]
  },
  {
   "cell_type": "markdown",
   "metadata": {},
   "source": [
    "It outputs two files:  \n",
    "* `polrgwas.nullmodel.txt` lists the estimated regression model.  "
   ]
  },
  {
   "cell_type": "code",
   "execution_count": 13,
   "metadata": {},
   "outputs": [
    {
     "name": "stdout",
     "output_type": "stream",
     "text": [
      "StatsModels.DataFrameRegressionModel{PolrModels.PolrModel{Int64,Float64,GLM.LogitLink},Array{Float64,2}}\n",
      "\n",
      "Formula: trait ~ +sex\n",
      "\n",
      "Coefficients:\n",
      "      Estimate Std.Error  t value Pr(>|t|)\n",
      "θ1    -1.48554  0.358711 -4.14131    <1e-4\n",
      "θ2   -0.569325  0.340645 -1.67132   0.0956\n",
      "θ3    0.429823  0.339263  1.26693   0.2061\n",
      "β1    0.424691   0.21391  1.98537   0.0480\n"
     ]
    }
   ],
   "source": [
    ";cat polrgwas.nullmodel.txt"
   ]
  },
  {
   "cell_type": "markdown",
   "metadata": {},
   "source": [
    "* `polrgwas.scoretest.txt` lists the SNPs and their pvalues. "
   ]
  },
  {
   "cell_type": "code",
   "execution_count": 10,
   "metadata": {},
   "outputs": [
    {
     "name": "stdout",
     "output_type": "stream",
     "text": [
      "chr,pos,snpid,maf,pval\n",
      "1,554484,rs10458597,0.0,1.0\n",
      "1,758311,rs12562034,0.07763975155279501,0.0018866769073824054\n",
      "1,967643,rs2710875,0.32407407407407407,2.5147324918949065e-5\n",
      "1,1168108,rs11260566,0.19158878504672894,9.890569210468016e-6\n",
      "1,1375074,rs1312568,0.441358024691358,0.00832247910423294\n",
      "1,1588771,rs35154105,0.0,1.0\n",
      "1,1789051,rs16824508,0.00462962962962965,0.5281305094274626\n",
      "1,1990452,rs2678939,0.4537037037037037,0.2999869793592329\n",
      "1,2194615,rs7553178,0.22685185185185186,0.16443985731509447\n"
     ]
    }
   ],
   "source": [
    ";head polrgwas.scoretest.txt"
   ]
  },
  {
   "cell_type": "markdown",
   "metadata": {},
   "source": [
    "## Input files"
   ]
  },
  {
   "cell_type": "markdown",
   "metadata": {},
   "source": [
    "## Output files"
   ]
  }
 ],
 "metadata": {
  "kernelspec": {
   "display_name": "Julia 0.6.2",
   "language": "julia",
   "name": "julia-0.6"
  },
  "language_info": {
   "file_extension": ".jl",
   "mimetype": "application/julia",
   "name": "julia",
   "version": "0.6.2"
  },
  "toc": {
   "colors": {
    "hover_highlight": "#DAA520",
    "running_highlight": "#FF0000",
    "selected_highlight": "#FFD700"
   },
   "moveMenuLeft": true,
   "nav_menu": {
    "height": "30px",
    "width": "252px"
   },
   "navigate_menu": true,
   "number_sections": true,
   "sideBar": true,
   "threshold": 4,
   "toc_cell": false,
   "toc_section_display": "block",
   "toc_window_display": true,
   "widenNotebook": false
  }
 },
 "nbformat": 4,
 "nbformat_minor": 2
}
