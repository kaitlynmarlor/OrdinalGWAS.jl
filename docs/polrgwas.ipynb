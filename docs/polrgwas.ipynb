{
 "cells": [
  {
   "cell_type": "markdown",
   "metadata": {},
   "source": [
    "# PolrGWAS.jl"
   ]
  },
  {
   "cell_type": "markdown",
   "metadata": {},
   "source": [
    "PolrGWAS.jl is a Julia package for performing genome-wide association studies for ordered categorical phenotypes. \n",
    "\n",
    "This package requires Julia v0.7.0 or later. The package has not yet been registered and must be installed using the repository location. Start julia and use the ] key to switch to the package manager REPL\n",
    "```julia\n",
    "(v0.7) pkg> add https://github.com/Hua-Zhou/PolrGWAS.git#juliav0.7\n",
    "```"
   ]
  },
  {
   "cell_type": "code",
   "execution_count": 1,
   "metadata": {},
   "outputs": [
    {
     "name": "stdout",
     "output_type": "stream",
     "text": [
      "Julia Version 0.7.0\n",
      "Commit a4cb80f3ed (2018-08-08 06:46 UTC)\n",
      "Platform Info:\n",
      "  OS: macOS (x86_64-apple-darwin14.5.0)\n",
      "  CPU: Intel(R) Core(TM) i7-6920HQ CPU @ 2.90GHz\n",
      "  WORD_SIZE: 64\n",
      "  LIBM: libopenlibm\n",
      "  LLVM: libLLVM-6.0.0 (ORCJIT, skylake)\n",
      "Environment:\n",
      "  JULIA_EDITOR = code\n"
     ]
    }
   ],
   "source": [
    "versioninfo()"
   ]
  },
  {
   "cell_type": "code",
   "execution_count": 2,
   "metadata": {},
   "outputs": [],
   "source": [
    "using BenchmarkTools, CSV, PolrGWAS, SnpArrays"
   ]
  },
  {
   "cell_type": "markdown",
   "metadata": {},
   "source": [
    "## Basic usage\n",
    "\n",
    "The following command performs GWAS using the proportional odds logistic regression."
   ]
  },
  {
   "cell_type": "code",
   "execution_count": 3,
   "metadata": {},
   "outputs": [],
   "source": [
    "polrgwas(@formula(trait ~ 0 + sex), \"../data/covariate.txt\", \"../data/hapmap3\")"
   ]
  },
  {
   "cell_type": "markdown",
   "metadata": {},
   "source": [
    "For documentation, type `?polrgwas` in Julia REPL."
   ]
  },
  {
   "cell_type": "markdown",
   "metadata": {},
   "source": [
    "### Formula\n",
    "\n",
    "In the formula, e.g., `@formula(trait ~ 0 + sex)`, it's important to **exclude** the intercept because proportional odds model automatically incorporates intercepts for modeling purpose."
   ]
  },
  {
   "cell_type": "markdown",
   "metadata": {},
   "source": [
    "### Input files\n",
    "\n",
    "`polrgwas` expects two input files: one for responses and covariates, the other the Plink files for genotypes.\n",
    "\n",
    "Covariates and phenotype are available in a csv file `covariate.txt`, which has one header line for variable names. Variable `trait` is the ordered categorical phenotypes coded as integers 1 to 4. We want to include variable `sex` as the covariate in GWAS."
   ]
  },
  {
   "cell_type": "code",
   "execution_count": 4,
   "metadata": {},
   "outputs": [
    {
     "name": "stdout",
     "output_type": "stream",
     "text": [
      "famid,perid,faid,moid,sex,trait\n",
      "2431,NA19916,0,0,1,4\n",
      "2424,NA19835,0,0,2,4\n",
      "2469,NA20282,0,0,2,4\n",
      "2368,NA19703,0,0,1,3\n",
      "2425,NA19901,0,0,2,3\n",
      "2427,NA19908,0,0,1,4\n",
      "2430,NA19914,0,0,2,4\n",
      "2470,NA20287,0,0,2,1\n",
      "2436,NA19713,0,0,2,3\n",
      "2426,NA19904,0,0,1,1\n",
      "2431,NA19917,0,0,2,1\n",
      "2436,NA19982,0,0,1,2\n",
      "2487,NA20340,0,0,1,4\n",
      "2427,NA19909,0,0,2,4\n",
      "2424,NA19834,0,0,1,4\n",
      "2480,NA20317,0,0,2,4\n",
      "2418,NA19818,0,0,1,1\n",
      "2490,NA20346,0,0,1,2\n",
      "2433,NA19921,0,0,2,4\n"
     ]
    }
   ],
   "source": [
    ";head -20 ../data/covariate.txt"
   ]
  },
  {
   "cell_type": "markdown",
   "metadata": {},
   "source": [
    "Genotype data is available as binary Plink files."
   ]
  },
  {
   "cell_type": "code",
   "execution_count": 5,
   "metadata": {},
   "outputs": [
    {
     "name": "stdout",
     "output_type": "stream",
     "text": [
      "-rw-r--r--  1 huazhou  staff  1128171 Sep  4 12:03 ../data/hapmap3.bed\n",
      "-rw-r--r--  1 huazhou  staff   388672 Sep  4 12:03 ../data/hapmap3.bim\n",
      "-rw-r--r--  1 huazhou  staff     7136 Sep  4 12:03 ../data/hapmap3.fam\n"
     ]
    }
   ],
   "source": [
    ";ls -l ../data/hapmap3.bed ../data/hapmap3.bim ../data/hapmap3.fam"
   ]
  },
  {
   "cell_type": "markdown",
   "metadata": {},
   "source": [
    "There are 324 samples at 13,928 SNPs."
   ]
  },
  {
   "cell_type": "code",
   "execution_count": 6,
   "metadata": {},
   "outputs": [
    {
     "data": {
      "text/plain": [
       "(324, 13928)"
      ]
     },
     "execution_count": 6,
     "metadata": {},
     "output_type": "execute_result"
    }
   ],
   "source": [
    "size(SnpArray(\"../data/hapmap3.bed\"))"
   ]
  },
  {
   "cell_type": "markdown",
   "metadata": {},
   "source": [
    "### Output files"
   ]
  },
  {
   "cell_type": "markdown",
   "metadata": {},
   "source": [
    "`polrgwas` outputs two files: `polrgwas.nullmodel.txt` and `polrgwas.scoretest.txt`. \n",
    "\n",
    "* `polrgwas.nullmodel.txt` lists the estimated null model (without SNPs).  "
   ]
  },
  {
   "cell_type": "code",
   "execution_count": 7,
   "metadata": {},
   "outputs": [
    {
     "name": "stdout",
     "output_type": "stream",
     "text": [
      "StatsModels.DataFrameRegressionModel{PolrModel{Int64,Float64,LogitLink},Array{Float64,2}}\n",
      "\n",
      "Formula: trait ~ +sex\n",
      "\n",
      "Coefficients:\n",
      "      Estimate Std.Error  t value Pr(>|t|)\n",
      "θ1    -1.48564  0.358713 -4.14157    <1e-4\n",
      "θ2   -0.569479  0.340649 -1.67175   0.0956\n",
      "θ3    0.429815  0.339266   1.2669   0.2061\n",
      "β1    0.424656  0.213911   1.9852   0.0480\n"
     ]
    }
   ],
   "source": [
    ";cat polrgwas.nullmodel.txt"
   ]
  },
  {
   "cell_type": "markdown",
   "metadata": {},
   "source": [
    "* `polrgwas.scoretest.txt` tallies the SNPs and their pvalues. "
   ]
  },
  {
   "cell_type": "code",
   "execution_count": 8,
   "metadata": {},
   "outputs": [
    {
     "name": "stdout",
     "output_type": "stream",
     "text": [
      "chr,pos,snpid,maf,pval\n",
      "1,554484,rs10458597,0.0,1.0\n",
      "1,758311,rs12562034,0.07763975155279501,0.003001230754791795\n",
      "1,967643,rs2710875,0.32407407407407407,2.5117214960313727e-5\n",
      "1,1168108,rs11260566,0.19158878504672894,1.13731122530895e-5\n",
      "1,1375074,rs1312568,0.441358024691358,0.008317358366815325\n",
      "1,1588771,rs35154105,0.0,1.0\n",
      "1,1789051,rs16824508,0.00462962962962965,0.5274428530031774\n",
      "1,1990452,rs2678939,0.4537037037037037,0.29988429741739986\n",
      "1,2194615,rs7553178,0.22685185185185186,0.16436415589171793\n"
     ]
    }
   ],
   "source": [
    ";head polrgwas.scoretest.txt"
   ]
  },
  {
   "cell_type": "markdown",
   "metadata": {},
   "source": [
    "The prefix `polrgwas` can be changed by the `outfile` keyword, e.g.,\n",
    "```julia\n",
    "polrgwas(@formula(trait ~ 0 + sex), \"../data/covariate.txt\", \"../data/hapmap3\", outfile=\"testdata\")\n",
    "```"
   ]
  },
  {
   "cell_type": "markdown",
   "metadata": {},
   "source": [
    "For this moderate-sized data set, `polrgwas` takes less than 0.2 second."
   ]
  },
  {
   "cell_type": "code",
   "execution_count": 9,
   "metadata": {},
   "outputs": [
    {
     "name": "stdout",
     "output_type": "stream",
     "text": [
      "  128.138 ms (639488 allocations: 29.14 MiB)\n"
     ]
    }
   ],
   "source": [
    "@btime(polrgwas(@formula(trait ~ 0 + sex), \"../data/covariate.txt\", \"../data/hapmap3\"))"
   ]
  },
  {
   "cell_type": "code",
   "execution_count": 10,
   "metadata": {
    "collapsed": true
   },
   "outputs": [],
   "source": [
    "rm(\"polrgwas.scoretest.txt\")\n",
    "rm(\"polrgwas.nullmodel.txt\")"
   ]
  },
  {
   "cell_type": "markdown",
   "metadata": {},
   "source": [
    "## Link functions\n",
    "\n",
    "The `link` keyword argument of `polrgwas` can take value `LogitLink()` (default), `ProbitLink()` (ordred Probit model), or `CloglogLink()` (proportional hazards model).\n",
    "\n",
    "E.g., to perform GWAS using the ordred Probit model"
   ]
  },
  {
   "cell_type": "code",
   "execution_count": 11,
   "metadata": {},
   "outputs": [],
   "source": [
    "polrgwas(@formula(trait ~ 0 + sex), \"../data/covariate.txt\", \"../data/hapmap3\", link=ProbitLink(), outfile=\"opm\")"
   ]
  },
  {
   "cell_type": "code",
   "execution_count": 12,
   "metadata": {},
   "outputs": [
    {
     "name": "stdout",
     "output_type": "stream",
     "text": [
      "StatsModels.DataFrameRegressionModel{PolrModel{Int64,Float64,ProbitLink},Array{Float64,2}}\n",
      "\n",
      "Formula: trait ~ +sex\n",
      "\n",
      "Coefficients:\n",
      "      Estimate Std.Error  t value Pr(>|t|)\n",
      "θ1   -0.866156  0.210746 -4.10995    <1e-4\n",
      "θ2   -0.359878   0.20552 -1.75106   0.0809\n",
      "θ3    0.247054  0.205135  1.20435   0.2293\n",
      "β1    0.251058  0.128212  1.95814   0.0511\n"
     ]
    }
   ],
   "source": [
    ";cat opm.nullmodel.txt"
   ]
  },
  {
   "cell_type": "code",
   "execution_count": 13,
   "metadata": {},
   "outputs": [
    {
     "name": "stdout",
     "output_type": "stream",
     "text": [
      "chr,pos,snpid,maf,pval\n",
      "1,554484,rs10458597,0.0,1.0\n",
      "1,758311,rs12562034,0.07763975155279501,0.0064504259191418\n",
      "1,967643,rs2710875,0.32407407407407407,1.578504254844719e-5\n",
      "1,1168108,rs11260566,0.19158878504672894,4.979075119252628e-6\n",
      "1,1375074,rs1312568,0.441358024691358,0.004566574021452637\n",
      "1,1588771,rs35154105,0.0,1.0\n",
      "1,1789051,rs16824508,0.00462962962962965,0.4819721449163142\n",
      "1,1990452,rs2678939,0.4537037037037037,0.33240414006705726\n",
      "1,2194615,rs7553178,0.22685185185185186,0.25299085946476113\n"
     ]
    }
   ],
   "source": [
    ";head opm.scoretest.txt"
   ]
  },
  {
   "cell_type": "code",
   "execution_count": 14,
   "metadata": {
    "collapsed": true
   },
   "outputs": [],
   "source": [
    "rm(\"opm.nullmodel.txt\")\n",
    "rm(\"opm.scoretest.txt\")"
   ]
  },
  {
   "cell_type": "markdown",
   "metadata": {},
   "source": [
    "## SNP and/or sample masks\n",
    "\n",
    "In practice, we often perform GWAS on selected SNPs and/or selected samples. They can be specified by the `colinds` and `rowinds` keywords of `polrgwas` function.\n",
    "\n",
    "For example, to perform GWAS on SNPs with minor allele frequency (MAF) above 0.05"
   ]
  },
  {
   "cell_type": "code",
   "execution_count": 15,
   "metadata": {},
   "outputs": [
    {
     "data": {
      "text/plain": [
       "13928-element BitArray{1}:\n",
       " false\n",
       "  true\n",
       "  true\n",
       "  true\n",
       "  true\n",
       " false\n",
       " false\n",
       "  true\n",
       "  true\n",
       "  true\n",
       " false\n",
       "  true\n",
       "  true\n",
       "     ⋮\n",
       "  true\n",
       "  true\n",
       "  true\n",
       "  true\n",
       "  true\n",
       "  true\n",
       "  true\n",
       "  true\n",
       "  true\n",
       " false\n",
       " false\n",
       " false"
      ]
     },
     "execution_count": 15,
     "metadata": {},
     "output_type": "execute_result"
    }
   ],
   "source": [
    "# create SNP mask\n",
    "snpinds = maf(SnpArray(\"../data/hapmap3.bed\")) .≥ 0.05"
   ]
  },
  {
   "cell_type": "code",
   "execution_count": 16,
   "metadata": {},
   "outputs": [
    {
     "name": "stdout",
     "output_type": "stream",
     "text": [
      "  0.226078 seconds (829.18 k allocations: 39.024 MiB, 3.50% gc time)\n"
     ]
    }
   ],
   "source": [
    "# GWAS on selected SNPs\n",
    "@time polrgwas(@formula(trait ~ 0 + sex), \"../data/covariate.txt\", \"../data/hapmap3\", colinds = snpinds, outfile=\"commonvariant\")"
   ]
  },
  {
   "cell_type": "code",
   "execution_count": 17,
   "metadata": {},
   "outputs": [
    {
     "name": "stdout",
     "output_type": "stream",
     "text": [
      "StatsModels.DataFrameRegressionModel{PolrModel{Int64,Float64,LogitLink},Array{Float64,2}}\n",
      "\n",
      "Formula: trait ~ +sex\n",
      "\n",
      "Coefficients:\n",
      "      Estimate Std.Error  t value Pr(>|t|)\n",
      "θ1    -1.48564  0.358713 -4.14157    <1e-4\n",
      "θ2   -0.569479  0.340649 -1.67175   0.0956\n",
      "θ3    0.429815  0.339266   1.2669   0.2061\n",
      "β1    0.424656  0.213911   1.9852   0.0480\n"
     ]
    }
   ],
   "source": [
    ";cat commonvariant.nullmodel.txt"
   ]
  },
  {
   "cell_type": "code",
   "execution_count": 18,
   "metadata": {},
   "outputs": [
    {
     "name": "stdout",
     "output_type": "stream",
     "text": [
      "chr,pos,snpid,maf,pval\n",
      "1,758311,rs12562034,0.07763975155279501,0.003001230754791795\n",
      "1,967643,rs2710875,0.32407407407407407,2.5117214960313727e-5\n",
      "1,1168108,rs11260566,0.19158878504672894,1.13731122530895e-5\n",
      "1,1375074,rs1312568,0.441358024691358,0.008317358366815325\n",
      "1,1990452,rs2678939,0.4537037037037037,0.29988429741739986\n",
      "1,2194615,rs7553178,0.22685185185185186,0.16436415589171793\n",
      "1,2396747,rs13376356,0.1448598130841121,0.5372089713885622\n",
      "1,2823603,rs1563468,0.4830246913580247,0.23123684490822347\n",
      "1,3025087,rs6690373,0.2538699690402477,0.700092366400877\n",
      "1,3431124,rs12093117,0.1099071207430341,0.4271132018338309\n",
      "1,3633945,rs10910017,0.22187500000000004,0.9141485352635613\n",
      "1,4096895,rs6702633,0.4752321981424149,0.006373000780228055\n",
      "1,4297388,rs684965,0.3055555555555556,0.09402646589417148\n",
      "1,4498133,rs11809295,0.0993788819875776,0.0856953578572345\n",
      "1,4698713,rs578528,0.32407407407407407,0.06883563182592009\n",
      "1,4899946,rs4654471,0.3580246913580247,0.2267196199789606\n",
      "1,5100369,rs6681148,0.13157894736842102,0.16154955342712946\n",
      "1,5302730,rs10799197,0.4287925696594427,0.6769491555716189\n",
      "1,5502779,rs10796400,0.2314814814814815,0.2449957392353961\n"
     ]
    }
   ],
   "source": [
    ";head -20 commonvariant.scoretest.txt"
   ]
  },
  {
   "cell_type": "code",
   "execution_count": 19,
   "metadata": {},
   "outputs": [
    {
     "name": "stdout",
     "output_type": "stream",
     "text": [
      "(countlines(\"commonvariant.scoretest.txt\"), count(snpinds)) = (12086, 12085)\n"
     ]
    },
    {
     "data": {
      "text/plain": [
       "(12086, 12085)"
      ]
     },
     "execution_count": 19,
     "metadata": {},
     "output_type": "execute_result"
    }
   ],
   "source": [
    "# extra headline in commonvariant.scoretest.txt\n",
    "@show countlines(\"commonvariant.scoretest.txt\"), count(snpinds)"
   ]
  },
  {
   "cell_type": "code",
   "execution_count": 20,
   "metadata": {
    "collapsed": true
   },
   "outputs": [],
   "source": [
    "rm(\"commonvariant.scoretest.txt\")\n",
    "rm(\"commonvariant.nullmodel.txt\")"
   ]
  },
  {
   "cell_type": "markdown",
   "metadata": {},
   "source": [
    "User should be particularly careful when using the `rowinds` keyword. Selected rows in SnpArray should exactly match the samples in the null model. Otherwise the results are meaningless."
   ]
  },
  {
   "cell_type": "markdown",
   "metadata": {},
   "source": [
    "## Likelihood ratio test (LRT)\n",
    "\n",
    "By default, `polrgwas` calculates the score test p-value for each SNP. Score test is fast because it doesn't require fitting alternative model. User can request likelihood ratio test (LRT) using keyword `test=:LRT`. LRT is much slower but may be more powerful than score test."
   ]
  },
  {
   "cell_type": "code",
   "execution_count": 21,
   "metadata": {},
   "outputs": [
    {
     "name": "stdout",
     "output_type": "stream",
     "text": [
      " 19.778470 seconds (8.79 M allocations: 2.064 GiB, 1.94% gc time)\n"
     ]
    }
   ],
   "source": [
    "@time polrgwas(@formula(trait ~ 0 + sex), \"../data/covariate.txt\", \"../data/hapmap3\", test=:LRT, outfile=\"lrt\")"
   ]
  },
  {
   "cell_type": "markdown",
   "metadata": {},
   "source": [
    "Test result is output to `outfile.lrttest.txt` file"
   ]
  },
  {
   "cell_type": "code",
   "execution_count": 22,
   "metadata": {},
   "outputs": [
    {
     "name": "stdout",
     "output_type": "stream",
     "text": [
      "chr,pos,snpid,maf,effect,pval\n",
      "1,554484,rs10458597,0.0,0.0,1.0\n",
      "1,758311,rs12562034,0.07763975155279501,-1.0057833719544362,0.0019185836579804134\n",
      "1,967643,rs2710875,0.32407407407407407,-0.6488560566295053,1.805050556976133e-5\n",
      "1,1168108,rs11260566,0.19158878504672894,-0.9157225669357916,5.8733847126852225e-6\n",
      "1,1375074,rs1312568,0.441358024691358,-0.3318136652577252,0.008081022577831297\n",
      "1,1588771,rs35154105,0.0,0.0,1.0\n",
      "1,1789051,rs16824508,0.00462962962962965,-0.7338026388700327,0.5169027130128576\n",
      "1,1990452,rs2678939,0.4537037037037037,-0.1358649923181972,0.29946402200910055\n",
      "1,2194615,rs7553178,0.22685185185185186,-0.2512075640440133,0.16151069094439868\n",
      "1,2396747,rs13376356,0.1448598130841121,0.12946142026273552,0.5387338201469207\n",
      "1,2623158,rs28753913,0.0,0.0,1.0\n",
      "1,2823603,rs1563468,0.4830246913580247,0.15515329587697385,0.2312300208157546\n",
      "1,3025087,rs6690373,0.2538699690402477,-0.05966638389967735,0.6995722170701131\n",
      "1,3225416,rs12043519,0.029320987654321007,1.1761887120778431,0.002016744167744886\n",
      "1,3431124,rs12093117,0.1099071207430341,0.18242332995458113,0.43052012312944177\n",
      "1,3633945,rs10910017,0.22187500000000004,-0.017935692627049582,0.9142024828415289\n",
      "1,3895935,rs34770924,0.024691358024691357,0.0009448575482692606,0.9980482910119114\n",
      "1,4096895,rs6702633,0.4752321981424149,0.4230874102563219,0.0063052493446845445\n",
      "1,4297388,rs684965,0.3055555555555556,-0.27091872232225395,0.09226258176075279\n"
     ]
    }
   ],
   "source": [
    ";head -20 lrt.lrttest.txt"
   ]
  },
  {
   "cell_type": "markdown",
   "metadata": {},
   "source": [
    "Note the extra `effect` column, which is the effect size (regression coefficient) for each SNP. "
   ]
  },
  {
   "cell_type": "code",
   "execution_count": 23,
   "metadata": {
    "collapsed": true
   },
   "outputs": [],
   "source": [
    "rm(\"lrt.lrttest.txt\")\n",
    "rm(\"lrt.nullmodel.txt\")"
   ]
  },
  {
   "cell_type": "markdown",
   "metadata": {},
   "source": [
    "In this case, GWAS by score test takes less than 0.2 second, while GWAS by LRT takes about 20 seconds. About 100 fold difference in run time. \n",
    "\n",
    "## Score for screening, LRT for power \n",
    "\n",
    "For large data sets, a practical solution is to perform score test first, then re-do LRT for the most promising SNPs according to score test p-values.\n",
    "\n",
    "**Step 1**: Perform score test GWAS, results in hapmap.scoretest.txt"
   ]
  },
  {
   "cell_type": "code",
   "execution_count": 24,
   "metadata": {},
   "outputs": [
    {
     "name": "stdout",
     "output_type": "stream",
     "text": [
      "  0.232919 seconds (717.09 k allocations: 33.227 MiB, 11.72% gc time)\n"
     ]
    }
   ],
   "source": [
    "@time polrgwas(@formula(trait ~ 0 + sex), \"../data/covariate.txt\", \"../data/hapmap3\", test=:score, outfile=\"hapmap\", verbose=false)"
   ]
  },
  {
   "cell_type": "code",
   "execution_count": 25,
   "metadata": {},
   "outputs": [
    {
     "name": "stdout",
     "output_type": "stream",
     "text": [
      "chr,pos,snpid,maf,pval\n",
      "1,554484,rs10458597,0.0,1.0\n",
      "1,758311,rs12562034,0.07763975155279501,0.003001230754791795\n",
      "1,967643,rs2710875,0.32407407407407407,2.5117214960313727e-5\n",
      "1,1168108,rs11260566,0.19158878504672894,1.13731122530895e-5\n",
      "1,1375074,rs1312568,0.441358024691358,0.008317358366815325\n",
      "1,1588771,rs35154105,0.0,1.0\n",
      "1,1789051,rs16824508,0.00462962962962965,0.5274428530031774\n",
      "1,1990452,rs2678939,0.4537037037037037,0.29988429741739986\n",
      "1,2194615,rs7553178,0.22685185185185186,0.16436415589171793\n",
      "1,2396747,rs13376356,0.1448598130841121,0.5372089713885622\n",
      "1,2623158,rs28753913,0.0,1.0\n",
      "1,2823603,rs1563468,0.4830246913580247,0.23123684490822347\n",
      "1,3025087,rs6690373,0.2538699690402477,0.700092366400877\n",
      "1,3225416,rs12043519,0.029320987654321007,0.001067589332379961\n",
      "1,3431124,rs12093117,0.1099071207430341,0.4271132018338309\n",
      "1,3633945,rs10910017,0.22187500000000004,0.9141485352635613\n",
      "1,3895935,rs34770924,0.024691358024691357,0.9989137356071247\n",
      "1,4096895,rs6702633,0.4752321981424149,0.006373000780228055\n",
      "1,4297388,rs684965,0.3055555555555556,0.09402646589417148\n"
     ]
    }
   ],
   "source": [
    ";head -20 hapmap.scoretest.txt"
   ]
  },
  {
   "cell_type": "markdown",
   "metadata": {},
   "source": [
    "**Step 2**: Sort score test p-values and find top 10 SNPs"
   ]
  },
  {
   "cell_type": "code",
   "execution_count": 26,
   "metadata": {},
   "outputs": [
    {
     "data": {
      "text/plain": [
       "13928-element Array{Union{Missing, Float64},1}:\n",
       " 1.0                  \n",
       " 0.003001230754791795 \n",
       " 2.5117214960313727e-5\n",
       " 1.13731122530895e-5  \n",
       " 0.008317358366815325 \n",
       " 1.0                  \n",
       " 0.5274428530031774   \n",
       " 0.29988429741739986  \n",
       " 0.16436415589171793  \n",
       " 0.5372089713885622   \n",
       " 1.0                  \n",
       " 0.23123684490822347  \n",
       " 0.700092366400877    \n",
       " ⋮                    \n",
       " 0.4533525658437616   \n",
       " 0.6409263039143044   \n",
       " 0.15819888818088343  \n",
       " 0.5643246521154451   \n",
       " 0.5016172691333742   \n",
       " 0.16467049275061096  \n",
       " 0.6977871465129508   \n",
       " 0.9120338117720298   \n",
       " 0.6977871465129944   \n",
       " 0.3136740371197593   \n",
       " 0.2477983233224063   \n",
       " 0.24848633880732612  "
      ]
     },
     "execution_count": 26,
     "metadata": {},
     "output_type": "execute_result"
    }
   ],
   "source": [
    "scorepvals = CSV.read(\"hapmap.scoretest.txt\")[5]"
   ]
  },
  {
   "cell_type": "code",
   "execution_count": 27,
   "metadata": {},
   "outputs": [
    {
     "data": {
      "text/plain": [
       "10-element Array{Int64,1}:\n",
       "  6063\n",
       " 13544\n",
       "  5071\n",
       "  2458\n",
       "     4\n",
       "  3291\n",
       " 13737\n",
       "  4183\n",
       "     3\n",
       " 12727"
      ]
     },
     "execution_count": 27,
     "metadata": {},
     "output_type": "execute_result"
    }
   ],
   "source": [
    "tophits = sortperm(scorepvals)[1:10]"
   ]
  },
  {
   "cell_type": "code",
   "execution_count": 28,
   "metadata": {},
   "outputs": [
    {
     "data": {
      "text/plain": [
       "10-element Array{Union{Missing, Float64},1}:\n",
       " 1.4416637280589482e-6\n",
       " 5.127005866008025e-6 \n",
       " 5.910845635149386e-6 \n",
       " 8.756466364522906e-6 \n",
       " 1.13731122530895e-5  \n",
       " 1.7228784857112124e-5\n",
       " 2.008908938410486e-5 \n",
       " 2.283909776161149e-5 \n",
       " 2.5117214960313727e-5\n",
       " 2.949378996752777e-5 "
      ]
     },
     "execution_count": 28,
     "metadata": {},
     "output_type": "execute_result"
    }
   ],
   "source": [
    "scorepvals[tophits]"
   ]
  },
  {
   "cell_type": "markdown",
   "metadata": {},
   "source": [
    "**Step 3**: Re-do LRT on top hits."
   ]
  },
  {
   "cell_type": "code",
   "execution_count": 29,
   "metadata": {},
   "outputs": [
    {
     "name": "stdout",
     "output_type": "stream",
     "text": [
      "  0.186250 seconds (410.55 k allocations: 21.398 MiB, 4.34% gc time)\n"
     ]
    }
   ],
   "source": [
    "@time polrgwas(@formula(trait ~ 0 + sex), \"../data/covariate.txt\", \"../data/hapmap3\", colinds=tophits, test=:LRT, outfile=\"hapmap\", verbose=false)"
   ]
  },
  {
   "cell_type": "code",
   "execution_count": 30,
   "metadata": {},
   "outputs": [
    {
     "name": "stdout",
     "output_type": "stream",
     "text": [
      "chr,pos,snpid,maf,effect,pval\n",
      "1,967643,rs2710875,0.32407407407407407,-0.6488560566295053,1.805050556976133e-5\n",
      "1,1168108,rs11260566,0.19158878504672894,-0.9157225669357916,5.8733847126852225e-6\n",
      "3,36821790,rs4678553,0.23456790123456794,0.7424952268973525,1.1303825016262592e-5\n",
      "4,11017683,rs16881446,0.27554179566563464,-0.7870581482955515,1.1105427468799613e-5\n",
      "5,3739190,rs12521166,0.0679012345679012,1.1468852997925303,4.7812882296576845e-5\n",
      "6,7574576,rs1885466,0.17746913580246915,0.8750621092263018,7.272346896740631e-6\n",
      "7,41152376,rs28880,0.3379629629629629,-0.8146339024453509,9.180126530294943e-7\n",
      "20,39225952,rs2076145,0.04475308641975306,1.4412437719976467,5.94831595593157e-5\n",
      "23,81247423,rs5923282,0.0030864197530864335,24.22432454878159,0.0016846467294181053\n",
      "23,121048059,rs1937165,0.4380804953560371,0.5392313636256603,1.9754643855527356e-5\n"
     ]
    }
   ],
   "source": [
    ";head -20 hapmap.lrttest.txt"
   ]
  },
  {
   "cell_type": "code",
   "execution_count": 31,
   "metadata": {
    "collapsed": true
   },
   "outputs": [],
   "source": [
    "rm(\"hapmap.nullmodel.txt\")\n",
    "rm(\"hapmap.lrttest.txt\")\n",
    "rm(\"hapmap.scoretest.txt\")"
   ]
  },
  {
   "cell_type": "markdown",
   "metadata": {
    "collapsed": true
   },
   "source": [
    "## GxE or other interactions\n",
    "\n",
    "In many applications, we want to test SNP effect and/or its interaction with other terms. `testformula` keyword specifies the test unit **besides** the covariates in `nullformula`. \n",
    "\n",
    "In following example, keyword `testformula=@formula(trait ~ 0 + snp + snp & sex)` instructs `polrgwas` to test joint effect of `snp` and `snp & sex` interaction."
   ]
  },
  {
   "cell_type": "code",
   "execution_count": 32,
   "metadata": {},
   "outputs": [
    {
     "name": "stdout",
     "output_type": "stream",
     "text": [
      "  2.483772 seconds (8.83 M allocations: 732.630 MiB, 5.93% gc time)\n"
     ]
    }
   ],
   "source": [
    "@time polrgwas(@formula(trait ~ 0 + sex), \"../data/covariate.txt\", \"../data/hapmap3\", \n",
    "    outfile=\"GxE\", testformula=@formula(trait ~ 0 + snp + snp & sex))"
   ]
  },
  {
   "cell_type": "code",
   "execution_count": 33,
   "metadata": {},
   "outputs": [
    {
     "name": "stdout",
     "output_type": "stream",
     "text": [
      "chr,pos,snpid,maf,pval\n",
      "1,554484,rs10458597,0.0,1.0\n",
      "1,758311,rs12562034,0.07763975155279501,0.011788370857064464\n",
      "1,967643,rs2710875,0.32407407407407407,0.0001389561913412981\n",
      "1,1168108,rs11260566,0.19158878504672894,4.4462425016377604e-5\n",
      "1,1375074,rs1312568,0.441358024691358,0.029488132169322546\n",
      "1,1588771,rs35154105,0.0,1.0\n",
      "1,1789051,rs16824508,0.00462962962962965,0.2922197942259074\n",
      "1,1990452,rs2678939,0.4537037037037037,0.3766426135602989\n",
      "1,2194615,rs7553178,0.22685185185185186,0.30692923752492324\n",
      "1,2396747,rs13376356,0.1448598130841121,0.8215334624145896\n",
      "1,2623158,rs28753913,0.0,1.0\n",
      "1,2823603,rs1563468,0.4830246913580247,0.3959379791900657\n",
      "1,3025087,rs6690373,0.2538699690402477,0.9284920594746979\n",
      "1,3225416,rs12043519,0.029320987654321007,0.0046530294043420975\n",
      "1,3431124,rs12093117,0.1099071207430341,0.47569653308676063\n",
      "1,3633945,rs10910017,0.22187500000000004,0.9880330237520744\n",
      "1,3895935,rs34770924,0.024691358024691357,0.3750554140393971\n",
      "1,4096895,rs6702633,0.4752321981424149,0.012651490097329717\n",
      "1,4297388,rs684965,0.3055555555555556,0.1477240111436921\n"
     ]
    }
   ],
   "source": [
    ";head -20 GxE.scoretest.txt"
   ]
  },
  {
   "cell_type": "code",
   "execution_count": 34,
   "metadata": {},
   "outputs": [],
   "source": [
    "rm(\"GxE.nullmodel.txt\")\n",
    "rm(\"GxE.scoretest.txt\")"
   ]
  },
  {
   "cell_type": "markdown",
   "metadata": {},
   "source": [
    "To test the linear and quadratic SNP effects jointly"
   ]
  },
  {
   "cell_type": "code",
   "execution_count": 35,
   "metadata": {},
   "outputs": [
    {
     "name": "stdout",
     "output_type": "stream",
     "text": [
      "  1.959710 seconds (7.51 M allocations: 526.572 MiB, 5.96% gc time)\n"
     ]
    }
   ],
   "source": [
    "@time polrgwas(@formula(trait ~ 0 + sex), \"../data/covariate.txt\", \"../data/hapmap3\", \n",
    "    outfile=\"quadratic\", testformula=@formula(trait ~ 0 + snp + snp & snp))"
   ]
  },
  {
   "cell_type": "code",
   "execution_count": 36,
   "metadata": {},
   "outputs": [
    {
     "name": "stdout",
     "output_type": "stream",
     "text": [
      "chr,pos,snpid,maf,pval\n",
      "1,554484,rs10458597,0.0,1.0\n",
      "1,758311,rs12562034,0.07763975155279501,0.012236157097696293\n",
      "1,967643,rs2710875,0.32407407407407407,1.0\n",
      "1,1168108,rs11260566,0.19158878504672894,6.553991614163971e-5\n",
      "1,1375074,rs1312568,0.441358024691358,1.0\n",
      "1,1588771,rs35154105,0.0,1.0\n",
      "1,1789051,rs16824508,0.00462962962962965,1.0\n",
      "1,1990452,rs2678939,0.4537037037037037,1.0\n",
      "1,2194615,rs7553178,0.22685185185185186,1.0\n",
      "1,2396747,rs13376356,0.1448598130841121,1.0\n",
      "1,2623158,rs28753913,0.0,1.0\n",
      "1,2823603,rs1563468,0.4830246913580247,1.0\n",
      "1,3025087,rs6690373,0.2538699690402477,0.9284972163883947\n",
      "1,3225416,rs12043519,0.029320987654321007,1.0\n",
      "1,3431124,rs12093117,0.1099071207430341,1.0\n",
      "1,3633945,rs10910017,0.22187500000000004,1.0\n",
      "1,3895935,rs34770924,0.024691358024691357,1.0\n",
      "1,4096895,rs6702633,0.4752321981424149,1.0\n",
      "1,4297388,rs684965,0.3055555555555556,1.0\n"
     ]
    }
   ],
   "source": [
    ";head -20 quadratic.scoretest.txt"
   ]
  },
  {
   "cell_type": "code",
   "execution_count": 37,
   "metadata": {},
   "outputs": [],
   "source": [
    "rm(\"quadratic.nullmodel.txt\")\n",
    "rm(\"quadratic.scoretest.txt\")"
   ]
  },
  {
   "cell_type": "markdown",
   "metadata": {},
   "source": [
    "## Docker\n",
    "\n",
    "For ease of using PolrGWAS, we provides a Dockerfile so users don't need to install Julia and required packages. Only Docker app needs to be installed. Following is tested on ???"
   ]
  }
 ],
 "metadata": {
  "kernelspec": {
   "display_name": "Julia 0.7.0",
   "language": "julia",
   "name": "julia-0.7"
  },
  "language_info": {
   "file_extension": ".jl",
   "mimetype": "application/julia",
   "name": "julia",
   "version": "0.7.0"
  },
  "toc": {
   "colors": {
    "hover_highlight": "#DAA520",
    "running_highlight": "#FF0000",
    "selected_highlight": "#FFD700"
   },
   "moveMenuLeft": true,
   "nav_menu": {
    "height": "30px",
    "width": "252px"
   },
   "navigate_menu": true,
   "number_sections": true,
   "sideBar": true,
   "threshold": 4,
   "toc_cell": false,
   "toc_section_display": "block",
   "toc_window_display": true,
   "widenNotebook": false
  }
 },
 "nbformat": 4,
 "nbformat_minor": 2
}
