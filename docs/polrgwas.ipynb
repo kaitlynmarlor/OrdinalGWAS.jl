{
 "cells": [
  {
   "cell_type": "markdown",
   "metadata": {},
   "source": [
    "# PolrGWAS.jl"
   ]
  },
  {
   "cell_type": "markdown",
   "metadata": {},
   "source": [
    "PolrGWAS.jl is a Julia package for performing genome-wide association studies (GWAS) for ordered categorical phenotypes using [proportional odds model](https://en.wikipedia.org/wiki/Ordered_logit) or [ordred Probit model](https://en.wikipedia.org/wiki/Ordered_probit). It is useful when the phenotype takes ordered discrete values, e.g., disease status (undiagnosed, pre-disease, mild, moderate, severe). The package name follows the function [`polr` in R package MASS](https://www.rdocumentation.org/packages/MASS/versions/7.3-3/topics/polr).\n",
    "\n",
    "## Installation\n",
    "\n",
    "This package requires Julia v0.7.0 or later and two other unregistered packages SnpArrays and PolrModels. The package has not yet been registered and must be installed using the repository location. Start julia and use the ] key to switch to the package manager REPL\n",
    "```julia\n",
    "(v1.0) pkg> add https://github.com/OpenMendel/SnpArrays.git#juliav0.7\n",
    "(v1.0) pkg> add https://github.com/OpenMendel/PolrModels.git\n",
    "(v1.0) pkg> add https://github.com/OpenMendel/PolrGWAS.git\n",
    "```"
   ]
  },
  {
   "cell_type": "code",
   "execution_count": 1,
   "metadata": {},
   "outputs": [
    {
     "name": "stdout",
     "output_type": "stream",
     "text": [
      "Julia Version 1.0.2\n",
      "Commit d789231e99 (2018-11-08 20:11 UTC)\n",
      "Platform Info:\n",
      "  OS: macOS (x86_64-apple-darwin14.5.0)\n",
      "  CPU: Intel(R) Core(TM) i7-6920HQ CPU @ 2.90GHz\n",
      "  WORD_SIZE: 64\n",
      "  LIBM: libopenlibm\n",
      "  LLVM: libLLVM-6.0.0 (ORCJIT, skylake)\n",
      "Environment:\n",
      "  JULIA_EDITOR = code\n"
     ]
    }
   ],
   "source": [
    "# machine information for this tutorial\n",
    "versioninfo()"
   ]
  },
  {
   "cell_type": "code",
   "execution_count": 2,
   "metadata": {},
   "outputs": [],
   "source": [
    "# for use in this tutorial\n",
    "using BenchmarkTools, CSV, PolrGWAS, SnpArrays"
   ]
  },
  {
   "cell_type": "markdown",
   "metadata": {},
   "source": [
    "## Example data set\n",
    "\n",
    "`data` folder of the package contains an example data set."
   ]
  },
  {
   "cell_type": "code",
   "execution_count": 3,
   "metadata": {},
   "outputs": [
    {
     "name": "stdout",
     "output_type": "stream",
     "text": [
      "total 3664\n",
      "-rw-r--r--  1 huazhou  staff     6844 Nov 23 17:58 covariate.txt\n",
      "-rw-r--r--  1 huazhou  staff  1128171 Nov 23 17:58 hapmap3.bed\n",
      "-rw-r--r--  1 huazhou  staff   388672 Nov 23 17:58 hapmap3.bim\n",
      "-rw-r--r--  1 huazhou  staff     7136 Nov 23 17:58 hapmap3.fam\n",
      "-rw-r--r--  1 huazhou  staff   332960 Nov 23 17:58 hapmap3.map\n",
      "-rw-r--r--  1 huazhou  staff      773 Nov 23 17:58 simtrait.jl\n"
     ]
    }
   ],
   "source": [
    ";ls -l ../data"
   ]
  },
  {
   "cell_type": "markdown",
   "metadata": {},
   "source": [
    "`covariate.txt` is a comma separated value (CSV) file containing the sample information, covariates `sex`, and phenotype `trait`. `trait` is coded as integer values 1, 2, 3 or 4. It was simulated from the script `simtrait.jl`. "
   ]
  },
  {
   "cell_type": "code",
   "execution_count": 4,
   "metadata": {},
   "outputs": [
    {
     "name": "stdout",
     "output_type": "stream",
     "text": [
      "famid,perid,faid,moid,sex,trait\n",
      "2431,NA19916,0,0,1,4\n",
      "2424,NA19835,0,0,2,4\n",
      "2469,NA20282,0,0,2,4\n",
      "2368,NA19703,0,0,1,3\n",
      "2425,NA19901,0,0,2,3\n",
      "2427,NA19908,0,0,1,4\n",
      "2430,NA19914,0,0,2,4\n",
      "2470,NA20287,0,0,2,1\n",
      "2436,NA19713,0,0,2,3\n"
     ]
    }
   ],
   "source": [
    ";head ../data/covariate.txt"
   ]
  },
  {
   "cell_type": "markdown",
   "metadata": {},
   "source": [
    "`hapmap3` is a set of Plink files that contain the genotype information of samples. "
   ]
  },
  {
   "cell_type": "markdown",
   "metadata": {},
   "source": [
    "## Basic usage\n",
    "\n",
    "The following command performs GWAS using the [proportional odds model](https://en.wikipedia.org/wiki/Ordered_logit)."
   ]
  },
  {
   "cell_type": "code",
   "execution_count": 5,
   "metadata": {
    "collapsed": true
   },
   "outputs": [],
   "source": [
    "polrgwas(@formula(trait ~ sex), \"../data/covariate.txt\", \"../data/hapmap3\")"
   ]
  },
  {
   "cell_type": "markdown",
   "metadata": {},
   "source": [
    "For documentation of the `polrgwas` function, type `?polrgwas` in Julia REPL.\n",
    "```@docs\n",
    "polrgwas\n",
    "```"
   ]
  },
  {
   "cell_type": "markdown",
   "metadata": {},
   "source": [
    "### Formula for null model\n",
    "\n",
    "The first argument specifies the null model without SNP effects, e.g., `@formula(trait ~ sex)`."
   ]
  },
  {
   "cell_type": "markdown",
   "metadata": {},
   "source": [
    "### Input files\n",
    "\n",
    "`polrgwas` expects two input files: one for responses plus covariates (second argument), the other the Plink files for genotypes (third argument).\n",
    "\n",
    "Covariates and phenotype are available in a csv file `covariate.txt`, which has one header line for variable names. Variable `trait` is the ordered categorical phenotypes coded as integers 1 to 4. We want to include variable `sex` as the covariate in GWAS."
   ]
  },
  {
   "cell_type": "code",
   "execution_count": 6,
   "metadata": {},
   "outputs": [
    {
     "name": "stdout",
     "output_type": "stream",
     "text": [
      "famid,perid,faid,moid,sex,trait\n",
      "2431,NA19916,0,0,1,4\n",
      "2424,NA19835,0,0,2,4\n",
      "2469,NA20282,0,0,2,4\n",
      "2368,NA19703,0,0,1,3\n",
      "2425,NA19901,0,0,2,3\n",
      "2427,NA19908,0,0,1,4\n",
      "2430,NA19914,0,0,2,4\n",
      "2470,NA20287,0,0,2,1\n",
      "2436,NA19713,0,0,2,3\n"
     ]
    }
   ],
   "source": [
    ";head ../data/covariate.txt"
   ]
  },
  {
   "cell_type": "markdown",
   "metadata": {},
   "source": [
    "Genotype data is available as binary Plink files."
   ]
  },
  {
   "cell_type": "code",
   "execution_count": 7,
   "metadata": {},
   "outputs": [
    {
     "name": "stdout",
     "output_type": "stream",
     "text": [
      "-rw-r--r--  1 huazhou  staff  1128171 Nov 23 17:58 ../data/hapmap3.bed\n",
      "-rw-r--r--  1 huazhou  staff   388672 Nov 23 17:58 ../data/hapmap3.bim\n",
      "-rw-r--r--  1 huazhou  staff     7136 Nov 23 17:58 ../data/hapmap3.fam\n"
     ]
    }
   ],
   "source": [
    ";ls -l ../data/hapmap3.bed ../data/hapmap3.bim ../data/hapmap3.fam"
   ]
  },
  {
   "cell_type": "markdown",
   "metadata": {},
   "source": [
    "There are 324 samples at 13,928 SNPs."
   ]
  },
  {
   "cell_type": "code",
   "execution_count": 8,
   "metadata": {},
   "outputs": [
    {
     "data": {
      "text/plain": [
       "(324, 13928)"
      ]
     },
     "execution_count": 8,
     "metadata": {},
     "output_type": "execute_result"
    }
   ],
   "source": [
    "size(SnpArray(\"../data/hapmap3.bed\"))"
   ]
  },
  {
   "cell_type": "markdown",
   "metadata": {},
   "source": [
    "### Output files"
   ]
  },
  {
   "cell_type": "markdown",
   "metadata": {},
   "source": [
    "`polrgwas` outputs two files: `polrgwas.nullmodel.txt` and `polrgwas.scoretest.txt`. The prefix `polrgwas` of output files can be changed by the `outfile` keyword, e.g.,\n",
    "```julia\n",
    "polrgwas(@formula(trait ~ sex), \"../data/covariate.txt\", \"../data/hapmap3\", outfile=\"hapmap3\")\n",
    "```\n",
    "\n",
    "* `polrgwas.nullmodel.txt` lists the estimated null model (without SNPs).  "
   ]
  },
  {
   "cell_type": "code",
   "execution_count": 9,
   "metadata": {},
   "outputs": [
    {
     "name": "stdout",
     "output_type": "stream",
     "text": [
      "StatsModels.DataFrameRegressionModel{PolrModel{Int64,Float64,LogitLink},Array{Float64,2}}\n",
      "\n",
      "Formula: trait ~ +sex\n",
      "\n",
      "Coefficients:\n",
      "      Estimate Std.Error  t value Pr(>|t|)\n",
      "θ1    -1.48564  0.358891 -4.13952    <1e-4\n",
      "θ2   -0.569479  0.341044 -1.66981   0.0959\n",
      "θ3    0.429815  0.339642  1.26549   0.2066\n",
      "β1    0.424656  0.213914  1.98517   0.0480\n"
     ]
    }
   ],
   "source": [
    ";cat polrgwas.nullmodel.txt"
   ]
  },
  {
   "cell_type": "markdown",
   "metadata": {},
   "source": [
    "* `polrgwas.scoretest.txt` tallies the SNPs and their pvalues. "
   ]
  },
  {
   "cell_type": "code",
   "execution_count": 10,
   "metadata": {},
   "outputs": [
    {
     "name": "stdout",
     "output_type": "stream",
     "text": [
      "chr,pos,snpid,maf,pval\n",
      "1,554484,rs10458597,0.0,1.0\n",
      "1,758311,rs12562034,0.07763975155279501,0.004565312839540994\n",
      "1,967643,rs2710875,0.32407407407407407,3.1082838285548695e-5\n",
      "1,1168108,rs11260566,0.19158878504672894,1.2168672367668912e-5\n",
      "1,1375074,rs1312568,0.441358024691358,0.008206860046175221\n",
      "1,1588771,rs35154105,0.0,1.0\n",
      "1,1789051,rs16824508,0.00462962962962965,0.5111981332544\n",
      "1,1990452,rs2678939,0.4537037037037037,0.29972829571847825\n",
      "1,2194615,rs7553178,0.22685185185185186,0.1713331245805063\n"
     ]
    }
   ],
   "source": [
    ";head polrgwas.scoretest.txt"
   ]
  },
  {
   "cell_type": "markdown",
   "metadata": {},
   "source": [
    "### Input non-genetic data as DataFrame\n",
    "\n",
    "Internally `polrgwas` parses the covariate file as a DataFrame by `CSV.read(covfile)`. For covariate file of other format, users can parse first and then input a DataFrame to `polrgwas` directly.\n",
    "```julia\n",
    "polrgwas(@formula(trait ~ sex), df, \"../data/hapmap3\")\n",
    "```\n",
    "!!! note\n",
    "\n",
    "    Users should always make sure that individuals in covariate file or DataFrame match those in Plink fam file. \n",
    "\n",
    "For example, following code checks that the first 2 columns of the `covariate.txt` file match the first 2 columns of the `hapmap3.fam` file exactly."
   ]
  },
  {
   "cell_type": "code",
   "execution_count": 11,
   "metadata": {},
   "outputs": [
    {
     "data": {
      "text/plain": [
       "true"
      ]
     },
     "execution_count": 11,
     "metadata": {},
     "output_type": "execute_result"
    }
   ],
   "source": [
    "covdf = CSV.read(\"../data/covariate.txt\")\n",
    "plkfam = CSV.read(\"../data/hapmap3.fam\", header=0, delim=' ')\n",
    "all(covdf[1] .== plkfam[1]) && all(covdf[2] .== plkfam[2])"
   ]
  },
  {
   "cell_type": "markdown",
   "metadata": {},
   "source": [
    "### Timing\n",
    "\n",
    "For this moderate-sized data set, `polrgwas` takes less than 0.2 second."
   ]
  },
  {
   "cell_type": "code",
   "execution_count": 12,
   "metadata": {},
   "outputs": [
    {
     "name": "stdout",
     "output_type": "stream",
     "text": [
      "  129.735 ms (639113 allocations: 29.12 MiB)\n"
     ]
    }
   ],
   "source": [
    "@btime(polrgwas(@formula(trait ~ sex), \"../data/covariate.txt\", \"../data/hapmap3\"))"
   ]
  },
  {
   "cell_type": "code",
   "execution_count": 13,
   "metadata": {
    "collapsed": true
   },
   "outputs": [],
   "source": [
    "# clean up\n",
    "rm(\"polrgwas.scoretest.txt\")\n",
    "rm(\"polrgwas.nullmodel.txt\")"
   ]
  },
  {
   "cell_type": "markdown",
   "metadata": {},
   "source": [
    "## Link functions\n",
    "\n",
    "The `link` keyword argument of `polrgwas` can take value:  \n",
    "- `LogitLink()`, proportional odds model (default),  \n",
    "- `ProbitLink()`, ordred Probit model,  \n",
    "- `CloglogLink()`, proportional hazards model), or \n",
    "- `CauchyLink()`.\n",
    "\n",
    "For example, to perform GWAS using the ordred Probit model"
   ]
  },
  {
   "cell_type": "code",
   "execution_count": 14,
   "metadata": {
    "collapsed": true
   },
   "outputs": [],
   "source": [
    "polrgwas(@formula(trait ~ sex), \"../data/covariate.txt\", \"../data/hapmap3\", \n",
    "    link=ProbitLink(), outfile=\"opm\")"
   ]
  },
  {
   "cell_type": "markdown",
   "metadata": {
    "collapsed": true
   },
   "source": [
    "The estimates in null model and p-values are slightly different from proportional odds moodel."
   ]
  },
  {
   "cell_type": "code",
   "execution_count": 15,
   "metadata": {},
   "outputs": [
    {
     "name": "stdout",
     "output_type": "stream",
     "text": [
      "StatsModels.DataFrameRegressionModel{PolrModel{Int64,Float64,ProbitLink},Array{Float64,2}}\n",
      "\n",
      "Formula: trait ~ +sex\n",
      "\n",
      "Coefficients:\n",
      "      Estimate Std.Error  t value Pr(>|t|)\n",
      "θ1   -0.866156  0.210677 -4.11129    <1e-4\n",
      "θ2   -0.359878  0.205817 -1.74854   0.0813\n",
      "θ3    0.247054  0.205382   1.2029   0.2299\n",
      "β1    0.251058  0.128225  1.95795   0.0511\n"
     ]
    }
   ],
   "source": [
    ";cat opm.nullmodel.txt"
   ]
  },
  {
   "cell_type": "code",
   "execution_count": 16,
   "metadata": {},
   "outputs": [
    {
     "name": "stdout",
     "output_type": "stream",
     "text": [
      "chr,pos,snpid,maf,pval\n",
      "1,554484,rs10458597,0.0,1.0\n",
      "1,758311,rs12562034,0.07763975155279501,0.010076916742300138\n",
      "1,967643,rs2710875,0.32407407407407407,2.6272564941853933e-5\n",
      "1,1168108,rs11260566,0.19158878504672894,1.0897484851078458e-5\n",
      "1,1375074,rs1312568,0.441358024691358,0.005102883990438149\n",
      "1,1588771,rs35154105,0.0,1.0\n",
      "1,1789051,rs16824508,0.00462962962962965,0.48653776297859236\n",
      "1,1990452,rs2678939,0.4537037037037037,0.33231290090455434\n",
      "1,2194615,rs7553178,0.22685185185185186,0.25915513977197435\n"
     ]
    }
   ],
   "source": [
    ";head opm.scoretest.txt"
   ]
  },
  {
   "cell_type": "code",
   "execution_count": 17,
   "metadata": {
    "collapsed": true
   },
   "outputs": [],
   "source": [
    "rm(\"opm.nullmodel.txt\")\n",
    "rm(\"opm.scoretest.txt\")"
   ]
  },
  {
   "cell_type": "markdown",
   "metadata": {},
   "source": [
    "## SNP models\n",
    "\n",
    "Genotypes are translated into numeric values according to different genetic model, which is specified by the `snpmodel` keyword. Default is `ADDITIVE_MODEL`.\n",
    "\n",
    "| Genotype | `SnpArray` | `ADDITIVE_MODEL` | `DOMINANT_MODEL` | `RECESSIVE_MODEL` |    \n",
    "|:---:|:---:|:---:|:---:|:---:|  \n",
    "| A1,A1 | 0x00 | 0 | 0 | 0 |  \n",
    "| missing | 0x01 | NaN | NaN | NaN |\n",
    "| A1,A2 | 0x02 | 1 | 1 | 0 |  \n",
    "| A2,A2 | 0x03 | 2 | 1 | 1 |  "
   ]
  },
  {
   "cell_type": "markdown",
   "metadata": {},
   "source": [
    "## SNP and/or sample masks\n",
    "\n",
    "In practice, we often perform GWAS on selected SNPs and/or selected samples. They can be specified by the `colinds` and `rowinds` keywords of `polrgwas` function.\n",
    "\n",
    "For example, to perform GWAS on SNPs with minor allele frequency (MAF) above 0.05"
   ]
  },
  {
   "cell_type": "code",
   "execution_count": 18,
   "metadata": {},
   "outputs": [
    {
     "data": {
      "text/plain": [
       "13928-element BitArray{1}:\n",
       " false\n",
       "  true\n",
       "  true\n",
       "  true\n",
       "  true\n",
       " false\n",
       " false\n",
       "  true\n",
       "  true\n",
       "  true\n",
       " false\n",
       "  true\n",
       "  true\n",
       "     ⋮\n",
       "  true\n",
       "  true\n",
       "  true\n",
       "  true\n",
       "  true\n",
       "  true\n",
       "  true\n",
       "  true\n",
       "  true\n",
       " false\n",
       " false\n",
       " false"
      ]
     },
     "execution_count": 18,
     "metadata": {},
     "output_type": "execute_result"
    }
   ],
   "source": [
    "# create SNP mask\n",
    "snpinds = maf(SnpArray(\"../data/hapmap3.bed\")) .≥ 0.05"
   ]
  },
  {
   "cell_type": "code",
   "execution_count": 19,
   "metadata": {},
   "outputs": [
    {
     "name": "stdout",
     "output_type": "stream",
     "text": [
      "  0.222907 seconds (767.25 k allocations: 36.103 MiB, 6.67% gc time)\n"
     ]
    }
   ],
   "source": [
    "# GWAS on selected SNPs\n",
    "@time polrgwas(@formula(trait ~ sex), \"../data/covariate.txt\", \"../data/hapmap3\", \n",
    "    colinds = snpinds, outfile=\"commonvariant\")"
   ]
  },
  {
   "cell_type": "code",
   "execution_count": 20,
   "metadata": {},
   "outputs": [
    {
     "name": "stdout",
     "output_type": "stream",
     "text": [
      "StatsModels.DataFrameRegressionModel{PolrModel{Int64,Float64,LogitLink},Array{Float64,2}}\n",
      "\n",
      "Formula: trait ~ +sex\n",
      "\n",
      "Coefficients:\n",
      "      Estimate Std.Error  t value Pr(>|t|)\n",
      "θ1    -1.48564  0.358891 -4.13952    <1e-4\n",
      "θ2   -0.569479  0.341044 -1.66981   0.0959\n",
      "θ3    0.429815  0.339642  1.26549   0.2066\n",
      "β1    0.424656  0.213914  1.98517   0.0480\n"
     ]
    }
   ],
   "source": [
    ";cat commonvariant.nullmodel.txt"
   ]
  },
  {
   "cell_type": "code",
   "execution_count": 21,
   "metadata": {},
   "outputs": [
    {
     "name": "stdout",
     "output_type": "stream",
     "text": [
      "chr,pos,snpid,maf,pval\n",
      "1,758311,rs12562034,0.07763975155279501,0.004565312839540994\n",
      "1,967643,rs2710875,0.32407407407407407,3.1082838285548695e-5\n",
      "1,1168108,rs11260566,0.19158878504672894,1.2168672367668912e-5\n",
      "1,1375074,rs1312568,0.441358024691358,0.008206860046175221\n",
      "1,1990452,rs2678939,0.4537037037037037,0.29972829571847825\n",
      "1,2194615,rs7553178,0.22685185185185186,0.1713331245805063\n",
      "1,2396747,rs13376356,0.1448598130841121,0.5320416198875456\n",
      "1,2823603,rs1563468,0.4830246913580247,0.225191391783573\n",
      "1,3025087,rs6690373,0.2538699690402477,0.7018469417717486\n"
     ]
    }
   ],
   "source": [
    ";head commonvariant.scoretest.txt"
   ]
  },
  {
   "cell_type": "code",
   "execution_count": 22,
   "metadata": {},
   "outputs": [
    {
     "data": {
      "text/plain": [
       "(12086, 12085)"
      ]
     },
     "execution_count": 22,
     "metadata": {},
     "output_type": "execute_result"
    }
   ],
   "source": [
    "# extra headline in commonvariant.scoretest.txt\n",
    "countlines(\"commonvariant.scoretest.txt\"), count(snpinds)"
   ]
  },
  {
   "cell_type": "code",
   "execution_count": 23,
   "metadata": {
    "collapsed": true
   },
   "outputs": [],
   "source": [
    "# clean up\n",
    "rm(\"commonvariant.scoretest.txt\")\n",
    "rm(\"commonvariant.nullmodel.txt\")"
   ]
  },
  {
   "cell_type": "markdown",
   "metadata": {},
   "source": [
    "User should be particularly careful when using the `rowinds` keyword. Selected rows in SnpArray should exactly match the samples in the null model. Otherwise the results are meaningless."
   ]
  },
  {
   "cell_type": "markdown",
   "metadata": {},
   "source": [
    "## Likelihood ratio test (LRT)\n",
    "\n",
    "By default, `polrgwas` calculates p-value for each SNP using score test. Score test is fast because it doesn't require fitting alternative model for each SNP. User can request likelihood ratio test (LRT) using keyword `test=:LRT`. LRT is much slower but may be more powerful than score test."
   ]
  },
  {
   "cell_type": "code",
   "execution_count": 24,
   "metadata": {},
   "outputs": [
    {
     "name": "stdout",
     "output_type": "stream",
     "text": [
      " 19.855754 seconds (8.19 M allocations: 2.045 GiB, 2.01% gc time)\n"
     ]
    }
   ],
   "source": [
    "@time polrgwas(@formula(trait ~ sex), \"../data/covariate.txt\", \"../data/hapmap3\", \n",
    "    test=:LRT, outfile=\"lrt\")"
   ]
  },
  {
   "cell_type": "markdown",
   "metadata": {},
   "source": [
    "Test result is output to `outfile.lrttest.txt` file"
   ]
  },
  {
   "cell_type": "code",
   "execution_count": 25,
   "metadata": {},
   "outputs": [
    {
     "name": "stdout",
     "output_type": "stream",
     "text": [
      "chr,pos,snpid,maf,effect,pval\n",
      "1,554484,rs10458597,0.0,0.0,1.0\n",
      "1,758311,rs12562034,0.07763975155279501,-1.0057833719544331,0.0019185836579804134\n",
      "1,967643,rs2710875,0.32407407407407407,-0.6488560566295055,1.805050556976241e-5\n",
      "1,1168108,rs11260566,0.19158878504672894,-0.9157225669357879,5.873384712685568e-6\n",
      "1,1375074,rs1312568,0.441358024691358,-0.33181366525772593,0.008081022577832324\n",
      "1,1588771,rs35154105,0.0,0.0,1.0\n",
      "1,1789051,rs16824508,0.00462962962962965,-0.7338026388701573,0.5169027130129711\n",
      "1,1990452,rs2678939,0.4537037037037037,-0.13586499231819726,0.29946402200912603\n",
      "1,2194615,rs7553178,0.22685185185185186,-0.2512075640440123,0.16151069094439868\n"
     ]
    }
   ],
   "source": [
    ";head lrt.lrttest.txt"
   ]
  },
  {
   "cell_type": "markdown",
   "metadata": {},
   "source": [
    "Note the extra `effect` column, which is the effect size (regression coefficient) for each SNP. "
   ]
  },
  {
   "cell_type": "code",
   "execution_count": 26,
   "metadata": {
    "collapsed": true
   },
   "outputs": [],
   "source": [
    "# clean up\n",
    "rm(\"lrt.lrttest.txt\")\n",
    "rm(\"lrt.nullmodel.txt\")"
   ]
  },
  {
   "cell_type": "markdown",
   "metadata": {},
   "source": [
    "In this example, GWAS by score test takes less than 0.2 second, while GWAS by LRT takes about 20 seconds. About 100 fold difference in run time. \n",
    "\n",
    "## Score test for screening, LRT for power \n",
    "\n",
    "For large data sets, a practical solution is to perform score test first, then re-do LRT for the most promising SNPs according to score test p-values.\n",
    "\n",
    "**Step 1**: Perform score test GWAS, results in `hapmap.scoretest.txt`."
   ]
  },
  {
   "cell_type": "code",
   "execution_count": 27,
   "metadata": {},
   "outputs": [
    {
     "name": "stdout",
     "output_type": "stream",
     "text": [
      "  0.232228 seconds (717.17 k allocations: 33.237 MiB, 6.99% gc time)\n"
     ]
    }
   ],
   "source": [
    "@time polrgwas(@formula(trait ~ sex), \"../data/covariate.txt\", \"../data/hapmap3\", \n",
    "    test=:score, outfile=\"hapmap\", verbose=false)"
   ]
  },
  {
   "cell_type": "code",
   "execution_count": 28,
   "metadata": {},
   "outputs": [
    {
     "name": "stdout",
     "output_type": "stream",
     "text": [
      "chr,pos,snpid,maf,pval\n",
      "1,554484,rs10458597,0.0,1.0\n",
      "1,758311,rs12562034,0.07763975155279501,0.004565312839540994\n",
      "1,967643,rs2710875,0.32407407407407407,3.1082838285548695e-5\n",
      "1,1168108,rs11260566,0.19158878504672894,1.2168672367668912e-5\n",
      "1,1375074,rs1312568,0.441358024691358,0.008206860046175221\n",
      "1,1588771,rs35154105,0.0,1.0\n",
      "1,1789051,rs16824508,0.00462962962962965,0.5111981332544\n",
      "1,1990452,rs2678939,0.4537037037037037,0.29972829571847825\n",
      "1,2194615,rs7553178,0.22685185185185186,0.1713331245805063\n"
     ]
    }
   ],
   "source": [
    ";head hapmap.scoretest.txt"
   ]
  },
  {
   "cell_type": "markdown",
   "metadata": {},
   "source": [
    "**Step 2**: Sort score test p-values and find top 10 SNPs."
   ]
  },
  {
   "cell_type": "code",
   "execution_count": 29,
   "metadata": {},
   "outputs": [
    {
     "data": {
      "text/plain": [
       "13928-element Array{Union{Missing, Float64},1}:\n",
       " 1.0                  \n",
       " 0.004565312839540994 \n",
       " 3.1082838285548695e-5\n",
       " 1.2168672367668912e-5\n",
       " 0.008206860046175221 \n",
       " 1.0                  \n",
       " 0.5111981332544      \n",
       " 0.29972829571847825  \n",
       " 0.1713331245805063   \n",
       " 0.5320416198875456   \n",
       " 1.0                  \n",
       " 0.225191391783573    \n",
       " 0.7018469417717486   \n",
       " ⋮                    \n",
       " 0.3659920717810955   \n",
       " 0.5612543378640146   \n",
       " 0.11646522388490779  \n",
       " 0.5216852471858483   \n",
       " 0.44711860378438606  \n",
       " 0.16565527326637602  \n",
       " 0.65590930553447     \n",
       " 0.89481895007441     \n",
       " 0.6559093055344556   \n",
       " 0.3462815220311233   \n",
       " 0.2316733923395225   \n",
       " 0.2651082379376032   "
      ]
     },
     "execution_count": 29,
     "metadata": {},
     "output_type": "execute_result"
    }
   ],
   "source": [
    "scorepvals = CSV.read(\"hapmap.scoretest.txt\")[5]"
   ]
  },
  {
   "cell_type": "code",
   "execution_count": 30,
   "metadata": {},
   "outputs": [
    {
     "data": {
      "text/plain": [
       "10-element Array{Int64,1}:\n",
       "  6063\n",
       "  5071\n",
       "  2458\n",
       "     4\n",
       "  3291\n",
       " 13737\n",
       "  5293\n",
       "     3\n",
       "  6256\n",
       "  4183"
      ]
     },
     "execution_count": 30,
     "metadata": {},
     "output_type": "execute_result"
    }
   ],
   "source": [
    "tophits = sortperm(scorepvals)[1:10]"
   ]
  },
  {
   "cell_type": "code",
   "execution_count": 31,
   "metadata": {},
   "outputs": [
    {
     "data": {
      "text/plain": [
       "10-element Array{Union{Missing, Float64},1}:\n",
       " 1.3080149099181335e-6\n",
       " 6.536722765052079e-6 \n",
       " 9.664742185669054e-6 \n",
       " 1.2168672367668912e-5\n",
       " 1.802746001833127e-5 \n",
       " 2.0989542284213636e-5\n",
       " 2.6844521269963608e-5\n",
       " 3.1082838285548695e-5\n",
       " 4.1010912875160476e-5\n",
       " 4.2966265138454806e-5"
      ]
     },
     "execution_count": 31,
     "metadata": {},
     "output_type": "execute_result"
    }
   ],
   "source": [
    "scorepvals[tophits]"
   ]
  },
  {
   "cell_type": "markdown",
   "metadata": {},
   "source": [
    "**Step 3**: Re-do LRT on top hits."
   ]
  },
  {
   "cell_type": "code",
   "execution_count": 32,
   "metadata": {},
   "outputs": [
    {
     "name": "stdout",
     "output_type": "stream",
     "text": [
      "  0.159806 seconds (351.95 k allocations: 18.710 MiB, 4.96% gc time)\n"
     ]
    }
   ],
   "source": [
    "@time polrgwas(@formula(trait ~ sex), \"../data/covariate.txt\", \"../data/hapmap3\", \n",
    "    colinds=tophits, test=:LRT, outfile=\"hapmap\")"
   ]
  },
  {
   "cell_type": "code",
   "execution_count": 33,
   "metadata": {},
   "outputs": [
    {
     "name": "stdout",
     "output_type": "stream",
     "text": [
      "chr,pos,snpid,maf,effect,pval\n",
      "1,967643,rs2710875,0.32407407407407407,-0.6488560566295055,1.805050556976241e-5\n",
      "1,1168108,rs11260566,0.19158878504672894,-0.9157225669357879,5.873384712685568e-6\n",
      "3,36821790,rs4678553,0.23456790123456794,0.7424952268973518,1.1303825016262592e-5\n",
      "4,11017683,rs16881446,0.27554179566563464,-0.7870581482955515,1.1105427468799613e-5\n",
      "5,3739190,rs12521166,0.0679012345679012,1.1468852997925316,4.781288229657399e-5\n",
      "6,7574576,rs1885466,0.17746913580246915,0.8750621092263019,7.272346896740631e-6\n",
      "6,52474721,rs2073183,0.1826625386996904,0.7790794914858663,5.069394513906121e-5\n",
      "7,41152376,rs28880,0.3379629629629629,-0.814633902445351,9.180126530294943e-7\n",
      "7,84223996,rs4128623,0.07870370370370372,1.0022229316338573,6.587895464657512e-5\n"
     ]
    }
   ],
   "source": [
    ";head hapmap.lrttest.txt"
   ]
  },
  {
   "cell_type": "code",
   "execution_count": 34,
   "metadata": {
    "collapsed": true
   },
   "outputs": [],
   "source": [
    "# clean up\n",
    "rm(\"hapmap.nullmodel.txt\")\n",
    "rm(\"hapmap.lrttest.txt\")\n",
    "rm(\"hapmap.scoretest.txt\")"
   ]
  },
  {
   "cell_type": "markdown",
   "metadata": {
    "collapsed": true
   },
   "source": [
    "## GxE or other interactions\n",
    "\n",
    "In many applications, we want to test SNP effect and/or its interaction with other terms. `testformula` keyword specifies the test unit **besides** the covariates in `nullformula`. \n",
    "\n",
    "In following example, keyword `testformula=@formula(trait ~ snp + snp & sex)` instructs `polrgwas` to test joint effect of `snp` and `snp & sex` interaction."
   ]
  },
  {
   "cell_type": "code",
   "execution_count": 35,
   "metadata": {
    "collapsed": true
   },
   "outputs": [],
   "source": [
    "polrgwas(@formula(trait ~ sex), \"../data/covariate.txt\", \"../data/hapmap3\", \n",
    "    outfile=\"GxE\", testformula=@formula(trait ~ snp + snp & sex))"
   ]
  },
  {
   "cell_type": "code",
   "execution_count": 36,
   "metadata": {},
   "outputs": [
    {
     "name": "stdout",
     "output_type": "stream",
     "text": [
      "chr,pos,snpid,maf,pval\n",
      "1,554484,rs10458597,0.0,1.0\n",
      "1,758311,rs12562034,0.07763975155279501,0.017446010412254197\n",
      "1,967643,rs2710875,0.32407407407407407,0.0001667073239489097\n",
      "1,1168108,rs11260566,0.19158878504672894,4.763762457893366e-5\n",
      "1,1375074,rs1312568,0.441358024691358,0.029138471242993652\n",
      "1,1588771,rs35154105,0.0,1.0\n",
      "1,1789051,rs16824508,0.00462962962962965,0.2964363114944328\n",
      "1,1990452,rs2678939,0.4537037037037037,0.37924580479348785\n",
      "1,2194615,rs7553178,0.22685185185185186,0.325582269932396\n"
     ]
    }
   ],
   "source": [
    ";head GxE.scoretest.txt"
   ]
  },
  {
   "cell_type": "code",
   "execution_count": 37,
   "metadata": {
    "collapsed": true
   },
   "outputs": [],
   "source": [
    "# clean up\n",
    "rm(\"GxE.nullmodel.txt\")\n",
    "rm(\"GxE.scoretest.txt\")"
   ]
  },
  {
   "cell_type": "markdown",
   "metadata": {},
   "source": [
    "To test the linear and quadratic SNP effects jointly"
   ]
  },
  {
   "cell_type": "code",
   "execution_count": 38,
   "metadata": {
    "collapsed": true
   },
   "outputs": [],
   "source": [
    "polrgwas(@formula(trait ~ 0 + sex), \"../data/covariate.txt\", \"../data/hapmap3\", \n",
    "    outfile=\"quadratic\", testformula=@formula(trait ~ snp + snp & snp))"
   ]
  },
  {
   "cell_type": "code",
   "execution_count": 39,
   "metadata": {},
   "outputs": [
    {
     "name": "stdout",
     "output_type": "stream",
     "text": [
      "chr,pos,snpid,maf,pval\n",
      "1,554484,rs10458597,0.0,1.0\n",
      "1,758311,rs12562034,0.07763975155279501,1.0\n",
      "1,967643,rs2710875,0.32407407407407407,1.0\n",
      "1,1168108,rs11260566,0.19158878504672894,1.0\n",
      "1,1375074,rs1312568,0.441358024691358,1.0\n",
      "1,1588771,rs35154105,0.0,1.0\n",
      "1,1789051,rs16824508,0.00462962962962965,1.0\n",
      "1,1990452,rs2678939,0.4537037037037037,1.0\n",
      "1,2194615,rs7553178,0.22685185185185186,1.0\n"
     ]
    }
   ],
   "source": [
    ";head quadratic.scoretest.txt"
   ]
  },
  {
   "cell_type": "code",
   "execution_count": 40,
   "metadata": {
    "collapsed": true
   },
   "outputs": [],
   "source": [
    "# clean up\n",
    "rm(\"quadratic.nullmodel.txt\")\n",
    "rm(\"quadratic.scoretest.txt\")"
   ]
  },
  {
   "cell_type": "markdown",
   "metadata": {},
   "source": [
    "## Plots\n",
    "\n",
    "To plot the GWAS results, use the MendelPlots (TODO) package."
   ]
  },
  {
   "cell_type": "markdown",
   "metadata": {},
   "source": [
    "## Docker\n",
    "\n",
    "For ease of using PolrGWAS, we provide a Dockerfile so users don't need to install Julia and required packages. Only Docker app needs to be installed in order to run analysis. Following is tested on Docker 2.0.0.0-mac78.\n",
    "\n",
    "**Step 1**: Create a Dockerfile with content shown below. You can copy from [here](https://raw.githubusercontent.com/OpenMendel/PolrGWAS.jl/master/docker/Dockerfile)."
   ]
  },
  {
   "cell_type": "code",
   "execution_count": 41,
   "metadata": {},
   "outputs": [
    {
     "name": "stdout",
     "output_type": "stream",
     "text": [
      "FROM centos:7\n",
      "\n",
      "WORKDIR /root\n",
      "\n",
      "RUN yum update -y && yum install -y epel-release && yum clean all\n",
      "\n",
      "RUN yum update -y && yum install -y \\\n",
      "    cmake \\\n",
      "    curl-devel \\\n",
      "    expat-devel \\\n",
      "    gcc \\\n",
      "    gcc-c++ \\\n",
      "    gcc-gfortran \\\n",
      "    gettext-devel \\\n",
      "    make \\\n",
      "    openssl \\\n",
      "    openssl098e \\\n",
      "    openssl-devel \\\n",
      "    patch \\\n",
      "    svn \\\n",
      "    wget \\\n",
      "    which \\\n",
      "    && yum clean all    \n",
      "\n",
      "ENV PATH /usr/local/sbin:/usr/local/bin:$PATH\n",
      "\n",
      "ENV LD_LIBRARY_PATH /usr/local/lib:/usr/local/lib64\n",
      "\n",
      "# GIT - https://git-scm.com/\n",
      "# http://tecadmin.net/install-git-2-0-on-centos-rhel-fedora/#\n",
      "ENV GIT_VER 2.19.1\n",
      "\n",
      "RUN wget https://www.kernel.org/pub/software/scm/git/git-$GIT_VER.tar.gz \\\n",
      "    && tar xf git-$GIT_VER.tar.gz && cd git-$GIT_VER \\\n",
      "    && make -j\"$(nproc --all)\" prefix=/usr/local all \\\n",
      "    && make prefix=/usr/local -j\"$(nproc --all)\" install \\\n",
      "    && cd .. && rm -f git-$GIT_VER.tar.gz && rm -rf git-$GIT_VER\n",
      "\n",
      "# Makes git use https by default\n",
      "RUN git config --global url.\"https://\".insteadOf git://\n",
      "\n",
      "# Julia\n",
      "ENV JULIA_VER_MAJ 1.0\n",
      "ENV JULIA_VER_MIN .1\n",
      "ENV JULIA_VER $JULIA_VER_MAJ$JULIA_VER_MIN\n",
      "\n",
      "RUN wget https://julialang-s3.julialang.org/bin/linux/x64/$JULIA_VER_MAJ/julia-$JULIA_VER-linux-x86_64.tar.gz \\\n",
      "    && mkdir /usr/local/julia \\\n",
      "    && tar xf julia-$JULIA_VER-linux-x86_64.tar.gz --directory /usr/local/julia --strip-components=1 \\\n",
      "    && ln -s /usr/local/julia/bin/julia /usr/local/bin/julia \\\n",
      "    && rm -f julia-$JULIA_VER-linux-x86_64.tar.gz\n",
      "\n",
      "ENV JULIA_PKGDIR /usr/local/julia/share/julia/site\n",
      "\n",
      "RUN julia -e 'using Pkg; \\\n",
      "    Pkg.add([ \\\n",
      "    PackageSpec(url=\"https://github.com/OpenMendel/SnpArrays.jl.git\", rev=\"juliav0.7\"), \\\n",
      "    PackageSpec(url=\"https://github.com/OpenMendel/PolrModels.jl.git\", rev=\"master\"), \\\n",
      "    PackageSpec(url=\"https://github.com/OpenMendel/PolrGWAS.jl.git\", rev=\"master\") \\\n",
      "    ]); \\\n",
      "    Pkg.test(\"PolrGWAS\");'\n"
     ]
    }
   ],
   "source": [
    ";cat ../docker/Dockerfile"
   ]
  },
  {
   "cell_type": "markdown",
   "metadata": {},
   "source": [
    "**Step 2**: Build a docker image `polrgwas-app`, assuming that the Dockerfile is located at `../docker` folder. Building the image for the first time can take up to 10 minutes; but it only needs to be done once."
   ]
  },
  {
   "cell_type": "code",
   "execution_count": 42,
   "metadata": {},
   "outputs": [
    {
     "name": "stdout",
     "output_type": "stream",
     "text": [
      "Sending build context to Docker daemon  3.584kB\n",
      "Step 1/15 : FROM centos:7\n",
      " ---> 75835a67d134\n",
      "Step 2/15 : WORKDIR /root\n",
      " ---> Using cache\n",
      " ---> f052f835f42d\n",
      "Step 3/15 : RUN yum update -y && yum install -y epel-release && yum clean all\n",
      " ---> Using cache\n",
      " ---> a75b6baa5581\n",
      "Step 4/15 : RUN yum update -y && yum install -y     cmake     curl-devel     expat-devel     gcc     gcc-c++     gcc-gfortran     gettext-devel     make     openssl     openssl098e     openssl-devel     patch     svn     wget     which     && yum clean all\n",
      " ---> Using cache\n",
      " ---> dcf0f6ba6334\n",
      "Step 5/15 : ENV PATH /usr/local/sbin:/usr/local/bin:$PATH\n",
      " ---> Using cache\n",
      " ---> 7861f46c17eb\n",
      "Step 6/15 : ENV LD_LIBRARY_PATH /usr/local/lib:/usr/local/lib64\n",
      " ---> Using cache\n",
      " ---> 4d3222181efc\n",
      "Step 7/15 : ENV GIT_VER 2.19.1\n",
      " ---> Using cache\n",
      " ---> b23c5cb67786\n",
      "Step 8/15 : RUN wget https://www.kernel.org/pub/software/scm/git/git-$GIT_VER.tar.gz     && tar xf git-$GIT_VER.tar.gz && cd git-$GIT_VER     && make -j\"$(nproc --all)\" prefix=/usr/local all     && make prefix=/usr/local -j\"$(nproc --all)\" install     && cd .. && rm -f git-$GIT_VER.tar.gz && rm -rf git-$GIT_VER\n",
      " ---> Using cache\n",
      " ---> 6beaafd797ec\n",
      "Step 9/15 : RUN git config --global url.\"https://\".insteadOf git://\n",
      " ---> Using cache\n",
      " ---> f1aec5dd453f\n",
      "Step 10/15 : ENV JULIA_VER_MAJ 1.0\n",
      " ---> Using cache\n",
      " ---> 42eb17d93684\n",
      "Step 11/15 : ENV JULIA_VER_MIN .1\n",
      " ---> Using cache\n",
      " ---> 4289e3f44a22\n",
      "Step 12/15 : ENV JULIA_VER $JULIA_VER_MAJ$JULIA_VER_MIN\n",
      " ---> Using cache\n",
      " ---> 2e9b9213c88c\n",
      "Step 13/15 : RUN wget https://julialang-s3.julialang.org/bin/linux/x64/$JULIA_VER_MAJ/julia-$JULIA_VER-linux-x86_64.tar.gz     && mkdir /usr/local/julia     && tar xf julia-$JULIA_VER-linux-x86_64.tar.gz --directory /usr/local/julia --strip-components=1     && ln -s /usr/local/julia/bin/julia /usr/local/bin/julia     && rm -f julia-$JULIA_VER-linux-x86_64.tar.gz\n",
      " ---> Using cache\n",
      " ---> 2510e817738a\n",
      "Step 14/15 : ENV JULIA_PKGDIR /usr/local/julia/share/julia/site\n",
      " ---> Using cache\n",
      " ---> 3692e40f50fa\n",
      "Step 15/15 : RUN julia -e 'using Pkg;     Pkg.add([     PackageSpec(url=\"https://github.com/OpenMendel/SnpArrays.jl.git\", rev=\"juliav0.7\"),     PackageSpec(url=\"https://github.com/OpenMendel/PolrModels.jl.git\", rev=\"master\"),     PackageSpec(url=\"https://github.com/OpenMendel/PolrGWAS.jl.git\", rev=\"master\")     ]);     Pkg.test(\"PolrGWAS\");'\n",
      " ---> Using cache\n",
      " ---> af7e8765610c\n",
      "Successfully built af7e8765610c\n",
      "Successfully tagged polrgwas-app:latest\n"
     ]
    }
   ],
   "source": [
    ";docker build -t polrgwas-app ../docker/"
   ]
  },
  {
   "cell_type": "markdown",
   "metadata": {},
   "source": [
    "**Step 3**: Suppose data files are located at `/Users/huazhou/.julia/dev/PolrGWAS/data` folder, run analysis by"
   ]
  },
  {
   "cell_type": "code",
   "execution_count": 43,
   "metadata": {
    "collapsed": true
   },
   "outputs": [],
   "source": [
    ";docker run -v /Users/huazhou/.julia/dev/PolrGWAS/data:/data -t polrgwas-app julia -e 'using PolrGWAS; polrgwas(@formula(trait ~ sex), \"/data/covariate.txt\", \"/data/hapmap3\", outfile=\"/data/polrgwas\");'"
   ]
  },
  {
   "cell_type": "markdown",
   "metadata": {},
   "source": [
    "Here  \n",
    "- `-t polrgwas-app` creates a container using the `polrgwas-app` image build in step 2.  \n",
    "- `-v /Users/huazhou/.julia/dev/PolrGWAS/data:/data` maps the `/Users/huazhou/.julia/dev/PolrGWAS/data` folder on host machine to the `/data` folder within the container. \n",
    "- `julia -e 'using PolrGWAS; polrgwas(@formula(trait ~ 0 + sex), \"/data/covariate.txt\", \"/data/hapmap3\", outfile=\"/data/polrgwas\");` calls Julia and runs `polrgwas` function. \n",
    "\n",
    "The output files are at `/Users/huazhou/.julia/dev/PolrGWAS/data`. "
   ]
  },
  {
   "cell_type": "code",
   "execution_count": 44,
   "metadata": {},
   "outputs": [
    {
     "name": "stdout",
     "output_type": "stream",
     "text": [
      "total 5320\n",
      "-rw-r--r--  1 huazhou  staff     6844 Nov 23 17:58 covariate.txt\n",
      "-rw-r--r--  1 huazhou  staff  1128171 Nov 23 17:58 hapmap3.bed\n",
      "-rw-r--r--  1 huazhou  staff   388672 Nov 23 17:58 hapmap3.bim\n",
      "-rw-r--r--  1 huazhou  staff     7136 Nov 23 17:58 hapmap3.fam\n",
      "-rw-r--r--  1 huazhou  staff   332960 Nov 23 17:58 hapmap3.map\n",
      "-rw-r--r--  1 huazhou  staff      347 Dec  1 23:06 polrgwas.nullmodel.txt\n",
      "-rw-r--r--  1 huazhou  staff   842401 Dec  1 23:06 polrgwas.scoretest.txt\n",
      "-rw-r--r--  1 huazhou  staff      773 Nov 23 17:58 simtrait.jl\n"
     ]
    }
   ],
   "source": [
    ";ls -l /Users/huazhou/.julia/dev/PolrGWAS/data/"
   ]
  },
  {
   "cell_type": "code",
   "execution_count": 45,
   "metadata": {
    "collapsed": true
   },
   "outputs": [],
   "source": [
    "# clean up\n",
    "rm(\"/Users/huazhou/.julia/dev/PolrGWAS/data/polrgwas.nullmodel.txt\")\n",
    "rm(\"/Users/huazhou/.julia/dev/PolrGWAS/data/polrgwas.scoretest.txt\")"
   ]
  }
 ],
 "metadata": {
  "kernelspec": {
   "display_name": "Julia 1.0.2",
   "language": "julia",
   "name": "julia-1.0"
  },
  "language_info": {
   "file_extension": ".jl",
   "mimetype": "application/julia",
   "name": "julia",
   "version": "1.0.2"
  },
  "toc": {
   "colors": {
    "hover_highlight": "#DAA520",
    "running_highlight": "#FF0000",
    "selected_highlight": "#FFD700"
   },
   "moveMenuLeft": true,
   "nav_menu": {
    "height": "30px",
    "width": "252px"
   },
   "navigate_menu": true,
   "number_sections": true,
   "sideBar": true,
   "threshold": 4,
   "toc_cell": false,
   "toc_section_display": "block",
   "toc_window_display": true,
   "widenNotebook": false
  }
 },
 "nbformat": 4,
 "nbformat_minor": 2
}
